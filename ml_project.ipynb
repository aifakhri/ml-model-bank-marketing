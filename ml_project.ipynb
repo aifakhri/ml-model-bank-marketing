{
 "cells": [
  {
   "cell_type": "code",
   "execution_count": 1,
   "metadata": {},
   "outputs": [],
   "source": [
    "import pandas as pd\n",
    "import numpy as np\n",
    "import seaborn as sns\n",
    "import matplotlib.pyplot as plt\n",
    "\n",
    "# Importing sklearn module for data processing\n",
    "from sklearn.model_selection import train_test_split, GridSearchCV\n",
    "from sklearn.impute import SimpleImputer\n",
    "from sklearn.dummy import DummyClassifier\n",
    "from sklearn.preprocessing import OneHotEncoder, StandardScaler\n",
    "\n",
    "# Importing ML Models\n",
    "from sklearn.neighbors import KNeighborsClassifier\n",
    "from sklearn.tree import DecisionTreeClassifier\n",
    "from sklearn.linear_model import LogisticRegression\n",
    "from sklearn.svm import SVC\n",
    "from sklearn.ensemble import (\n",
    "    RandomForestClassifier, AdaBoostClassifier,\n",
    "    GradientBoostingClassifier\n",
    ")\n",
    "\n",
    "# Importing Classfication Metrics\n",
    "from sklearn.metrics import (\n",
    "    confusion_matrix,  classification_report, f1_score,\n",
    "    precision_score, recall_score, accuracy_score, roc_curve, auc\n",
    ")\n",
    "\n",
    "# Importing SMOTE to balance the data\n",
    "from imblearn.over_sampling import SMOTE\n",
    "\n",
    "import warnings\n",
    "warnings.filterwarnings(\"ignore\")\n",
    "\n",
    "from copy import deepcopy"
   ]
  },
  {
   "cell_type": "code",
   "execution_count": 2,
   "metadata": {},
   "outputs": [],
   "source": [
    "plt.rcParams[\"figure.figsize\"] = (10, 7)\n",
    "plt.rcParams[\"font.size\"] = 16"
   ]
  },
  {
   "cell_type": "markdown",
   "metadata": {},
   "source": [
    "##### **Notes for the functions below**\n",
    "the \"argument: object\" and def \"->\" after function indicate annotation it won't affect the program at all."
   ]
  },
  {
   "cell_type": "code",
   "execution_count": 440,
   "metadata": {
    "tags": []
   },
   "outputs": [],
   "source": [
    "def initialSetup(fl_path: str) -> pd.DataFrame:\n",
    "    \"\"\"This is the initial setup of the program\n",
    "    \n",
    "    User just have to provide the path to the dataset.\n",
    "    The dataset should be in cv with \";\" delimiter only.\n",
    "\n",
    "    This function also check whether there are duplicates or not, then\n",
    "    notify the user. If there are duplicates the function will remove\n",
    "    duplicates until there are no longer duplicates.\n",
    "    \"\"\"\n",
    "\n",
    "    # Read the data based on its filepath\n",
    "    data = pd.read_csv(fl_path, delimiter=\";\")\n",
    "\n",
    "    # Copy data for sanity check\n",
    "    copy_data = data.copy()\n",
    "\n",
    "    # Get duplicates by looping through the data until there is no duplicate\n",
    "    n_duplicates = data.duplicated(keep=False).sum()\n",
    "    while n_duplicates != 0:\n",
    "        print(f\"There are duplicates. Total duplicates: {n_duplicates}\\n\"\n",
    "              +\"Cleaning Duplicates....\\n\")\n",
    "        data.drop_duplicates(keep=\"first\", inplace=True)\n",
    "\n",
    "        # Re-evaluate number of duplicates\n",
    "        n_duplicates = data.duplicated(keep=False).sum()\n",
    "\n",
    "    print(\"No duplicates in the data\")\n",
    "\n",
    "    # Running Sanity Check for data shape\n",
    "    return data\n"
   ]
  },
  {
   "cell_type": "code",
   "execution_count": 439,
   "metadata": {
    "tags": []
   },
   "outputs": [],
   "source": [
    "def splittingData(data: pd.DataFrame, target: str) -> tuple:\n",
    "    \"\"\"Splitting Data Workflow\n",
    "    \n",
    "    This function is used to split the input and output data.\n",
    "    Also to split the input-output data into train data and test data.\n",
    "    The data would be distributed to the test data by 30% and 70% for\n",
    "    the train data.\n",
    "\n",
    "    We use margin error by 5% of the test size to give space for error\n",
    "    when the data is splitted.\n",
    "    \"\"\"\n",
    "\n",
    "    # defining test data proportion, margin error to make sure split the proportion\n",
    "    # will not more or less than 5% of the defined proportion\n",
    "    margin_error = 0.05\n",
    "    test_size = 0.3\n",
    "\n",
    "    # Get total variable from the entire data\n",
    "    total_variables = len(data.columns)\n",
    "\n",
    "    # Separate Independent Variable (Input) and target variable (output)\n",
    "    # Common convention X is input, y is output\n",
    "    y = data[target]\n",
    "    X = data.drop(target, axis=1)\n",
    "\n",
    "    # Sanity Check Input-Output\n",
    "    # output data should only contain one column\n",
    "    # input data should contain the rest of variable (total_variable-1)\n",
    "    if (len(X.columns) == total_variables-1) \\\n",
    "        or (len(y.shape) == 1):\n",
    "        print(\"Splitting Input-Output success\")\n",
    "    else:\n",
    "        print(\"Splitting Input-Ouput failed\")\n",
    "        return None\n",
    "\n",
    "    # Use the input and output data to split train and test data\n",
    "    X_train, X_test, y_train, y_test = train_test_split(X, y,\n",
    "                                                        test_size=test_size,\n",
    "                                                        stratify=y,\n",
    "                                                        random_state=123)\n",
    "\n",
    "    # Sanity Check for Train Split Data\n",
    "    print(\"Sanity Check for Train and Test data shape...\\n\"\n",
    "          +f\"X_train data shape: {X_train.shape}\\n\"\n",
    "          +f\"X_test data shape: {X_test.shape}\\n\")\n",
    "    \n",
    "    # Create margin error of splitting result\n",
    "    low_threshold = test_size-(test_size*margin_error)\n",
    "    upper_threshold = test_size+(test_size*margin_error)\n",
    "\n",
    "    # Define the test size ratio after data is splitted\n",
    "    test_size_ratio = X_test.shape[0]/X.shape[0]\n",
    "\n",
    "    # Sanity Check for Ratio\n",
    "    print(\"Sanity Check for Train and Test data proportion....\")\n",
    "    if (test_size_ratio > low_threshold) \\\n",
    "        or (test_size_ratio < upper_threshold):\n",
    "        print(f\"Defined ratio: {test_size}\\n\"\n",
    "              f\"Ratio after splitting: {test_size_ratio}\\n\"\n",
    "              +\"Splitting proportion is similar\")\n",
    "    else:\n",
    "        print(f\"Defined ratio: {test_size}\\n\"\n",
    "              f\"Ratio after splitting: {test_size_ratio}\\n\"\n",
    "              +\"Splitting proportion is different\")\n",
    "\n",
    "    return X_train, X_test, y_train, y_test"
   ]
  },
  {
   "cell_type": "code",
   "execution_count": 441,
   "metadata": {},
   "outputs": [],
   "source": [
    "def numericalImputer(data: pd.DataFrame, \n",
    "                     numerical_columns: list) -> tuple:\n",
    "    \"\"\"Numerical data preprocessing\n",
    "\n",
    "    Preprocessing numerical data for train data with simple imputer.\n",
    "    SimpleImputer object will be created to be used for the test data.\n",
    "    \"\"\"\n",
    "\n",
    "    numerical_data = data[numerical_columns]\n",
    "\n",
    "    # Creating imputer object and fitting the data\n",
    "    imputer = SimpleImputer(missing_values=np.nan,\n",
    "                            strategy=\"median\")\n",
    "    imputer.fit(numerical_data)\n",
    "\n",
    "    # Transform imputed data and turn it into Pandas DataFrame\n",
    "    imputed_data = imputer.transform(numerical_data)\n",
    "    imputed_data = pd.DataFrame(data=imputed_data,\n",
    "                                index=numerical_data.index,\n",
    "                                columns=numerical_data.columns)\n",
    "\n",
    "    return imputed_data, imputer"
   ]
  },
  {
   "cell_type": "code",
   "execution_count": 6,
   "metadata": {},
   "outputs": [],
   "source": [
    "def categoricalImputer(data: pd.DataFrame, \n",
    "                       categorical_columns: list) -> tuple:\n",
    "    \"\"\"Categorical data preprocessing\n",
    "\n",
    "    Preprocessing categorical data for train data with simpleImputer and ohe.\n",
    "    simpleImputer and ohe encoder object will be created for the test data.\n",
    "    \"\"\"\n",
    "\n",
    "    # Get Categorical Data\n",
    "    categorical_data = data[categorical_columns]\n",
    "    \n",
    "    # 1. Handling missing value - SimpleImputer\n",
    "    # Create imputer object and fitting the categorical data\n",
    "    imputer = SimpleImputer(missing_values=np.nan,\n",
    "                            strategy=\"constant\",\n",
    "                            fill_value = \"Unknown\")\n",
    "    imputer.fit(categorical_data)\n",
    "    \n",
    "    imputed_data = imputer.transform(categorical_data)\n",
    "    imputed_data = pd.DataFrame(data=imputed_data,\n",
    "                                index=categorical_data.index,\n",
    "                                columns=categorical_data.columns)\n",
    "\n",
    "    # 2. Encode categorical ata\n",
    "    # Create encoder object and fit the data\n",
    "    ohe_encoder = OneHotEncoder(handle_unknown=\"ignore\", drop=\"if_binary\")\n",
    "    ohe_encoder.fit(imputed_data)\n",
    "\n",
    "    # Get encoder columns\n",
    "    ohe_encoder_columns = ohe_encoder \\\n",
    "                          .get_feature_names_out(imputed_data.columns)\n",
    "\n",
    "    # Tranfsorm categorical data\n",
    "    data_encoded = ohe_encoder.transform(imputed_data).toarray()\n",
    "    data_encoded = pd.DataFrame(data=data_encoded,\n",
    "                                index=imputed_data.index,\n",
    "                                columns=ohe_encoder_columns)\n",
    "\n",
    "    return data_encoded, imputer, ohe_encoder, ohe_encoder_columns"
   ]
  },
  {
   "cell_type": "code",
   "execution_count": 7,
   "metadata": {},
   "outputs": [],
   "source": [
    "def dataStandarization(data: pd.DataFrame) -> tuple:\n",
    "    \"\"\"Standardizing data\n",
    "    \n",
    "    Standardized train data and create scaler object for test data preprocess\n",
    "    \"\"\"\n",
    "\n",
    "    # Create scaler object\n",
    "    scaler = StandardScaler()\n",
    "    scaler.fit(data)\n",
    "\n",
    "    # Standardized train data\n",
    "    scaler_transformation = scaler.transform(data)\n",
    "    standardized_data = pd.DataFrame(data=scaler_transformation,\n",
    "                                     index=data.index,\n",
    "                                     columns=data.columns)\n",
    "\n",
    "    return standardized_data, scaler"
   ]
  },
  {
   "cell_type": "code",
   "execution_count": 442,
   "metadata": {},
   "outputs": [],
   "source": [
    "def testDataProcessing(data: pd.DataFrame,\n",
    "                       numerical_columns: list,\n",
    "                       categorical_columns: list,\n",
    "                       encoder_columns: list,\n",
    "                       numerical_imputer: SimpleImputer,\n",
    "                       categorical_imputer: SimpleImputer,\n",
    "                       encoder: OneHotEncoder,\n",
    "                       scaler: StandardScaler) -> pd.DataFrame:\n",
    "    \"\"\"Data pre-processing\n",
    "\n",
    "    This is the process of preprocessing the test data.\n",
    "    The function will preprocess the numerical data first, followed by\n",
    "    the categorical data.\n",
    "    \"\"\"\n",
    "    \n",
    "    numerical_data = data[numerical_columns]\n",
    "    categorical_data = data[categorical_columns]\n",
    "\n",
    "    # Numerical Data Preprocessing\n",
    "    # Handling missing value - Numerical Data\n",
    "    num_imputed_data = numerical_imputer.transform(numerical_data)\n",
    "    num_imputed_data = pd.DataFrame(data=num_imputed_data,\n",
    "                                    index=numerical_data.index,\n",
    "                                    columns=numerical_data.columns)\n",
    "\n",
    "    # Categorical Data Preprocessing\n",
    "    # 1. Handling Missiong Value - Categorical Data\n",
    "    cat_imputed_data = categorical_imputer.transform(categorical_data)\n",
    "    cat_imputed_data = pd.DataFrame(data=cat_imputed_data,\n",
    "                                    index=categorical_data.index,\n",
    "                                    columns=categorical_data.columns)\n",
    "    \n",
    "    # 2. Categorical Data Encoding\n",
    "    cat_encode_data = encoder.transform(cat_imputed_data).toarray()\n",
    "    cat_encode_data = pd.DataFrame(data=cat_encode_data,\n",
    "                                   index=categorical_data.index,\n",
    "                                   columns=encoder_columns)\n",
    "    \n",
    "    # Concat data numerical and categorical\n",
    "    data_combined = pd.concat([num_imputed_data, cat_encode_data], axis=1)\n",
    "\n",
    "    # Finalizing Test Data Preprocessing by scaling the data\n",
    "    data_cleaned = scaler.transform(data_combined)\n",
    "\n",
    "    # Change the scaled data into pandas data frame.\n",
    "    data_cleaned = pd.DataFrame(data=data_cleaned,\n",
    "                                index=data_combined.index,\n",
    "                                columns=data_combined.columns)\n",
    "\n",
    "    return data_cleaned\n",
    "    "
   ]
  },
  {
   "cell_type": "code",
   "execution_count": 443,
   "metadata": {},
   "outputs": [],
   "source": [
    "def modelCrossValidation(classifier, \n",
    "                         hyper_param: dict,\n",
    "                         input_data: pd.DataFrame,\n",
    "                         output_data: pd.DataFrame) -> tuple:\n",
    "    \"\"\"This is a function for cross validation\n",
    "    \n",
    "    The function will handle the cross-validation process with\n",
    "    GridSearchCV.\n",
    "\n",
    "    The classifier argument don't have annotate but it will handle\n",
    "    Any classifier objects that has been created for\n",
    "    the cross validation purpose.\n",
    "    \"\"\"\n",
    "    \n",
    "    cv_object = GridSearchCV(estimator=classifier,\n",
    "                             param_grid=hyper_param,\n",
    "                             n_jobs=-1,\n",
    "                             cv=10)\n",
    "\n",
    "    # Fit the model\n",
    "    cv_object.fit(input_data, output_data)\n",
    "\n",
    "    return cv_object"
   ]
  },
  {
   "cell_type": "code",
   "execution_count": 446,
   "metadata": {},
   "outputs": [],
   "source": [
    "def modelPredictionResult(classifier, \n",
    "                          input_data: pd.DataFrame,\n",
    "                          output_data: pd.DataFrame):\n",
    "    \"\"\"This function is used to predict models in binary mode\n",
    "\n",
    "    The classifier don't have annotation because it will handle\n",
    "    any sklearn classifier that is needed for prediction.\n",
    "\n",
    "    The input_data can be X_train or X_test data.\n",
    "    The output_data can be y_train or y_test data.\n",
    "\n",
    "    The function will print the confusion matrix and the classifcation report.\n",
    "\n",
    "    The function will return the prediction results to be used later for\n",
    "    determining classification score and aucroc curve.\n",
    "    \"\"\"\n",
    "\n",
    "    # 1. Get Prediction Result\n",
    "    model_prediction = classifier.predict(input_data)\n",
    "\n",
    "    # 2. Get Confusion Matrix\n",
    "    cm = confusion_matrix(y_true=output_data,\n",
    "                          y_pred=model_prediction)\n",
    "\n",
    "    print(\"Confision Matrix\")\n",
    "    print(f\"[True Negative: {cm[0, 0]}    False Negative: {cm[0,1]}]\\n\"\n",
    "          f\"[False Positive: {cm[1, 0]}   True Positive: {cm[1,1]}]\\n\")\n",
    "    \n",
    "    # 3. Get CLassification Report\n",
    "    print(\"\\nClassification Report\")\n",
    "    print(classification_report(y_true=output_data,\n",
    "                                y_pred=model_prediction,\n",
    "                                target_names=[\"no\", \"yes\"]))\n",
    "    \n",
    "    return model_prediction"
   ]
  },
  {
   "cell_type": "code",
   "execution_count": 449,
   "metadata": {},
   "outputs": [],
   "source": [
    "def classScore(model_prediction,\n",
    "               output_data: pd.DataFrame)-> dict:\n",
    "    \"\"\"The Function is used to get the classification score\n",
    "\n",
    "    The model prediction can be from any model prediction result\n",
    "    that is generated by the classifier.\n",
    "    \n",
    "    The model prediction is used to generate classification scores: \n",
    "        - Accuracy\n",
    "        - Recall\n",
    "        - F1-Score\n",
    "        - Precision\n",
    "\n",
    "    Then those score will be printed and then stored in dictionary\n",
    "    for the future use.\n",
    "\n",
    "    The output data can be y_train or y_test data\n",
    "    \"\"\"\n",
    "     # 2. Classification Score Summary\n",
    "    score_summary = {}\n",
    "    score_summary[\"accuracy\"] = accuracy_score(y_true=output_data,\n",
    "                                               y_pred=model_prediction)\n",
    "    score_summary[\"recall\"] = recall_score(y_true=output_data,\n",
    "                                           y_pred=model_prediction)\n",
    "    score_summary[\"f1_score\"] = f1_score(y_true=output_data,\n",
    "                                         y_pred=model_prediction)\n",
    "    score_summary[\"precision\"] = precision_score(y_true=output_data,\n",
    "                                                 y_pred=model_prediction)\n",
    "    # Printing score results\n",
    "    print(\"Classification Score Summary\")\n",
    "    print(\"Classifier Accuracy score: \", score_summary[\"accuracy\"])\n",
    "    print(\"Classifier Recall score: \", score_summary[\"recall\"])\n",
    "    print(\"Classifier f1-score: \", score_summary[\"f1_score\"])\n",
    "    print(\"Classifier precision: \", score_summary[\"precision\"])\n",
    "\n",
    "    return score_summary"
   ]
  },
  {
   "cell_type": "code",
   "execution_count": 448,
   "metadata": {},
   "outputs": [],
   "source": [
    "def rocAucResult(model_prediction,\n",
    "                 output_data: pd.DataFrame)-> dict:\n",
    "    \"\"\"This function is used to display the roc curve\n",
    "\n",
    "    The model prediction can be any prediction from any classifier\n",
    "    that has been created for the purpose of generating fpr, tpr and threshold\n",
    "    These information are used to display the ROC Curve.\n",
    "\n",
    "    The FPR, TPR and ROC_AUC values are stored in dictionary for future used.\n",
    "\n",
    "    The output data can be y_train or y_test data.\n",
    "    \"\"\"\n",
    "    \n",
    "    results = {}\n",
    "\n",
    "    fpr, tpr, threshold = roc_curve(output_data,\n",
    "                                    model_prediction)\n",
    "    roc_auc = auc(fpr, tpr)\n",
    "\n",
    "    plt.title('Receiver Operating Characteristic')\n",
    "    plt.plot(fpr, tpr, 'b', label = 'AUC = %0.2f' % roc_auc)\n",
    "    plt.legend(loc = 'lower right')\n",
    "    plt.plot([0, 1], [0, 1],'r--')\n",
    "    plt.xlim([0, 1])\n",
    "    plt.ylim([0, 1])\n",
    "    plt.ylabel('True Positive Rate')\n",
    "    plt.xlabel('False Positive Rate')\n",
    "    plt.show()\n",
    "\n",
    "    results[\"fpr\"] = fpr\n",
    "    results[\"tpr\"] = tpr\n",
    "    results[\"roc_auc\"] = roc_auc\n",
    "\n",
    "    return results"
   ]
  },
  {
   "cell_type": "markdown",
   "metadata": {},
   "source": [
    "## Load the Data and Perform Simple Checking"
   ]
  },
  {
   "cell_type": "code",
   "execution_count": 13,
   "metadata": {},
   "outputs": [
    {
     "name": "stdout",
     "output_type": "stream",
     "text": [
      "There are duplicates. Total duplicates: 24\n",
      "Cleaning Duplicates....\n",
      "\n",
      "No duplicates in the data\n"
     ]
    }
   ],
   "source": [
    "bank_df = initialSetup(\"bank-additional-full.csv\")"
   ]
  },
  {
   "cell_type": "markdown",
   "metadata": {},
   "source": [
    "##### **Notes:** As per recommendation from the dataset the 'duration' feature should be dropped to avoid data leakage"
   ]
  },
  {
   "cell_type": "code",
   "execution_count": 14,
   "metadata": {},
   "outputs": [
    {
     "data": {
      "text/plain": [
       "(41176, 20)"
      ]
     },
     "execution_count": 14,
     "metadata": {},
     "output_type": "execute_result"
    }
   ],
   "source": [
    "## As per dataset recommendation we would like to drop duration variable\n",
    "bank_df.drop(columns=[\"duration\"], inplace=True)\n",
    "bank_df.shape"
   ]
  },
  {
   "cell_type": "markdown",
   "metadata": {},
   "source": [
    "## Split Data"
   ]
  },
  {
   "cell_type": "code",
   "execution_count": 15,
   "metadata": {},
   "outputs": [
    {
     "name": "stdout",
     "output_type": "stream",
     "text": [
      "Splitting Input-Output success\n",
      "Sanity Check for Train and Test data shape...\n",
      "X_train data shape: (28823, 19)\n",
      "X_test data shape: (12353, 19)\n",
      "\n",
      "Sanity Check for Train and Test data proportion....\n",
      "Defined ratio: 0.3\n",
      "Ratio after splitting: 0.300004857198368\n",
      "Splitting proportion is similar\n"
     ]
    }
   ],
   "source": [
    "# Train Test Split\n",
    "X_train, X_test, y_train, y_test = splittingData(data=bank_df, target=\"y\")"
   ]
  },
  {
   "cell_type": "code",
   "execution_count": 16,
   "metadata": {},
   "outputs": [
    {
     "data": {
      "text/html": [
       "<div>\n",
       "<style scoped>\n",
       "    .dataframe tbody tr th:only-of-type {\n",
       "        vertical-align: middle;\n",
       "    }\n",
       "\n",
       "    .dataframe tbody tr th {\n",
       "        vertical-align: top;\n",
       "    }\n",
       "\n",
       "    .dataframe thead th {\n",
       "        text-align: right;\n",
       "    }\n",
       "</style>\n",
       "<table border=\"1\" class=\"dataframe\">\n",
       "  <thead>\n",
       "    <tr style=\"text-align: right;\">\n",
       "      <th></th>\n",
       "      <th>age</th>\n",
       "      <th>job</th>\n",
       "      <th>marital</th>\n",
       "      <th>education</th>\n",
       "      <th>default</th>\n",
       "      <th>housing</th>\n",
       "      <th>loan</th>\n",
       "      <th>contact</th>\n",
       "      <th>month</th>\n",
       "      <th>day_of_week</th>\n",
       "      <th>campaign</th>\n",
       "      <th>pdays</th>\n",
       "      <th>previous</th>\n",
       "      <th>poutcome</th>\n",
       "      <th>emp.var.rate</th>\n",
       "      <th>cons.price.idx</th>\n",
       "      <th>cons.conf.idx</th>\n",
       "      <th>euribor3m</th>\n",
       "      <th>nr.employed</th>\n",
       "    </tr>\n",
       "  </thead>\n",
       "  <tbody>\n",
       "    <tr>\n",
       "      <th>31748</th>\n",
       "      <td>35</td>\n",
       "      <td>blue-collar</td>\n",
       "      <td>married</td>\n",
       "      <td>basic.4y</td>\n",
       "      <td>no</td>\n",
       "      <td>yes</td>\n",
       "      <td>yes</td>\n",
       "      <td>cellular</td>\n",
       "      <td>may</td>\n",
       "      <td>thu</td>\n",
       "      <td>1</td>\n",
       "      <td>999</td>\n",
       "      <td>0</td>\n",
       "      <td>nonexistent</td>\n",
       "      <td>-1.8</td>\n",
       "      <td>92.893</td>\n",
       "      <td>-46.2</td>\n",
       "      <td>1.327</td>\n",
       "      <td>5099.1</td>\n",
       "    </tr>\n",
       "    <tr>\n",
       "      <th>26671</th>\n",
       "      <td>29</td>\n",
       "      <td>technician</td>\n",
       "      <td>single</td>\n",
       "      <td>professional.course</td>\n",
       "      <td>unknown</td>\n",
       "      <td>yes</td>\n",
       "      <td>no</td>\n",
       "      <td>cellular</td>\n",
       "      <td>nov</td>\n",
       "      <td>thu</td>\n",
       "      <td>1</td>\n",
       "      <td>999</td>\n",
       "      <td>0</td>\n",
       "      <td>nonexistent</td>\n",
       "      <td>-0.1</td>\n",
       "      <td>93.200</td>\n",
       "      <td>-42.0</td>\n",
       "      <td>4.076</td>\n",
       "      <td>5195.8</td>\n",
       "    </tr>\n",
       "  </tbody>\n",
       "</table>\n",
       "</div>"
      ],
      "text/plain": [
       "       age          job  marital            education  default housing loan  \\\n",
       "31748   35  blue-collar  married             basic.4y       no     yes  yes   \n",
       "26671   29   technician   single  professional.course  unknown     yes   no   \n",
       "\n",
       "        contact month day_of_week  campaign  pdays  previous     poutcome  \\\n",
       "31748  cellular   may         thu         1    999         0  nonexistent   \n",
       "26671  cellular   nov         thu         1    999         0  nonexistent   \n",
       "\n",
       "       emp.var.rate  cons.price.idx  cons.conf.idx  euribor3m  nr.employed  \n",
       "31748          -1.8          92.893          -46.2      1.327       5099.1  \n",
       "26671          -0.1          93.200          -42.0      4.076       5195.8  "
      ]
     },
     "execution_count": 16,
     "metadata": {},
     "output_type": "execute_result"
    }
   ],
   "source": [
    "X_train.head(2)"
   ]
  },
  {
   "cell_type": "markdown",
   "metadata": {},
   "source": [
    "This is a classification case, we want to check the output data proportion first"
   ]
  },
  {
   "cell_type": "code",
   "execution_count": 17,
   "metadata": {},
   "outputs": [
    {
     "data": {
      "text/plain": [
       "no     0.887347\n",
       "yes    0.112653\n",
       "Name: y, dtype: float64"
      ]
     },
     "execution_count": 17,
     "metadata": {},
     "output_type": "execute_result"
    }
   ],
   "source": [
    "y_train.value_counts(normalize=True)"
   ]
  },
  {
   "cell_type": "markdown",
   "metadata": {},
   "source": [
    "Converting y_train & y_train value:\n",
    "\n",
    "no = call unseccessful = 0\n",
    "\n",
    "yes = call success = 1"
   ]
  },
  {
   "cell_type": "code",
   "execution_count": 18,
   "metadata": {
    "tags": []
   },
   "outputs": [],
   "source": [
    "y_train = y_train.apply(lambda x: 1 if x == \"yes\" else 0)\n",
    "y_test = y_test.apply(lambda x: 1 if x == \"yes\" else 0)"
   ]
  },
  {
   "cell_type": "markdown",
   "metadata": {},
   "source": [
    "**Notes: Data is imbalanced**"
   ]
  },
  {
   "cell_type": "markdown",
   "metadata": {
    "tags": []
   },
   "source": [
    "## **EDA - Exploratory Data Analysis**"
   ]
  },
  {
   "cell_type": "markdown",
   "metadata": {},
   "source": [
    "#### Data Preparation"
   ]
  },
  {
   "cell_type": "code",
   "execution_count": 19,
   "metadata": {
    "tags": []
   },
   "outputs": [],
   "source": [
    "categorical_columns = [\n",
    "    \"job\", \"marital\", \"education\", \"default\", \"housing\",\n",
    "    \"loan\", \"contact\", \"month\", \"day_of_week\", \"poutcome\",\n",
    "]\n",
    "\n",
    "numerical_columns = [\n",
    "    \"age\", \"campaign\", \"pdays\", \"previous\", \"emp.var.rate\", \n",
    "    \"cons.price.idx\", \"cons.conf.idx\", \"euribor3m\", \"nr.employed\",\n",
    "]"
   ]
  },
  {
   "cell_type": "code",
   "execution_count": 20,
   "metadata": {},
   "outputs": [],
   "source": [
    "eda_cat = X_train[categorical_columns]"
   ]
  },
  {
   "cell_type": "code",
   "execution_count": 21,
   "metadata": {},
   "outputs": [],
   "source": [
    "eda_cat[\"y\"] = deepcopy(y_train)"
   ]
  },
  {
   "cell_type": "code",
   "execution_count": 22,
   "metadata": {},
   "outputs": [
    {
     "data": {
      "text/plain": [
       "0"
      ]
     },
     "execution_count": 22,
     "metadata": {},
     "output_type": "execute_result"
    }
   ],
   "source": [
    "eda_cat.isnull().any().sum()"
   ]
  },
  {
   "cell_type": "markdown",
   "metadata": {},
   "source": [
    "#### Categorical data"
   ]
  },
  {
   "cell_type": "code",
   "execution_count": 23,
   "metadata": {},
   "outputs": [
    {
     "data": {
      "image/png": "[encoded data removed]",
      "text/plain": [
       "<Figure size 2160x720 with 10 Axes>"
      ]
     },
     "metadata": {
      "needs_background": "light"
     },
     "output_type": "display_data"
    }
   ],
   "source": [
    "fig, ax = plt.subplots(2, 5, figsize=(30,10))\n",
    "for i, category in enumerate(categorical_columns):\n",
    "    if i > 4:\n",
    "        sns.countplot(x=category, hue=\"y\", data=eda_cat, ax=ax[0, i-5])\n",
    "    else:\n",
    "        sns.countplot(x=category, hue=\"y\", data=eda_cat, ax=ax[1, i])\n",
    "        ax[1, i].set_xticklabels(ax[1, i].get_xticklabels(), rotation=45, ha=\"right\")"
   ]
  },
  {
   "cell_type": "markdown",
   "metadata": {},
   "source": [
    "#### Numerical Data"
   ]
  },
  {
   "cell_type": "code",
   "execution_count": 24,
   "metadata": {},
   "outputs": [],
   "source": [
    "eda_num = X_train[numerical_columns]\n",
    "eda_num[\"y\"] = deepcopy(y_train)"
   ]
  },
  {
   "cell_type": "code",
   "execution_count": 25,
   "metadata": {},
   "outputs": [
    {
     "data": {
      "image/png": "[encoded data removed]",
      "text/plain": [
       "<Figure size 2160x720 with 10 Axes>"
      ]
     },
     "metadata": {
      "needs_background": "light"
     },
     "output_type": "display_data"
    }
   ],
   "source": [
    "fig, ax = plt.subplots(2, 5, figsize=(30,10))\n",
    "for i, category in enumerate(numerical_columns):\n",
    "    if i < 5:\n",
    "        sns.boxplot(y=category, x=\"y\", data=eda_num, ax=ax[0, i])\n",
    "    else:\n",
    "        sns.boxplot(y=category, x=\"y\", data=eda_num, ax=ax[1, i-5])"
   ]
  },
  {
   "cell_type": "markdown",
   "metadata": {
    "tags": []
   },
   "source": [
    "## **Data Preprocessing - Train Data**"
   ]
  },
  {
   "cell_type": "markdown",
   "metadata": {},
   "source": [
    "### **Numerical Data Preprocessing**"
   ]
  },
  {
   "cell_type": "code",
   "execution_count": 26,
   "metadata": {},
   "outputs": [],
   "source": [
    "# handling numerical data\n",
    "X_train_num, num_imputer = numericalImputer(data=X_train,\n",
    "                                            numerical_columns=numerical_columns)"
   ]
  },
  {
   "cell_type": "code",
   "execution_count": 27,
   "metadata": {},
   "outputs": [
    {
     "data": {
      "text/plain": [
       "(28823, 9)"
      ]
     },
     "execution_count": 27,
     "metadata": {},
     "output_type": "execute_result"
    }
   ],
   "source": [
    "X_train_num.shape"
   ]
  },
  {
   "cell_type": "markdown",
   "metadata": {},
   "source": [
    "### **Categorical Data Preprocessing**"
   ]
  },
  {
   "cell_type": "code",
   "execution_count": 28,
   "metadata": {},
   "outputs": [],
   "source": [
    "X_train_cat, cat_imputer, ohe_encoder, encoder_col = categoricalImputer(\n",
    "    data=X_train, categorical_columns=categorical_columns\n",
    ")"
   ]
  },
  {
   "cell_type": "code",
   "execution_count": 29,
   "metadata": {},
   "outputs": [
    {
     "data": {
      "text/html": [
       "<div>\n",
       "<style scoped>\n",
       "    .dataframe tbody tr th:only-of-type {\n",
       "        vertical-align: middle;\n",
       "    }\n",
       "\n",
       "    .dataframe tbody tr th {\n",
       "        vertical-align: top;\n",
       "    }\n",
       "\n",
       "    .dataframe thead th {\n",
       "        text-align: right;\n",
       "    }\n",
       "</style>\n",
       "<table border=\"1\" class=\"dataframe\">\n",
       "  <thead>\n",
       "    <tr style=\"text-align: right;\">\n",
       "      <th></th>\n",
       "      <th>job_admin.</th>\n",
       "      <th>job_blue-collar</th>\n",
       "      <th>job_entrepreneur</th>\n",
       "      <th>job_housemaid</th>\n",
       "      <th>job_management</th>\n",
       "      <th>job_retired</th>\n",
       "      <th>job_self-employed</th>\n",
       "      <th>job_services</th>\n",
       "      <th>job_student</th>\n",
       "      <th>job_technician</th>\n",
       "      <th>...</th>\n",
       "      <th>month_oct</th>\n",
       "      <th>month_sep</th>\n",
       "      <th>day_of_week_fri</th>\n",
       "      <th>day_of_week_mon</th>\n",
       "      <th>day_of_week_thu</th>\n",
       "      <th>day_of_week_tue</th>\n",
       "      <th>day_of_week_wed</th>\n",
       "      <th>poutcome_failure</th>\n",
       "      <th>poutcome_nonexistent</th>\n",
       "      <th>poutcome_success</th>\n",
       "    </tr>\n",
       "  </thead>\n",
       "  <tbody>\n",
       "    <tr>\n",
       "      <th>31748</th>\n",
       "      <td>0.0</td>\n",
       "      <td>1.0</td>\n",
       "      <td>0.0</td>\n",
       "      <td>0.0</td>\n",
       "      <td>0.0</td>\n",
       "      <td>0.0</td>\n",
       "      <td>0.0</td>\n",
       "      <td>0.0</td>\n",
       "      <td>0.0</td>\n",
       "      <td>0.0</td>\n",
       "      <td>...</td>\n",
       "      <td>0.0</td>\n",
       "      <td>0.0</td>\n",
       "      <td>0.0</td>\n",
       "      <td>0.0</td>\n",
       "      <td>1.0</td>\n",
       "      <td>0.0</td>\n",
       "      <td>0.0</td>\n",
       "      <td>0.0</td>\n",
       "      <td>1.0</td>\n",
       "      <td>0.0</td>\n",
       "    </tr>\n",
       "    <tr>\n",
       "      <th>26671</th>\n",
       "      <td>0.0</td>\n",
       "      <td>0.0</td>\n",
       "      <td>0.0</td>\n",
       "      <td>0.0</td>\n",
       "      <td>0.0</td>\n",
       "      <td>0.0</td>\n",
       "      <td>0.0</td>\n",
       "      <td>0.0</td>\n",
       "      <td>0.0</td>\n",
       "      <td>1.0</td>\n",
       "      <td>...</td>\n",
       "      <td>0.0</td>\n",
       "      <td>0.0</td>\n",
       "      <td>0.0</td>\n",
       "      <td>0.0</td>\n",
       "      <td>1.0</td>\n",
       "      <td>0.0</td>\n",
       "      <td>0.0</td>\n",
       "      <td>0.0</td>\n",
       "      <td>1.0</td>\n",
       "      <td>0.0</td>\n",
       "    </tr>\n",
       "    <tr>\n",
       "      <th>39007</th>\n",
       "      <td>0.0</td>\n",
       "      <td>0.0</td>\n",
       "      <td>0.0</td>\n",
       "      <td>0.0</td>\n",
       "      <td>1.0</td>\n",
       "      <td>0.0</td>\n",
       "      <td>0.0</td>\n",
       "      <td>0.0</td>\n",
       "      <td>0.0</td>\n",
       "      <td>0.0</td>\n",
       "      <td>...</td>\n",
       "      <td>0.0</td>\n",
       "      <td>0.0</td>\n",
       "      <td>0.0</td>\n",
       "      <td>0.0</td>\n",
       "      <td>0.0</td>\n",
       "      <td>0.0</td>\n",
       "      <td>1.0</td>\n",
       "      <td>0.0</td>\n",
       "      <td>1.0</td>\n",
       "      <td>0.0</td>\n",
       "    </tr>\n",
       "    <tr>\n",
       "      <th>30262</th>\n",
       "      <td>0.0</td>\n",
       "      <td>0.0</td>\n",
       "      <td>1.0</td>\n",
       "      <td>0.0</td>\n",
       "      <td>0.0</td>\n",
       "      <td>0.0</td>\n",
       "      <td>0.0</td>\n",
       "      <td>0.0</td>\n",
       "      <td>0.0</td>\n",
       "      <td>0.0</td>\n",
       "      <td>...</td>\n",
       "      <td>0.0</td>\n",
       "      <td>0.0</td>\n",
       "      <td>0.0</td>\n",
       "      <td>0.0</td>\n",
       "      <td>1.0</td>\n",
       "      <td>0.0</td>\n",
       "      <td>0.0</td>\n",
       "      <td>0.0</td>\n",
       "      <td>1.0</td>\n",
       "      <td>0.0</td>\n",
       "    </tr>\n",
       "    <tr>\n",
       "      <th>16695</th>\n",
       "      <td>0.0</td>\n",
       "      <td>0.0</td>\n",
       "      <td>0.0</td>\n",
       "      <td>0.0</td>\n",
       "      <td>0.0</td>\n",
       "      <td>0.0</td>\n",
       "      <td>0.0</td>\n",
       "      <td>1.0</td>\n",
       "      <td>0.0</td>\n",
       "      <td>0.0</td>\n",
       "      <td>...</td>\n",
       "      <td>0.0</td>\n",
       "      <td>0.0</td>\n",
       "      <td>0.0</td>\n",
       "      <td>0.0</td>\n",
       "      <td>0.0</td>\n",
       "      <td>0.0</td>\n",
       "      <td>1.0</td>\n",
       "      <td>0.0</td>\n",
       "      <td>1.0</td>\n",
       "      <td>0.0</td>\n",
       "    </tr>\n",
       "  </tbody>\n",
       "</table>\n",
       "<p>5 rows × 52 columns</p>\n",
       "</div>"
      ],
      "text/plain": [
       "       job_admin.  job_blue-collar  job_entrepreneur  job_housemaid  \\\n",
       "31748         0.0              1.0               0.0            0.0   \n",
       "26671         0.0              0.0               0.0            0.0   \n",
       "39007         0.0              0.0               0.0            0.0   \n",
       "30262         0.0              0.0               1.0            0.0   \n",
       "16695         0.0              0.0               0.0            0.0   \n",
       "\n",
       "       job_management  job_retired  job_self-employed  job_services  \\\n",
       "31748             0.0          0.0                0.0           0.0   \n",
       "26671             0.0          0.0                0.0           0.0   \n",
       "39007             1.0          0.0                0.0           0.0   \n",
       "30262             0.0          0.0                0.0           0.0   \n",
       "16695             0.0          0.0                0.0           1.0   \n",
       "\n",
       "       job_student  job_technician  ...  month_oct  month_sep  \\\n",
       "31748          0.0             0.0  ...        0.0        0.0   \n",
       "26671          0.0             1.0  ...        0.0        0.0   \n",
       "39007          0.0             0.0  ...        0.0        0.0   \n",
       "30262          0.0             0.0  ...        0.0        0.0   \n",
       "16695          0.0             0.0  ...        0.0        0.0   \n",
       "\n",
       "       day_of_week_fri  day_of_week_mon  day_of_week_thu  day_of_week_tue  \\\n",
       "31748              0.0              0.0              1.0              0.0   \n",
       "26671              0.0              0.0              1.0              0.0   \n",
       "39007              0.0              0.0              0.0              0.0   \n",
       "30262              0.0              0.0              1.0              0.0   \n",
       "16695              0.0              0.0              0.0              0.0   \n",
       "\n",
       "       day_of_week_wed  poutcome_failure  poutcome_nonexistent  \\\n",
       "31748              0.0               0.0                   1.0   \n",
       "26671              0.0               0.0                   1.0   \n",
       "39007              1.0               0.0                   1.0   \n",
       "30262              0.0               0.0                   1.0   \n",
       "16695              1.0               0.0                   1.0   \n",
       "\n",
       "       poutcome_success  \n",
       "31748               0.0  \n",
       "26671               0.0  \n",
       "39007               0.0  \n",
       "30262               0.0  \n",
       "16695               0.0  \n",
       "\n",
       "[5 rows x 52 columns]"
      ]
     },
     "execution_count": 29,
     "metadata": {},
     "output_type": "execute_result"
    }
   ],
   "source": [
    "X_train_cat.head()"
   ]
  },
  {
   "cell_type": "code",
   "execution_count": 30,
   "metadata": {},
   "outputs": [
    {
     "data": {
      "text/plain": [
       "(28823, 52)"
      ]
     },
     "execution_count": 30,
     "metadata": {},
     "output_type": "execute_result"
    }
   ],
   "source": [
    "X_train_cat.shape"
   ]
  },
  {
   "cell_type": "code",
   "execution_count": 31,
   "metadata": {},
   "outputs": [],
   "source": [
    "X_train_concat = pd.concat(\n",
    "    [X_train_num, X_train_cat], axis=1\n",
    ")"
   ]
  },
  {
   "cell_type": "code",
   "execution_count": 32,
   "metadata": {},
   "outputs": [
    {
     "data": {
      "text/html": [
       "<div>\n",
       "<style scoped>\n",
       "    .dataframe tbody tr th:only-of-type {\n",
       "        vertical-align: middle;\n",
       "    }\n",
       "\n",
       "    .dataframe tbody tr th {\n",
       "        vertical-align: top;\n",
       "    }\n",
       "\n",
       "    .dataframe thead th {\n",
       "        text-align: right;\n",
       "    }\n",
       "</style>\n",
       "<table border=\"1\" class=\"dataframe\">\n",
       "  <thead>\n",
       "    <tr style=\"text-align: right;\">\n",
       "      <th></th>\n",
       "      <th>age</th>\n",
       "      <th>campaign</th>\n",
       "      <th>pdays</th>\n",
       "      <th>previous</th>\n",
       "      <th>emp.var.rate</th>\n",
       "      <th>cons.price.idx</th>\n",
       "      <th>cons.conf.idx</th>\n",
       "      <th>euribor3m</th>\n",
       "      <th>nr.employed</th>\n",
       "      <th>job_admin.</th>\n",
       "      <th>...</th>\n",
       "      <th>month_oct</th>\n",
       "      <th>month_sep</th>\n",
       "      <th>day_of_week_fri</th>\n",
       "      <th>day_of_week_mon</th>\n",
       "      <th>day_of_week_thu</th>\n",
       "      <th>day_of_week_tue</th>\n",
       "      <th>day_of_week_wed</th>\n",
       "      <th>poutcome_failure</th>\n",
       "      <th>poutcome_nonexistent</th>\n",
       "      <th>poutcome_success</th>\n",
       "    </tr>\n",
       "  </thead>\n",
       "  <tbody>\n",
       "    <tr>\n",
       "      <th>31748</th>\n",
       "      <td>35.0</td>\n",
       "      <td>1.0</td>\n",
       "      <td>999.0</td>\n",
       "      <td>0.0</td>\n",
       "      <td>-1.8</td>\n",
       "      <td>92.893</td>\n",
       "      <td>-46.2</td>\n",
       "      <td>1.327</td>\n",
       "      <td>5099.1</td>\n",
       "      <td>0.0</td>\n",
       "      <td>...</td>\n",
       "      <td>0.0</td>\n",
       "      <td>0.0</td>\n",
       "      <td>0.0</td>\n",
       "      <td>0.0</td>\n",
       "      <td>1.0</td>\n",
       "      <td>0.0</td>\n",
       "      <td>0.0</td>\n",
       "      <td>0.0</td>\n",
       "      <td>1.0</td>\n",
       "      <td>0.0</td>\n",
       "    </tr>\n",
       "    <tr>\n",
       "      <th>26671</th>\n",
       "      <td>29.0</td>\n",
       "      <td>1.0</td>\n",
       "      <td>999.0</td>\n",
       "      <td>0.0</td>\n",
       "      <td>-0.1</td>\n",
       "      <td>93.200</td>\n",
       "      <td>-42.0</td>\n",
       "      <td>4.076</td>\n",
       "      <td>5195.8</td>\n",
       "      <td>0.0</td>\n",
       "      <td>...</td>\n",
       "      <td>0.0</td>\n",
       "      <td>0.0</td>\n",
       "      <td>0.0</td>\n",
       "      <td>0.0</td>\n",
       "      <td>1.0</td>\n",
       "      <td>0.0</td>\n",
       "      <td>0.0</td>\n",
       "      <td>0.0</td>\n",
       "      <td>1.0</td>\n",
       "      <td>0.0</td>\n",
       "    </tr>\n",
       "    <tr>\n",
       "      <th>39007</th>\n",
       "      <td>56.0</td>\n",
       "      <td>1.0</td>\n",
       "      <td>999.0</td>\n",
       "      <td>0.0</td>\n",
       "      <td>-3.0</td>\n",
       "      <td>92.713</td>\n",
       "      <td>-33.0</td>\n",
       "      <td>0.715</td>\n",
       "      <td>5023.5</td>\n",
       "      <td>0.0</td>\n",
       "      <td>...</td>\n",
       "      <td>0.0</td>\n",
       "      <td>0.0</td>\n",
       "      <td>0.0</td>\n",
       "      <td>0.0</td>\n",
       "      <td>0.0</td>\n",
       "      <td>0.0</td>\n",
       "      <td>1.0</td>\n",
       "      <td>0.0</td>\n",
       "      <td>1.0</td>\n",
       "      <td>0.0</td>\n",
       "    </tr>\n",
       "    <tr>\n",
       "      <th>30262</th>\n",
       "      <td>56.0</td>\n",
       "      <td>1.0</td>\n",
       "      <td>999.0</td>\n",
       "      <td>0.0</td>\n",
       "      <td>-1.8</td>\n",
       "      <td>93.075</td>\n",
       "      <td>-47.1</td>\n",
       "      <td>1.365</td>\n",
       "      <td>5099.1</td>\n",
       "      <td>0.0</td>\n",
       "      <td>...</td>\n",
       "      <td>0.0</td>\n",
       "      <td>0.0</td>\n",
       "      <td>0.0</td>\n",
       "      <td>0.0</td>\n",
       "      <td>1.0</td>\n",
       "      <td>0.0</td>\n",
       "      <td>0.0</td>\n",
       "      <td>0.0</td>\n",
       "      <td>1.0</td>\n",
       "      <td>0.0</td>\n",
       "    </tr>\n",
       "    <tr>\n",
       "      <th>16695</th>\n",
       "      <td>23.0</td>\n",
       "      <td>3.0</td>\n",
       "      <td>999.0</td>\n",
       "      <td>0.0</td>\n",
       "      <td>1.4</td>\n",
       "      <td>93.918</td>\n",
       "      <td>-42.7</td>\n",
       "      <td>4.963</td>\n",
       "      <td>5228.1</td>\n",
       "      <td>0.0</td>\n",
       "      <td>...</td>\n",
       "      <td>0.0</td>\n",
       "      <td>0.0</td>\n",
       "      <td>0.0</td>\n",
       "      <td>0.0</td>\n",
       "      <td>0.0</td>\n",
       "      <td>0.0</td>\n",
       "      <td>1.0</td>\n",
       "      <td>0.0</td>\n",
       "      <td>1.0</td>\n",
       "      <td>0.0</td>\n",
       "    </tr>\n",
       "  </tbody>\n",
       "</table>\n",
       "<p>5 rows × 61 columns</p>\n",
       "</div>"
      ],
      "text/plain": [
       "        age  campaign  pdays  previous  emp.var.rate  cons.price.idx  \\\n",
       "31748  35.0       1.0  999.0       0.0          -1.8          92.893   \n",
       "26671  29.0       1.0  999.0       0.0          -0.1          93.200   \n",
       "39007  56.0       1.0  999.0       0.0          -3.0          92.713   \n",
       "30262  56.0       1.0  999.0       0.0          -1.8          93.075   \n",
       "16695  23.0       3.0  999.0       0.0           1.4          93.918   \n",
       "\n",
       "       cons.conf.idx  euribor3m  nr.employed  job_admin.  ...  month_oct  \\\n",
       "31748          -46.2      1.327       5099.1         0.0  ...        0.0   \n",
       "26671          -42.0      4.076       5195.8         0.0  ...        0.0   \n",
       "39007          -33.0      0.715       5023.5         0.0  ...        0.0   \n",
       "30262          -47.1      1.365       5099.1         0.0  ...        0.0   \n",
       "16695          -42.7      4.963       5228.1         0.0  ...        0.0   \n",
       "\n",
       "       month_sep  day_of_week_fri  day_of_week_mon  day_of_week_thu  \\\n",
       "31748        0.0              0.0              0.0              1.0   \n",
       "26671        0.0              0.0              0.0              1.0   \n",
       "39007        0.0              0.0              0.0              0.0   \n",
       "30262        0.0              0.0              0.0              1.0   \n",
       "16695        0.0              0.0              0.0              0.0   \n",
       "\n",
       "       day_of_week_tue  day_of_week_wed  poutcome_failure  \\\n",
       "31748              0.0              0.0               0.0   \n",
       "26671              0.0              0.0               0.0   \n",
       "39007              0.0              1.0               0.0   \n",
       "30262              0.0              0.0               0.0   \n",
       "16695              0.0              1.0               0.0   \n",
       "\n",
       "       poutcome_nonexistent  poutcome_success  \n",
       "31748                   1.0               0.0  \n",
       "26671                   1.0               0.0  \n",
       "39007                   1.0               0.0  \n",
       "30262                   1.0               0.0  \n",
       "16695                   1.0               0.0  \n",
       "\n",
       "[5 rows x 61 columns]"
      ]
     },
     "execution_count": 32,
     "metadata": {},
     "output_type": "execute_result"
    }
   ],
   "source": [
    "X_train_concat.head()"
   ]
  },
  {
   "cell_type": "code",
   "execution_count": 33,
   "metadata": {},
   "outputs": [
    {
     "data": {
      "text/plain": [
       "(28823, 61)"
      ]
     },
     "execution_count": 33,
     "metadata": {},
     "output_type": "execute_result"
    }
   ],
   "source": [
    "X_train_concat.shape"
   ]
  },
  {
   "cell_type": "code",
   "execution_count": 34,
   "metadata": {},
   "outputs": [
    {
     "data": {
      "text/plain": [
       "0"
      ]
     },
     "execution_count": 34,
     "metadata": {},
     "output_type": "execute_result"
    }
   ],
   "source": [
    "X_train_concat.isnull().any().sum()"
   ]
  },
  {
   "cell_type": "markdown",
   "metadata": {
    "tags": []
   },
   "source": [
    "### **Balancing the Data**\n",
    "\n",
    "As per first check of the output data, the data is imblanace. Hence, the data would be balanced with SMOTE"
   ]
  },
  {
   "cell_type": "code",
   "execution_count": 35,
   "metadata": {},
   "outputs": [],
   "source": [
    "# Create SMOTE object\n",
    "smt = SMOTE(sampling_strategy=\"minority\", random_state=123)\n",
    "\n",
    "# Fit Object\n",
    "X_train_smote, y_train = smt.fit_resample(X_train_concat, y_train)"
   ]
  },
  {
   "cell_type": "code",
   "execution_count": 36,
   "metadata": {},
   "outputs": [
    {
     "data": {
      "text/plain": [
       "0    0.5\n",
       "1    0.5\n",
       "Name: y, dtype: float64"
      ]
     },
     "execution_count": 36,
     "metadata": {},
     "output_type": "execute_result"
    }
   ],
   "source": [
    "y_train.value_counts(normalize=True)"
   ]
  },
  {
   "cell_type": "code",
   "execution_count": 37,
   "metadata": {},
   "outputs": [
    {
     "data": {
      "text/html": [
       "<div>\n",
       "<style scoped>\n",
       "    .dataframe tbody tr th:only-of-type {\n",
       "        vertical-align: middle;\n",
       "    }\n",
       "\n",
       "    .dataframe tbody tr th {\n",
       "        vertical-align: top;\n",
       "    }\n",
       "\n",
       "    .dataframe thead th {\n",
       "        text-align: right;\n",
       "    }\n",
       "</style>\n",
       "<table border=\"1\" class=\"dataframe\">\n",
       "  <thead>\n",
       "    <tr style=\"text-align: right;\">\n",
       "      <th></th>\n",
       "      <th>age</th>\n",
       "      <th>campaign</th>\n",
       "      <th>pdays</th>\n",
       "      <th>previous</th>\n",
       "      <th>emp.var.rate</th>\n",
       "      <th>cons.price.idx</th>\n",
       "      <th>cons.conf.idx</th>\n",
       "      <th>euribor3m</th>\n",
       "      <th>nr.employed</th>\n",
       "      <th>job_admin.</th>\n",
       "      <th>...</th>\n",
       "      <th>month_oct</th>\n",
       "      <th>month_sep</th>\n",
       "      <th>day_of_week_fri</th>\n",
       "      <th>day_of_week_mon</th>\n",
       "      <th>day_of_week_thu</th>\n",
       "      <th>day_of_week_tue</th>\n",
       "      <th>day_of_week_wed</th>\n",
       "      <th>poutcome_failure</th>\n",
       "      <th>poutcome_nonexistent</th>\n",
       "      <th>poutcome_success</th>\n",
       "    </tr>\n",
       "  </thead>\n",
       "  <tbody>\n",
       "    <tr>\n",
       "      <th>0</th>\n",
       "      <td>35.0</td>\n",
       "      <td>1.0</td>\n",
       "      <td>999.0</td>\n",
       "      <td>0.0</td>\n",
       "      <td>-1.8</td>\n",
       "      <td>92.893</td>\n",
       "      <td>-46.2</td>\n",
       "      <td>1.327</td>\n",
       "      <td>5099.1</td>\n",
       "      <td>0.0</td>\n",
       "      <td>...</td>\n",
       "      <td>0.0</td>\n",
       "      <td>0.0</td>\n",
       "      <td>0.0</td>\n",
       "      <td>0.0</td>\n",
       "      <td>1.0</td>\n",
       "      <td>0.0</td>\n",
       "      <td>0.0</td>\n",
       "      <td>0.0</td>\n",
       "      <td>1.0</td>\n",
       "      <td>0.0</td>\n",
       "    </tr>\n",
       "    <tr>\n",
       "      <th>1</th>\n",
       "      <td>29.0</td>\n",
       "      <td>1.0</td>\n",
       "      <td>999.0</td>\n",
       "      <td>0.0</td>\n",
       "      <td>-0.1</td>\n",
       "      <td>93.200</td>\n",
       "      <td>-42.0</td>\n",
       "      <td>4.076</td>\n",
       "      <td>5195.8</td>\n",
       "      <td>0.0</td>\n",
       "      <td>...</td>\n",
       "      <td>0.0</td>\n",
       "      <td>0.0</td>\n",
       "      <td>0.0</td>\n",
       "      <td>0.0</td>\n",
       "      <td>1.0</td>\n",
       "      <td>0.0</td>\n",
       "      <td>0.0</td>\n",
       "      <td>0.0</td>\n",
       "      <td>1.0</td>\n",
       "      <td>0.0</td>\n",
       "    </tr>\n",
       "    <tr>\n",
       "      <th>2</th>\n",
       "      <td>56.0</td>\n",
       "      <td>1.0</td>\n",
       "      <td>999.0</td>\n",
       "      <td>0.0</td>\n",
       "      <td>-3.0</td>\n",
       "      <td>92.713</td>\n",
       "      <td>-33.0</td>\n",
       "      <td>0.715</td>\n",
       "      <td>5023.5</td>\n",
       "      <td>0.0</td>\n",
       "      <td>...</td>\n",
       "      <td>0.0</td>\n",
       "      <td>0.0</td>\n",
       "      <td>0.0</td>\n",
       "      <td>0.0</td>\n",
       "      <td>0.0</td>\n",
       "      <td>0.0</td>\n",
       "      <td>1.0</td>\n",
       "      <td>0.0</td>\n",
       "      <td>1.0</td>\n",
       "      <td>0.0</td>\n",
       "    </tr>\n",
       "    <tr>\n",
       "      <th>3</th>\n",
       "      <td>56.0</td>\n",
       "      <td>1.0</td>\n",
       "      <td>999.0</td>\n",
       "      <td>0.0</td>\n",
       "      <td>-1.8</td>\n",
       "      <td>93.075</td>\n",
       "      <td>-47.1</td>\n",
       "      <td>1.365</td>\n",
       "      <td>5099.1</td>\n",
       "      <td>0.0</td>\n",
       "      <td>...</td>\n",
       "      <td>0.0</td>\n",
       "      <td>0.0</td>\n",
       "      <td>0.0</td>\n",
       "      <td>0.0</td>\n",
       "      <td>1.0</td>\n",
       "      <td>0.0</td>\n",
       "      <td>0.0</td>\n",
       "      <td>0.0</td>\n",
       "      <td>1.0</td>\n",
       "      <td>0.0</td>\n",
       "    </tr>\n",
       "    <tr>\n",
       "      <th>4</th>\n",
       "      <td>23.0</td>\n",
       "      <td>3.0</td>\n",
       "      <td>999.0</td>\n",
       "      <td>0.0</td>\n",
       "      <td>1.4</td>\n",
       "      <td>93.918</td>\n",
       "      <td>-42.7</td>\n",
       "      <td>4.963</td>\n",
       "      <td>5228.1</td>\n",
       "      <td>0.0</td>\n",
       "      <td>...</td>\n",
       "      <td>0.0</td>\n",
       "      <td>0.0</td>\n",
       "      <td>0.0</td>\n",
       "      <td>0.0</td>\n",
       "      <td>0.0</td>\n",
       "      <td>0.0</td>\n",
       "      <td>1.0</td>\n",
       "      <td>0.0</td>\n",
       "      <td>1.0</td>\n",
       "      <td>0.0</td>\n",
       "    </tr>\n",
       "  </tbody>\n",
       "</table>\n",
       "<p>5 rows × 61 columns</p>\n",
       "</div>"
      ],
      "text/plain": [
       "    age  campaign  pdays  previous  emp.var.rate  cons.price.idx  \\\n",
       "0  35.0       1.0  999.0       0.0          -1.8          92.893   \n",
       "1  29.0       1.0  999.0       0.0          -0.1          93.200   \n",
       "2  56.0       1.0  999.0       0.0          -3.0          92.713   \n",
       "3  56.0       1.0  999.0       0.0          -1.8          93.075   \n",
       "4  23.0       3.0  999.0       0.0           1.4          93.918   \n",
       "\n",
       "   cons.conf.idx  euribor3m  nr.employed  job_admin.  ...  month_oct  \\\n",
       "0          -46.2      1.327       5099.1         0.0  ...        0.0   \n",
       "1          -42.0      4.076       5195.8         0.0  ...        0.0   \n",
       "2          -33.0      0.715       5023.5         0.0  ...        0.0   \n",
       "3          -47.1      1.365       5099.1         0.0  ...        0.0   \n",
       "4          -42.7      4.963       5228.1         0.0  ...        0.0   \n",
       "\n",
       "   month_sep  day_of_week_fri  day_of_week_mon  day_of_week_thu  \\\n",
       "0        0.0              0.0              0.0              1.0   \n",
       "1        0.0              0.0              0.0              1.0   \n",
       "2        0.0              0.0              0.0              0.0   \n",
       "3        0.0              0.0              0.0              1.0   \n",
       "4        0.0              0.0              0.0              0.0   \n",
       "\n",
       "   day_of_week_tue  day_of_week_wed  poutcome_failure  poutcome_nonexistent  \\\n",
       "0              0.0              0.0               0.0                   1.0   \n",
       "1              0.0              0.0               0.0                   1.0   \n",
       "2              0.0              1.0               0.0                   1.0   \n",
       "3              0.0              0.0               0.0                   1.0   \n",
       "4              0.0              1.0               0.0                   1.0   \n",
       "\n",
       "   poutcome_success  \n",
       "0               0.0  \n",
       "1               0.0  \n",
       "2               0.0  \n",
       "3               0.0  \n",
       "4               0.0  \n",
       "\n",
       "[5 rows x 61 columns]"
      ]
     },
     "execution_count": 37,
     "metadata": {},
     "output_type": "execute_result"
    }
   ],
   "source": [
    "X_train_smote.head()"
   ]
  },
  {
   "cell_type": "markdown",
   "metadata": {},
   "source": [
    "### **Standardized Train Data & Create Scaler**"
   ]
  },
  {
   "cell_type": "code",
   "execution_count": 38,
   "metadata": {},
   "outputs": [],
   "source": [
    "# Standardized Variable\n",
    "X_train_clean, scaler = dataStandarization(X_train_smote)"
   ]
  },
  {
   "cell_type": "code",
   "execution_count": 39,
   "metadata": {},
   "outputs": [
    {
     "data": {
      "text/html": [
       "<div>\n",
       "<style scoped>\n",
       "    .dataframe tbody tr th:only-of-type {\n",
       "        vertical-align: middle;\n",
       "    }\n",
       "\n",
       "    .dataframe tbody tr th {\n",
       "        vertical-align: top;\n",
       "    }\n",
       "\n",
       "    .dataframe thead th {\n",
       "        text-align: right;\n",
       "    }\n",
       "</style>\n",
       "<table border=\"1\" class=\"dataframe\">\n",
       "  <thead>\n",
       "    <tr style=\"text-align: right;\">\n",
       "      <th></th>\n",
       "      <th>age</th>\n",
       "      <th>campaign</th>\n",
       "      <th>pdays</th>\n",
       "      <th>previous</th>\n",
       "      <th>emp.var.rate</th>\n",
       "      <th>cons.price.idx</th>\n",
       "      <th>cons.conf.idx</th>\n",
       "      <th>euribor3m</th>\n",
       "      <th>nr.employed</th>\n",
       "      <th>job_admin.</th>\n",
       "      <th>...</th>\n",
       "      <th>month_oct</th>\n",
       "      <th>month_sep</th>\n",
       "      <th>day_of_week_fri</th>\n",
       "      <th>day_of_week_mon</th>\n",
       "      <th>day_of_week_thu</th>\n",
       "      <th>day_of_week_tue</th>\n",
       "      <th>day_of_week_wed</th>\n",
       "      <th>poutcome_failure</th>\n",
       "      <th>poutcome_nonexistent</th>\n",
       "      <th>poutcome_success</th>\n",
       "    </tr>\n",
       "  </thead>\n",
       "  <tbody>\n",
       "    <tr>\n",
       "      <th>0</th>\n",
       "      <td>-0.456169</td>\n",
       "      <td>-0.564825</td>\n",
       "      <td>0.35206</td>\n",
       "      <td>-0.456115</td>\n",
       "      <td>-0.761418</td>\n",
       "      <td>-0.931326</td>\n",
       "      <td>-1.114455</td>\n",
       "      <td>-0.867207</td>\n",
       "      <td>-0.417078</td>\n",
       "      <td>-0.650489</td>\n",
       "      <td>...</td>\n",
       "      <td>-0.206866</td>\n",
       "      <td>-0.18827</td>\n",
       "      <td>-0.510232</td>\n",
       "      <td>-0.520285</td>\n",
       "      <td>2.036700</td>\n",
       "      <td>-0.54141</td>\n",
       "      <td>-0.533590</td>\n",
       "      <td>-0.368626</td>\n",
       "      <td>0.532442</td>\n",
       "      <td>-0.342503</td>\n",
       "    </tr>\n",
       "    <tr>\n",
       "      <th>1</th>\n",
       "      <td>-0.955343</td>\n",
       "      <td>-0.564825</td>\n",
       "      <td>0.35206</td>\n",
       "      <td>-0.456115</td>\n",
       "      <td>0.226641</td>\n",
       "      <td>-0.444508</td>\n",
       "      <td>-0.330286</td>\n",
       "      <td>0.587587</td>\n",
       "      <td>0.690720</td>\n",
       "      <td>-0.650489</td>\n",
       "      <td>...</td>\n",
       "      <td>-0.206866</td>\n",
       "      <td>-0.18827</td>\n",
       "      <td>-0.510232</td>\n",
       "      <td>-0.520285</td>\n",
       "      <td>2.036700</td>\n",
       "      <td>-0.54141</td>\n",
       "      <td>-0.533590</td>\n",
       "      <td>-0.368626</td>\n",
       "      <td>0.532442</td>\n",
       "      <td>-0.342503</td>\n",
       "    </tr>\n",
       "    <tr>\n",
       "      <th>2</th>\n",
       "      <td>1.290941</td>\n",
       "      <td>-0.564825</td>\n",
       "      <td>0.35206</td>\n",
       "      <td>-0.456115</td>\n",
       "      <td>-1.458871</td>\n",
       "      <td>-1.216757</td>\n",
       "      <td>1.350076</td>\n",
       "      <td>-1.191083</td>\n",
       "      <td>-1.283154</td>\n",
       "      <td>-0.650489</td>\n",
       "      <td>...</td>\n",
       "      <td>-0.206866</td>\n",
       "      <td>-0.18827</td>\n",
       "      <td>-0.510232</td>\n",
       "      <td>-0.520285</td>\n",
       "      <td>-0.557874</td>\n",
       "      <td>-0.54141</td>\n",
       "      <td>2.127858</td>\n",
       "      <td>-0.368626</td>\n",
       "      <td>0.532442</td>\n",
       "      <td>-0.342503</td>\n",
       "    </tr>\n",
       "    <tr>\n",
       "      <th>3</th>\n",
       "      <td>1.290941</td>\n",
       "      <td>-0.564825</td>\n",
       "      <td>0.35206</td>\n",
       "      <td>-0.456115</td>\n",
       "      <td>-0.761418</td>\n",
       "      <td>-0.642724</td>\n",
       "      <td>-1.282491</td>\n",
       "      <td>-0.847097</td>\n",
       "      <td>-0.417078</td>\n",
       "      <td>-0.650489</td>\n",
       "      <td>...</td>\n",
       "      <td>-0.206866</td>\n",
       "      <td>-0.18827</td>\n",
       "      <td>-0.510232</td>\n",
       "      <td>-0.520285</td>\n",
       "      <td>2.036700</td>\n",
       "      <td>-0.54141</td>\n",
       "      <td>-0.533590</td>\n",
       "      <td>-0.368626</td>\n",
       "      <td>0.532442</td>\n",
       "      <td>-0.342503</td>\n",
       "    </tr>\n",
       "    <tr>\n",
       "      <th>4</th>\n",
       "      <td>-1.454517</td>\n",
       "      <td>0.304605</td>\n",
       "      <td>0.35206</td>\n",
       "      <td>-0.456115</td>\n",
       "      <td>1.098457</td>\n",
       "      <td>0.694042</td>\n",
       "      <td>-0.460981</td>\n",
       "      <td>1.056995</td>\n",
       "      <td>1.060749</td>\n",
       "      <td>-0.650489</td>\n",
       "      <td>...</td>\n",
       "      <td>-0.206866</td>\n",
       "      <td>-0.18827</td>\n",
       "      <td>-0.510232</td>\n",
       "      <td>-0.520285</td>\n",
       "      <td>-0.557874</td>\n",
       "      <td>-0.54141</td>\n",
       "      <td>2.127858</td>\n",
       "      <td>-0.368626</td>\n",
       "      <td>0.532442</td>\n",
       "      <td>-0.342503</td>\n",
       "    </tr>\n",
       "  </tbody>\n",
       "</table>\n",
       "<p>5 rows × 61 columns</p>\n",
       "</div>"
      ],
      "text/plain": [
       "        age  campaign    pdays  previous  emp.var.rate  cons.price.idx  \\\n",
       "0 -0.456169 -0.564825  0.35206 -0.456115     -0.761418       -0.931326   \n",
       "1 -0.955343 -0.564825  0.35206 -0.456115      0.226641       -0.444508   \n",
       "2  1.290941 -0.564825  0.35206 -0.456115     -1.458871       -1.216757   \n",
       "3  1.290941 -0.564825  0.35206 -0.456115     -0.761418       -0.642724   \n",
       "4 -1.454517  0.304605  0.35206 -0.456115      1.098457        0.694042   \n",
       "\n",
       "   cons.conf.idx  euribor3m  nr.employed  job_admin.  ...  month_oct  \\\n",
       "0      -1.114455  -0.867207    -0.417078   -0.650489  ...  -0.206866   \n",
       "1      -0.330286   0.587587     0.690720   -0.650489  ...  -0.206866   \n",
       "2       1.350076  -1.191083    -1.283154   -0.650489  ...  -0.206866   \n",
       "3      -1.282491  -0.847097    -0.417078   -0.650489  ...  -0.206866   \n",
       "4      -0.460981   1.056995     1.060749   -0.650489  ...  -0.206866   \n",
       "\n",
       "   month_sep  day_of_week_fri  day_of_week_mon  day_of_week_thu  \\\n",
       "0   -0.18827        -0.510232        -0.520285         2.036700   \n",
       "1   -0.18827        -0.510232        -0.520285         2.036700   \n",
       "2   -0.18827        -0.510232        -0.520285        -0.557874   \n",
       "3   -0.18827        -0.510232        -0.520285         2.036700   \n",
       "4   -0.18827        -0.510232        -0.520285        -0.557874   \n",
       "\n",
       "   day_of_week_tue  day_of_week_wed  poutcome_failure  poutcome_nonexistent  \\\n",
       "0         -0.54141        -0.533590         -0.368626              0.532442   \n",
       "1         -0.54141        -0.533590         -0.368626              0.532442   \n",
       "2         -0.54141         2.127858         -0.368626              0.532442   \n",
       "3         -0.54141        -0.533590         -0.368626              0.532442   \n",
       "4         -0.54141         2.127858         -0.368626              0.532442   \n",
       "\n",
       "   poutcome_success  \n",
       "0         -0.342503  \n",
       "1         -0.342503  \n",
       "2         -0.342503  \n",
       "3         -0.342503  \n",
       "4         -0.342503  \n",
       "\n",
       "[5 rows x 61 columns]"
      ]
     },
     "execution_count": 39,
     "metadata": {},
     "output_type": "execute_result"
    }
   ],
   "source": [
    "X_train_clean.head()"
   ]
  },
  {
   "cell_type": "markdown",
   "metadata": {},
   "source": [
    "#### **Data Preprocessing - Test Data**"
   ]
  },
  {
   "cell_type": "code",
   "execution_count": 40,
   "metadata": {},
   "outputs": [],
   "source": [
    "X_test_clean = testDataProcessing(data=X_test,\n",
    "                                  numerical_columns=numerical_columns,\n",
    "                                  categorical_columns=categorical_columns,\n",
    "                                  encoder_columns=encoder_col,\n",
    "                                  numerical_imputer=num_imputer,\n",
    "                                  categorical_imputer=cat_imputer,\n",
    "                                  encoder=ohe_encoder,\n",
    "                                  scaler=scaler)"
   ]
  },
  {
   "cell_type": "code",
   "execution_count": 41,
   "metadata": {},
   "outputs": [
    {
     "data": {
      "text/plain": [
       "(12353, 61)"
      ]
     },
     "execution_count": 41,
     "metadata": {},
     "output_type": "execute_result"
    }
   ],
   "source": [
    "X_test_clean.shape"
   ]
  },
  {
   "cell_type": "code",
   "execution_count": 42,
   "metadata": {},
   "outputs": [
    {
     "data": {
      "text/html": [
       "<div>\n",
       "<style scoped>\n",
       "    .dataframe tbody tr th:only-of-type {\n",
       "        vertical-align: middle;\n",
       "    }\n",
       "\n",
       "    .dataframe tbody tr th {\n",
       "        vertical-align: top;\n",
       "    }\n",
       "\n",
       "    .dataframe thead th {\n",
       "        text-align: right;\n",
       "    }\n",
       "</style>\n",
       "<table border=\"1\" class=\"dataframe\">\n",
       "  <thead>\n",
       "    <tr style=\"text-align: right;\">\n",
       "      <th></th>\n",
       "      <th>age</th>\n",
       "      <th>campaign</th>\n",
       "      <th>pdays</th>\n",
       "      <th>previous</th>\n",
       "      <th>emp.var.rate</th>\n",
       "      <th>cons.price.idx</th>\n",
       "      <th>cons.conf.idx</th>\n",
       "      <th>euribor3m</th>\n",
       "      <th>nr.employed</th>\n",
       "      <th>job_admin.</th>\n",
       "      <th>...</th>\n",
       "      <th>month_oct</th>\n",
       "      <th>month_sep</th>\n",
       "      <th>day_of_week_fri</th>\n",
       "      <th>day_of_week_mon</th>\n",
       "      <th>day_of_week_thu</th>\n",
       "      <th>day_of_week_tue</th>\n",
       "      <th>day_of_week_wed</th>\n",
       "      <th>poutcome_failure</th>\n",
       "      <th>poutcome_nonexistent</th>\n",
       "      <th>poutcome_success</th>\n",
       "    </tr>\n",
       "  </thead>\n",
       "  <tbody>\n",
       "    <tr>\n",
       "      <th>36391</th>\n",
       "      <td>-0.705756</td>\n",
       "      <td>-0.564825</td>\n",
       "      <td>-2.846136</td>\n",
       "      <td>1.028634</td>\n",
       "      <td>-1.400750</td>\n",
       "      <td>-0.820325</td>\n",
       "      <td>-0.106238</td>\n",
       "      <td>-0.901606</td>\n",
       "      <td>-0.679421</td>\n",
       "      <td>1.734223</td>\n",
       "      <td>...</td>\n",
       "      <td>-0.206866</td>\n",
       "      <td>-0.18827</td>\n",
       "      <td>-0.510232</td>\n",
       "      <td>-0.520285</td>\n",
       "      <td>-0.557874</td>\n",
       "      <td>2.102343</td>\n",
       "      <td>-0.53359</td>\n",
       "      <td>-0.368626</td>\n",
       "      <td>-1.972116</td>\n",
       "      <td>2.969624</td>\n",
       "    </tr>\n",
       "    <tr>\n",
       "      <th>12612</th>\n",
       "      <td>-0.372973</td>\n",
       "      <td>1.174036</td>\n",
       "      <td>0.352060</td>\n",
       "      <td>-0.456115</td>\n",
       "      <td>1.098457</td>\n",
       "      <td>0.694042</td>\n",
       "      <td>-0.460981</td>\n",
       "      <td>1.055408</td>\n",
       "      <td>1.060749</td>\n",
       "      <td>-0.650489</td>\n",
       "      <td>...</td>\n",
       "      <td>-0.206866</td>\n",
       "      <td>-0.18827</td>\n",
       "      <td>-0.510232</td>\n",
       "      <td>2.168650</td>\n",
       "      <td>-0.557874</td>\n",
       "      <td>-0.541410</td>\n",
       "      <td>-0.53359</td>\n",
       "      <td>-0.368626</td>\n",
       "      <td>0.532442</td>\n",
       "      <td>-0.342503</td>\n",
       "    </tr>\n",
       "    <tr>\n",
       "      <th>5791</th>\n",
       "      <td>-0.622560</td>\n",
       "      <td>5.086472</td>\n",
       "      <td>0.352060</td>\n",
       "      <td>-0.456115</td>\n",
       "      <td>0.924094</td>\n",
       "      <td>0.814557</td>\n",
       "      <td>0.715273</td>\n",
       "      <td>1.000899</td>\n",
       "      <td>0.635731</td>\n",
       "      <td>-0.650489</td>\n",
       "      <td>...</td>\n",
       "      <td>-0.206866</td>\n",
       "      <td>-0.18827</td>\n",
       "      <td>-0.510232</td>\n",
       "      <td>2.168650</td>\n",
       "      <td>-0.557874</td>\n",
       "      <td>-0.541410</td>\n",
       "      <td>-0.53359</td>\n",
       "      <td>-0.368626</td>\n",
       "      <td>0.532442</td>\n",
       "      <td>-0.342503</td>\n",
       "    </tr>\n",
       "    <tr>\n",
       "      <th>36083</th>\n",
       "      <td>-0.955343</td>\n",
       "      <td>-0.564825</td>\n",
       "      <td>0.352060</td>\n",
       "      <td>-0.456115</td>\n",
       "      <td>-0.761418</td>\n",
       "      <td>-0.931326</td>\n",
       "      <td>-1.114455</td>\n",
       "      <td>-0.899489</td>\n",
       "      <td>-0.417078</td>\n",
       "      <td>-0.650489</td>\n",
       "      <td>...</td>\n",
       "      <td>-0.206866</td>\n",
       "      <td>-0.18827</td>\n",
       "      <td>-0.510232</td>\n",
       "      <td>-0.520285</td>\n",
       "      <td>-0.557874</td>\n",
       "      <td>2.102343</td>\n",
       "      <td>-0.53359</td>\n",
       "      <td>-0.368626</td>\n",
       "      <td>0.532442</td>\n",
       "      <td>-0.342503</td>\n",
       "    </tr>\n",
       "    <tr>\n",
       "      <th>21332</th>\n",
       "      <td>-0.040190</td>\n",
       "      <td>0.304605</td>\n",
       "      <td>0.352060</td>\n",
       "      <td>-0.456115</td>\n",
       "      <td>1.098457</td>\n",
       "      <td>-0.057591</td>\n",
       "      <td>0.771285</td>\n",
       "      <td>1.056995</td>\n",
       "      <td>1.060749</td>\n",
       "      <td>-0.650489</td>\n",
       "      <td>...</td>\n",
       "      <td>-0.206866</td>\n",
       "      <td>-0.18827</td>\n",
       "      <td>-0.510232</td>\n",
       "      <td>2.168650</td>\n",
       "      <td>-0.557874</td>\n",
       "      <td>-0.541410</td>\n",
       "      <td>-0.53359</td>\n",
       "      <td>-0.368626</td>\n",
       "      <td>0.532442</td>\n",
       "      <td>-0.342503</td>\n",
       "    </tr>\n",
       "  </tbody>\n",
       "</table>\n",
       "<p>5 rows × 61 columns</p>\n",
       "</div>"
      ],
      "text/plain": [
       "            age  campaign     pdays  previous  emp.var.rate  cons.price.idx  \\\n",
       "36391 -0.705756 -0.564825 -2.846136  1.028634     -1.400750       -0.820325   \n",
       "12612 -0.372973  1.174036  0.352060 -0.456115      1.098457        0.694042   \n",
       "5791  -0.622560  5.086472  0.352060 -0.456115      0.924094        0.814557   \n",
       "36083 -0.955343 -0.564825  0.352060 -0.456115     -0.761418       -0.931326   \n",
       "21332 -0.040190  0.304605  0.352060 -0.456115      1.098457       -0.057591   \n",
       "\n",
       "       cons.conf.idx  euribor3m  nr.employed  job_admin.  ...  month_oct  \\\n",
       "36391      -0.106238  -0.901606    -0.679421    1.734223  ...  -0.206866   \n",
       "12612      -0.460981   1.055408     1.060749   -0.650489  ...  -0.206866   \n",
       "5791        0.715273   1.000899     0.635731   -0.650489  ...  -0.206866   \n",
       "36083      -1.114455  -0.899489    -0.417078   -0.650489  ...  -0.206866   \n",
       "21332       0.771285   1.056995     1.060749   -0.650489  ...  -0.206866   \n",
       "\n",
       "       month_sep  day_of_week_fri  day_of_week_mon  day_of_week_thu  \\\n",
       "36391   -0.18827        -0.510232        -0.520285        -0.557874   \n",
       "12612   -0.18827        -0.510232         2.168650        -0.557874   \n",
       "5791    -0.18827        -0.510232         2.168650        -0.557874   \n",
       "36083   -0.18827        -0.510232        -0.520285        -0.557874   \n",
       "21332   -0.18827        -0.510232         2.168650        -0.557874   \n",
       "\n",
       "       day_of_week_tue  day_of_week_wed  poutcome_failure  \\\n",
       "36391         2.102343         -0.53359         -0.368626   \n",
       "12612        -0.541410         -0.53359         -0.368626   \n",
       "5791         -0.541410         -0.53359         -0.368626   \n",
       "36083         2.102343         -0.53359         -0.368626   \n",
       "21332        -0.541410         -0.53359         -0.368626   \n",
       "\n",
       "       poutcome_nonexistent  poutcome_success  \n",
       "36391             -1.972116          2.969624  \n",
       "12612              0.532442         -0.342503  \n",
       "5791               0.532442         -0.342503  \n",
       "36083              0.532442         -0.342503  \n",
       "21332              0.532442         -0.342503  \n",
       "\n",
       "[5 rows x 61 columns]"
      ]
     },
     "execution_count": 42,
     "metadata": {},
     "output_type": "execute_result"
    }
   ],
   "source": [
    "X_test_clean.head()"
   ]
  },
  {
   "cell_type": "markdown",
   "metadata": {},
   "source": [
    "## **Cross Validation**"
   ]
  },
  {
   "cell_type": "code",
   "execution_count": 43,
   "metadata": {},
   "outputs": [],
   "source": [
    "# This dictionary is use to store the best parameter for each model\n",
    "# will be used when we train the data with the best hyperparam\n",
    "cv_best_params = {}"
   ]
  },
  {
   "cell_type": "markdown",
   "metadata": {},
   "source": [
    "### Decision Tree Classifier"
   ]
  },
  {
   "cell_type": "code",
   "execution_count": 44,
   "metadata": {},
   "outputs": [],
   "source": [
    "dec_tree = DecisionTreeClassifier(criterion=\"gini\",\n",
    "                                  random_state=123)\n",
    "dec_tree_hyperparam = {\n",
    "    \"max_depth\": np.arange(5, 37),\n",
    "}"
   ]
  },
  {
   "cell_type": "code",
   "execution_count": 45,
   "metadata": {},
   "outputs": [],
   "source": [
    "dec_tree_cv = modelCrossValidation(classifier=dec_tree,\n",
    "                                   hyper_param=dec_tree_hyperparam,\n",
    "                                   input_data=X_train_clean,\n",
    "                                   output_data=y_train)"
   ]
  },
  {
   "cell_type": "code",
   "execution_count": 46,
   "metadata": {},
   "outputs": [
    {
     "data": {
      "text/plain": [
       "{'max_depth': 20}"
      ]
     },
     "execution_count": 46,
     "metadata": {},
     "output_type": "execute_result"
    }
   ],
   "source": [
    "dec_tree_cv.best_params_"
   ]
  },
  {
   "cell_type": "code",
   "execution_count": 47,
   "metadata": {},
   "outputs": [],
   "source": [
    "cv_best_params[\"decision tree\"] = dec_tree_cv.best_params_"
   ]
  },
  {
   "cell_type": "code",
   "execution_count": 48,
   "metadata": {},
   "outputs": [
    {
     "data": {
      "text/html": [
       "<style>#sk-container-id-1 {color: black;background-color: white;}#sk-container-id-1 pre{padding: 0;}#sk-container-id-1 div.sk-toggleable {background-color: white;}#sk-container-id-1 label.sk-toggleable__label {cursor: pointer;display: block;width: 100%;margin-bottom: 0;padding: 0.3em;box-sizing: border-box;text-align: center;}#sk-container-id-1 label.sk-toggleable__label-arrow:before {content: \"▸\";float: left;margin-right: 0.25em;color: #696969;}#sk-container-id-1 label.sk-toggleable__label-arrow:hover:before {color: black;}#sk-container-id-1 div.sk-estimator:hover label.sk-toggleable__label-arrow:before {color: black;}#sk-container-id-1 div.sk-toggleable__content {max-height: 0;max-width: 0;overflow: hidden;text-align: left;background-color: #f0f8ff;}#sk-container-id-1 div.sk-toggleable__content pre {margin: 0.2em;color: black;border-radius: 0.25em;background-color: #f0f8ff;}#sk-container-id-1 input.sk-toggleable__control:checked~div.sk-toggleable__content {max-height: 200px;max-width: 100%;overflow: auto;}#sk-container-id-1 input.sk-toggleable__control:checked~label.sk-toggleable__label-arrow:before {content: \"▾\";}#sk-container-id-1 div.sk-estimator input.sk-toggleable__control:checked~label.sk-toggleable__label {background-color: #d4ebff;}#sk-container-id-1 div.sk-label input.sk-toggleable__control:checked~label.sk-toggleable__label {background-color: #d4ebff;}#sk-container-id-1 input.sk-hidden--visually {border: 0;clip: rect(1px 1px 1px 1px);clip: rect(1px, 1px, 1px, 1px);height: 1px;margin: -1px;overflow: hidden;padding: 0;position: absolute;width: 1px;}#sk-container-id-1 div.sk-estimator {font-family: monospace;background-color: #f0f8ff;border: 1px dotted black;border-radius: 0.25em;box-sizing: border-box;margin-bottom: 0.5em;}#sk-container-id-1 div.sk-estimator:hover {background-color: #d4ebff;}#sk-container-id-1 div.sk-parallel-item::after {content: \"\";width: 100%;border-bottom: 1px solid gray;flex-grow: 1;}#sk-container-id-1 div.sk-label:hover label.sk-toggleable__label {background-color: #d4ebff;}#sk-container-id-1 div.sk-serial::before {content: \"\";position: absolute;border-left: 1px solid gray;box-sizing: border-box;top: 0;bottom: 0;left: 50%;z-index: 0;}#sk-container-id-1 div.sk-serial {display: flex;flex-direction: column;align-items: center;background-color: white;padding-right: 0.2em;padding-left: 0.2em;position: relative;}#sk-container-id-1 div.sk-item {position: relative;z-index: 1;}#sk-container-id-1 div.sk-parallel {display: flex;align-items: stretch;justify-content: center;background-color: white;position: relative;}#sk-container-id-1 div.sk-item::before, #sk-container-id-1 div.sk-parallel-item::before {content: \"\";position: absolute;border-left: 1px solid gray;box-sizing: border-box;top: 0;bottom: 0;left: 50%;z-index: -1;}#sk-container-id-1 div.sk-parallel-item {display: flex;flex-direction: column;z-index: 1;position: relative;background-color: white;}#sk-container-id-1 div.sk-parallel-item:first-child::after {align-self: flex-end;width: 50%;}#sk-container-id-1 div.sk-parallel-item:last-child::after {align-self: flex-start;width: 50%;}#sk-container-id-1 div.sk-parallel-item:only-child::after {width: 0;}#sk-container-id-1 div.sk-dashed-wrapped {border: 1px dashed gray;margin: 0 0.4em 0.5em 0.4em;box-sizing: border-box;padding-bottom: 0.4em;background-color: white;}#sk-container-id-1 div.sk-label label {font-family: monospace;font-weight: bold;display: inline-block;line-height: 1.2em;}#sk-container-id-1 div.sk-label-container {text-align: center;}#sk-container-id-1 div.sk-container {/* jupyter's `normalize.less` sets `[hidden] { display: none; }` but bootstrap.min.css set `[hidden] { display: none !important; }` so we also need the `!important` here to be able to override the default hidden behavior on the sphinx rendered scikit-learn.org. See: https://github.com/scikit-learn/scikit-learn/issues/21755 */display: inline-block !important;position: relative;}#sk-container-id-1 div.sk-text-repr-fallback {display: none;}</style><div id=\"sk-container-id-1\" class=\"sk-top-container\"><div class=\"sk-text-repr-fallback\"><pre>GridSearchCV(cv=10, estimator=DecisionTreeClassifier(random_state=123),\n",
       "             n_jobs=-1,\n",
       "             param_grid={&#x27;max_depth&#x27;: array([ 5,  6,  7,  8,  9, 10, 11, 12, 13, 14, 15, 16, 17, 18, 19, 20, 21,\n",
       "       22, 23, 24, 25, 26, 27, 28, 29, 30, 31, 32, 33, 34, 35, 36])})</pre><b>In a Jupyter environment, please rerun this cell to show the HTML representation or trust the notebook. <br />On GitHub, the HTML representation is unable to render, please try loading this page with nbviewer.org.</b></div><div class=\"sk-container\" hidden><div class=\"sk-item sk-dashed-wrapped\"><div class=\"sk-label-container\"><div class=\"sk-label sk-toggleable\"><input class=\"sk-toggleable__control sk-hidden--visually\" id=\"sk-estimator-id-1\" type=\"checkbox\" ><label for=\"sk-estimator-id-1\" class=\"sk-toggleable__label sk-toggleable__label-arrow\">GridSearchCV</label><div class=\"sk-toggleable__content\"><pre>GridSearchCV(cv=10, estimator=DecisionTreeClassifier(random_state=123),\n",
       "             n_jobs=-1,\n",
       "             param_grid={&#x27;max_depth&#x27;: array([ 5,  6,  7,  8,  9, 10, 11, 12, 13, 14, 15, 16, 17, 18, 19, 20, 21,\n",
       "       22, 23, 24, 25, 26, 27, 28, 29, 30, 31, 32, 33, 34, 35, 36])})</pre></div></div></div><div class=\"sk-parallel\"><div class=\"sk-parallel-item\"><div class=\"sk-item\"><div class=\"sk-label-container\"><div class=\"sk-label sk-toggleable\"><input class=\"sk-toggleable__control sk-hidden--visually\" id=\"sk-estimator-id-2\" type=\"checkbox\" ><label for=\"sk-estimator-id-2\" class=\"sk-toggleable__label sk-toggleable__label-arrow\">estimator: DecisionTreeClassifier</label><div class=\"sk-toggleable__content\"><pre>DecisionTreeClassifier(random_state=123)</pre></div></div></div><div class=\"sk-serial\"><div class=\"sk-item\"><div class=\"sk-estimator sk-toggleable\"><input class=\"sk-toggleable__control sk-hidden--visually\" id=\"sk-estimator-id-3\" type=\"checkbox\" ><label for=\"sk-estimator-id-3\" class=\"sk-toggleable__label sk-toggleable__label-arrow\">DecisionTreeClassifier</label><div class=\"sk-toggleable__content\"><pre>DecisionTreeClassifier(random_state=123)</pre></div></div></div></div></div></div></div></div></div></div>"
      ],
      "text/plain": [
       "GridSearchCV(cv=10, estimator=DecisionTreeClassifier(random_state=123),\n",
       "             n_jobs=-1,\n",
       "             param_grid={'max_depth': array([ 5,  6,  7,  8,  9, 10, 11, 12, 13, 14, 15, 16, 17, 18, 19, 20, 21,\n",
       "       22, 23, 24, 25, 26, 27, 28, 29, 30, 31, 32, 33, 34, 35, 36])})"
      ]
     },
     "execution_count": 48,
     "metadata": {},
     "output_type": "execute_result"
    }
   ],
   "source": [
    "dec_tree_cv.fit(X_train_clean, y_train)"
   ]
  },
  {
   "cell_type": "code",
   "execution_count": 49,
   "metadata": {},
   "outputs": [
    {
     "data": {
      "text/plain": [
       "0.9785541132311542"
      ]
     },
     "execution_count": 49,
     "metadata": {},
     "output_type": "execute_result"
    }
   ],
   "source": [
    "dec_tree_cv.score(X_train_clean, y_train)"
   ]
  },
  {
   "cell_type": "markdown",
   "metadata": {},
   "source": [
    "### K-Nearest Neighbors"
   ]
  },
  {
   "cell_type": "code",
   "execution_count": 50,
   "metadata": {},
   "outputs": [],
   "source": [
    "knn = KNeighborsClassifier(metric=\"manhattan\")\n",
    "knn_hyparam = {\n",
    "    \"n_neighbors\": np.arange(3, 17)\n",
    "}"
   ]
  },
  {
   "cell_type": "code",
   "execution_count": 51,
   "metadata": {},
   "outputs": [],
   "source": [
    "knn_cv = modelCrossValidation(classifier=knn,\n",
    "                              hyper_param=knn_hyparam,\n",
    "                              input_data=X_train_clean,\n",
    "                              output_data=y_train)"
   ]
  },
  {
   "cell_type": "code",
   "execution_count": 52,
   "metadata": {},
   "outputs": [
    {
     "data": {
      "text/plain": [
       "{'n_neighbors': 3}"
      ]
     },
     "execution_count": 52,
     "metadata": {},
     "output_type": "execute_result"
    }
   ],
   "source": [
    "knn_cv.best_params_"
   ]
  },
  {
   "cell_type": "code",
   "execution_count": 53,
   "metadata": {},
   "outputs": [],
   "source": [
    "cv_best_params[\"knn\"] = knn_cv.best_params_"
   ]
  },
  {
   "cell_type": "markdown",
   "metadata": {},
   "source": [
    "### Logistic Regression"
   ]
  },
  {
   "cell_type": "code",
   "execution_count": 54,
   "metadata": {},
   "outputs": [],
   "source": [
    "log_reg = LogisticRegression(solver=\"liblinear\",\n",
    "                             random_state=123)\n",
    "\n",
    "log_reg_hyparams = {\n",
    "    \"penalty\": [\"l1\", \"l2\"],\n",
    "    \"C\": np.logspace(-5, 5, 25)\n",
    "}"
   ]
  },
  {
   "cell_type": "code",
   "execution_count": 55,
   "metadata": {},
   "outputs": [],
   "source": [
    "log_reg_cv = modelCrossValidation(classifier=log_reg,\n",
    "                                  hyper_param=log_reg_hyparams,\n",
    "                                  input_data=X_train_clean,\n",
    "                                  output_data=y_train)"
   ]
  },
  {
   "cell_type": "code",
   "execution_count": 56,
   "metadata": {},
   "outputs": [
    {
     "data": {
      "text/plain": [
       "{'C': 0.05623413251903491, 'penalty': 'l1'}"
      ]
     },
     "execution_count": 56,
     "metadata": {},
     "output_type": "execute_result"
    }
   ],
   "source": [
    "log_reg_cv.best_params_"
   ]
  },
  {
   "cell_type": "code",
   "execution_count": 57,
   "metadata": {},
   "outputs": [],
   "source": [
    "cv_best_params[\"logistic reg\"] = log_reg_cv.best_params_"
   ]
  },
  {
   "cell_type": "markdown",
   "metadata": {},
   "source": [
    "### AdaBoost Classifier"
   ]
  },
  {
   "cell_type": "code",
   "execution_count": 58,
   "metadata": {},
   "outputs": [],
   "source": [
    "ada_dtree = DecisionTreeClassifier(max_depth=2, random_state=123)\n",
    "\n",
    "ada_boost = AdaBoostClassifier(base_estimator=ada_dtree,\n",
    "                               random_state=123)\n",
    "\n",
    "ada_boost_hyparams = {\n",
    "    \"n_estimators\": [200, 300, 400, 500, 600, 700]\n",
    "}"
   ]
  },
  {
   "cell_type": "code",
   "execution_count": 59,
   "metadata": {},
   "outputs": [],
   "source": [
    "ada_boost_cv = modelCrossValidation(classifier=ada_boost,\n",
    "                                    hyper_param=ada_boost_hyparams,\n",
    "                                    input_data=X_train_clean,\n",
    "                                    output_data=y_train)"
   ]
  },
  {
   "cell_type": "code",
   "execution_count": 60,
   "metadata": {},
   "outputs": [
    {
     "data": {
      "text/plain": [
       "{'n_estimators': 700}"
      ]
     },
     "execution_count": 60,
     "metadata": {},
     "output_type": "execute_result"
    }
   ],
   "source": [
    "ada_boost_cv.best_params_"
   ]
  },
  {
   "cell_type": "code",
   "execution_count": 61,
   "metadata": {},
   "outputs": [],
   "source": [
    "cv_best_params[\"adaboost\"] = ada_boost_cv.best_params_"
   ]
  },
  {
   "cell_type": "markdown",
   "metadata": {},
   "source": [
    "### Gradient Boost Classifier"
   ]
  },
  {
   "cell_type": "code",
   "execution_count": 62,
   "metadata": {},
   "outputs": [],
   "source": [
    "gboost = GradientBoostingClassifier(random_state=123)\n",
    "\n",
    "gboost_hyparams = {\n",
    "    \"n_estimators\": [200, 300, 400, 500, 600, 700]\n",
    "}"
   ]
  },
  {
   "cell_type": "code",
   "execution_count": 63,
   "metadata": {},
   "outputs": [],
   "source": [
    "gboost_cv = modelCrossValidation(classifier=gboost,\n",
    "                                 hyper_param=gboost_hyparams,\n",
    "                                 input_data=X_train_clean,\n",
    "                                 output_data=y_train)"
   ]
  },
  {
   "cell_type": "code",
   "execution_count": 64,
   "metadata": {},
   "outputs": [
    {
     "data": {
      "text/plain": [
       "{'n_estimators': 600}"
      ]
     },
     "execution_count": 64,
     "metadata": {},
     "output_type": "execute_result"
    }
   ],
   "source": [
    "gboost_cv.best_params_"
   ]
  },
  {
   "cell_type": "code",
   "execution_count": 65,
   "metadata": {},
   "outputs": [],
   "source": [
    "cv_best_params[\"gradient boost\"] = gboost_cv.best_params_"
   ]
  },
  {
   "cell_type": "markdown",
   "metadata": {
    "tags": []
   },
   "source": [
    "### Random Forest Classifier"
   ]
  },
  {
   "cell_type": "code",
   "execution_count": 66,
   "metadata": {},
   "outputs": [],
   "source": [
    "random_forest = RandomForestClassifier(criterion=\"gini\",\n",
    "                                       max_features=\"sqrt\",\n",
    "                                       random_state=123)\n",
    "\n",
    "random_forest_hyparams = {\n",
    "    \"n_estimators\": [200, 300, 400, 500, 600, 700]\n",
    "}"
   ]
  },
  {
   "cell_type": "code",
   "execution_count": 67,
   "metadata": {},
   "outputs": [],
   "source": [
    "random_forest_cv = modelCrossValidation(classifier=random_forest,\n",
    "                                        hyper_param=random_forest_hyparams,\n",
    "                                        input_data=X_train_clean,\n",
    "                                        output_data=y_train)"
   ]
  },
  {
   "cell_type": "code",
   "execution_count": 68,
   "metadata": {},
   "outputs": [
    {
     "data": {
      "text/plain": [
       "{'n_estimators': 500}"
      ]
     },
     "execution_count": 68,
     "metadata": {},
     "output_type": "execute_result"
    }
   ],
   "source": [
    "random_forest_cv.best_params_"
   ]
  },
  {
   "cell_type": "code",
   "execution_count": 69,
   "metadata": {},
   "outputs": [],
   "source": [
    "cv_best_params[\"random forest\"] = random_forest_cv.best_params_"
   ]
  },
  {
   "cell_type": "markdown",
   "metadata": {},
   "source": [
    "### **Training ML Model with train data and CV Best Hyperparameter**"
   ]
  },
  {
   "cell_type": "markdown",
   "metadata": {},
   "source": [
    "#### Train - Decision Tree"
   ]
  },
  {
   "cell_type": "code",
   "execution_count": 71,
   "metadata": {},
   "outputs": [],
   "source": [
    "dtree_train = DecisionTreeClassifier(max_depth=cv_best_params[\"decision tree\"][\"max_depth\"],\n",
    "                                     random_state=123)"
   ]
  },
  {
   "cell_type": "code",
   "execution_count": 72,
   "metadata": {},
   "outputs": [
    {
     "data": {
      "text/html": [
       "<style>#sk-container-id-2 {color: black;background-color: white;}#sk-container-id-2 pre{padding: 0;}#sk-container-id-2 div.sk-toggleable {background-color: white;}#sk-container-id-2 label.sk-toggleable__label {cursor: pointer;display: block;width: 100%;margin-bottom: 0;padding: 0.3em;box-sizing: border-box;text-align: center;}#sk-container-id-2 label.sk-toggleable__label-arrow:before {content: \"▸\";float: left;margin-right: 0.25em;color: #696969;}#sk-container-id-2 label.sk-toggleable__label-arrow:hover:before {color: black;}#sk-container-id-2 div.sk-estimator:hover label.sk-toggleable__label-arrow:before {color: black;}#sk-container-id-2 div.sk-toggleable__content {max-height: 0;max-width: 0;overflow: hidden;text-align: left;background-color: #f0f8ff;}#sk-container-id-2 div.sk-toggleable__content pre {margin: 0.2em;color: black;border-radius: 0.25em;background-color: #f0f8ff;}#sk-container-id-2 input.sk-toggleable__control:checked~div.sk-toggleable__content {max-height: 200px;max-width: 100%;overflow: auto;}#sk-container-id-2 input.sk-toggleable__control:checked~label.sk-toggleable__label-arrow:before {content: \"▾\";}#sk-container-id-2 div.sk-estimator input.sk-toggleable__control:checked~label.sk-toggleable__label {background-color: #d4ebff;}#sk-container-id-2 div.sk-label input.sk-toggleable__control:checked~label.sk-toggleable__label {background-color: #d4ebff;}#sk-container-id-2 input.sk-hidden--visually {border: 0;clip: rect(1px 1px 1px 1px);clip: rect(1px, 1px, 1px, 1px);height: 1px;margin: -1px;overflow: hidden;padding: 0;position: absolute;width: 1px;}#sk-container-id-2 div.sk-estimator {font-family: monospace;background-color: #f0f8ff;border: 1px dotted black;border-radius: 0.25em;box-sizing: border-box;margin-bottom: 0.5em;}#sk-container-id-2 div.sk-estimator:hover {background-color: #d4ebff;}#sk-container-id-2 div.sk-parallel-item::after {content: \"\";width: 100%;border-bottom: 1px solid gray;flex-grow: 1;}#sk-container-id-2 div.sk-label:hover label.sk-toggleable__label {background-color: #d4ebff;}#sk-container-id-2 div.sk-serial::before {content: \"\";position: absolute;border-left: 1px solid gray;box-sizing: border-box;top: 0;bottom: 0;left: 50%;z-index: 0;}#sk-container-id-2 div.sk-serial {display: flex;flex-direction: column;align-items: center;background-color: white;padding-right: 0.2em;padding-left: 0.2em;position: relative;}#sk-container-id-2 div.sk-item {position: relative;z-index: 1;}#sk-container-id-2 div.sk-parallel {display: flex;align-items: stretch;justify-content: center;background-color: white;position: relative;}#sk-container-id-2 div.sk-item::before, #sk-container-id-2 div.sk-parallel-item::before {content: \"\";position: absolute;border-left: 1px solid gray;box-sizing: border-box;top: 0;bottom: 0;left: 50%;z-index: -1;}#sk-container-id-2 div.sk-parallel-item {display: flex;flex-direction: column;z-index: 1;position: relative;background-color: white;}#sk-container-id-2 div.sk-parallel-item:first-child::after {align-self: flex-end;width: 50%;}#sk-container-id-2 div.sk-parallel-item:last-child::after {align-self: flex-start;width: 50%;}#sk-container-id-2 div.sk-parallel-item:only-child::after {width: 0;}#sk-container-id-2 div.sk-dashed-wrapped {border: 1px dashed gray;margin: 0 0.4em 0.5em 0.4em;box-sizing: border-box;padding-bottom: 0.4em;background-color: white;}#sk-container-id-2 div.sk-label label {font-family: monospace;font-weight: bold;display: inline-block;line-height: 1.2em;}#sk-container-id-2 div.sk-label-container {text-align: center;}#sk-container-id-2 div.sk-container {/* jupyter's `normalize.less` sets `[hidden] { display: none; }` but bootstrap.min.css set `[hidden] { display: none !important; }` so we also need the `!important` here to be able to override the default hidden behavior on the sphinx rendered scikit-learn.org. See: https://github.com/scikit-learn/scikit-learn/issues/21755 */display: inline-block !important;position: relative;}#sk-container-id-2 div.sk-text-repr-fallback {display: none;}</style><div id=\"sk-container-id-2\" class=\"sk-top-container\"><div class=\"sk-text-repr-fallback\"><pre>DecisionTreeClassifier(max_depth=20, random_state=123)</pre><b>In a Jupyter environment, please rerun this cell to show the HTML representation or trust the notebook. <br />On GitHub, the HTML representation is unable to render, please try loading this page with nbviewer.org.</b></div><div class=\"sk-container\" hidden><div class=\"sk-item\"><div class=\"sk-estimator sk-toggleable\"><input class=\"sk-toggleable__control sk-hidden--visually\" id=\"sk-estimator-id-4\" type=\"checkbox\" checked><label for=\"sk-estimator-id-4\" class=\"sk-toggleable__label sk-toggleable__label-arrow\">DecisionTreeClassifier</label><div class=\"sk-toggleable__content\"><pre>DecisionTreeClassifier(max_depth=20, random_state=123)</pre></div></div></div></div></div>"
      ],
      "text/plain": [
       "DecisionTreeClassifier(max_depth=20, random_state=123)"
      ]
     },
     "execution_count": 72,
     "metadata": {},
     "output_type": "execute_result"
    }
   ],
   "source": [
    "dtree_train.fit(X_train_clean, y_train)"
   ]
  },
  {
   "cell_type": "markdown",
   "metadata": {},
   "source": [
    "##### Predict and Evaluate Train Data - Decision Tree"
   ]
  },
  {
   "cell_type": "code",
   "execution_count": 73,
   "metadata": {},
   "outputs": [
    {
     "name": "stdout",
     "output_type": "stream",
     "text": [
      "Confision Matrix\n",
      "[True Negative: 25311    False Negative: 265]\n",
      "[False Positive: 832   True Positive: 24744]\n",
      "\n",
      "\n",
      "Classification Report\n",
      "              precision    recall  f1-score   support\n",
      "\n",
      "          no       0.97      0.99      0.98     25576\n",
      "         yes       0.99      0.97      0.98     25576\n",
      "\n",
      "    accuracy                           0.98     51152\n",
      "   macro avg       0.98      0.98      0.98     51152\n",
      "weighted avg       0.98      0.98      0.98     51152\n",
      "\n"
     ]
    }
   ],
   "source": [
    "dtree_train_pred = modelPredictionResult(classifier=dtree_train,\n",
    "                                         input_data=X_train_clean,\n",
    "                                         output_data=y_train)"
   ]
  },
  {
   "cell_type": "code",
   "execution_count": 74,
   "metadata": {},
   "outputs": [
    {
     "name": "stdout",
     "output_type": "stream",
     "text": [
      "Classification Score Summary\n",
      "Classifier Accuracy score:  0.9785541132311542\n",
      "Classifier Recall score:  0.9674695026587425\n",
      "Classifier f1-score:  0.9783137293664129\n",
      "Classifier precision:  0.9894038146267343\n"
     ]
    }
   ],
   "source": [
    "dtree_train_scores = classScore(model_prediction=dtree_train_pred,\n",
    "                                output_data=y_train)"
   ]
  },
  {
   "cell_type": "code",
   "execution_count": 75,
   "metadata": {},
   "outputs": [
    {
     "data": {
      "image/png": "[encoded data removed]",
      "text/plain": [
       "<Figure size 432x288 with 1 Axes>"
      ]
     },
     "metadata": {
      "needs_background": "light"
     },
     "output_type": "display_data"
    }
   ],
   "source": [
    "dtree_train_auroc = rocAucResult(model_prediction=dtree_train_pred,\n",
    "                                 output_data=y_train)"
   ]
  },
  {
   "cell_type": "markdown",
   "metadata": {},
   "source": [
    "#### Train - KNN Model"
   ]
  },
  {
   "cell_type": "code",
   "execution_count": 76,
   "metadata": {},
   "outputs": [],
   "source": [
    "knn_train = KNeighborsClassifier(n_neighbors=cv_best_params[\"knn\"][\"n_neighbors\"])"
   ]
  },
  {
   "cell_type": "code",
   "execution_count": 77,
   "metadata": {},
   "outputs": [
    {
     "data": {
      "text/html": [
       "<style>#sk-container-id-3 {color: black;background-color: white;}#sk-container-id-3 pre{padding: 0;}#sk-container-id-3 div.sk-toggleable {background-color: white;}#sk-container-id-3 label.sk-toggleable__label {cursor: pointer;display: block;width: 100%;margin-bottom: 0;padding: 0.3em;box-sizing: border-box;text-align: center;}#sk-container-id-3 label.sk-toggleable__label-arrow:before {content: \"▸\";float: left;margin-right: 0.25em;color: #696969;}#sk-container-id-3 label.sk-toggleable__label-arrow:hover:before {color: black;}#sk-container-id-3 div.sk-estimator:hover label.sk-toggleable__label-arrow:before {color: black;}#sk-container-id-3 div.sk-toggleable__content {max-height: 0;max-width: 0;overflow: hidden;text-align: left;background-color: #f0f8ff;}#sk-container-id-3 div.sk-toggleable__content pre {margin: 0.2em;color: black;border-radius: 0.25em;background-color: #f0f8ff;}#sk-container-id-3 input.sk-toggleable__control:checked~div.sk-toggleable__content {max-height: 200px;max-width: 100%;overflow: auto;}#sk-container-id-3 input.sk-toggleable__control:checked~label.sk-toggleable__label-arrow:before {content: \"▾\";}#sk-container-id-3 div.sk-estimator input.sk-toggleable__control:checked~label.sk-toggleable__label {background-color: #d4ebff;}#sk-container-id-3 div.sk-label input.sk-toggleable__control:checked~label.sk-toggleable__label {background-color: #d4ebff;}#sk-container-id-3 input.sk-hidden--visually {border: 0;clip: rect(1px 1px 1px 1px);clip: rect(1px, 1px, 1px, 1px);height: 1px;margin: -1px;overflow: hidden;padding: 0;position: absolute;width: 1px;}#sk-container-id-3 div.sk-estimator {font-family: monospace;background-color: #f0f8ff;border: 1px dotted black;border-radius: 0.25em;box-sizing: border-box;margin-bottom: 0.5em;}#sk-container-id-3 div.sk-estimator:hover {background-color: #d4ebff;}#sk-container-id-3 div.sk-parallel-item::after {content: \"\";width: 100%;border-bottom: 1px solid gray;flex-grow: 1;}#sk-container-id-3 div.sk-label:hover label.sk-toggleable__label {background-color: #d4ebff;}#sk-container-id-3 div.sk-serial::before {content: \"\";position: absolute;border-left: 1px solid gray;box-sizing: border-box;top: 0;bottom: 0;left: 50%;z-index: 0;}#sk-container-id-3 div.sk-serial {display: flex;flex-direction: column;align-items: center;background-color: white;padding-right: 0.2em;padding-left: 0.2em;position: relative;}#sk-container-id-3 div.sk-item {position: relative;z-index: 1;}#sk-container-id-3 div.sk-parallel {display: flex;align-items: stretch;justify-content: center;background-color: white;position: relative;}#sk-container-id-3 div.sk-item::before, #sk-container-id-3 div.sk-parallel-item::before {content: \"\";position: absolute;border-left: 1px solid gray;box-sizing: border-box;top: 0;bottom: 0;left: 50%;z-index: -1;}#sk-container-id-3 div.sk-parallel-item {display: flex;flex-direction: column;z-index: 1;position: relative;background-color: white;}#sk-container-id-3 div.sk-parallel-item:first-child::after {align-self: flex-end;width: 50%;}#sk-container-id-3 div.sk-parallel-item:last-child::after {align-self: flex-start;width: 50%;}#sk-container-id-3 div.sk-parallel-item:only-child::after {width: 0;}#sk-container-id-3 div.sk-dashed-wrapped {border: 1px dashed gray;margin: 0 0.4em 0.5em 0.4em;box-sizing: border-box;padding-bottom: 0.4em;background-color: white;}#sk-container-id-3 div.sk-label label {font-family: monospace;font-weight: bold;display: inline-block;line-height: 1.2em;}#sk-container-id-3 div.sk-label-container {text-align: center;}#sk-container-id-3 div.sk-container {/* jupyter's `normalize.less` sets `[hidden] { display: none; }` but bootstrap.min.css set `[hidden] { display: none !important; }` so we also need the `!important` here to be able to override the default hidden behavior on the sphinx rendered scikit-learn.org. See: https://github.com/scikit-learn/scikit-learn/issues/21755 */display: inline-block !important;position: relative;}#sk-container-id-3 div.sk-text-repr-fallback {display: none;}</style><div id=\"sk-container-id-3\" class=\"sk-top-container\"><div class=\"sk-text-repr-fallback\"><pre>KNeighborsClassifier(n_neighbors=3)</pre><b>In a Jupyter environment, please rerun this cell to show the HTML representation or trust the notebook. <br />On GitHub, the HTML representation is unable to render, please try loading this page with nbviewer.org.</b></div><div class=\"sk-container\" hidden><div class=\"sk-item\"><div class=\"sk-estimator sk-toggleable\"><input class=\"sk-toggleable__control sk-hidden--visually\" id=\"sk-estimator-id-5\" type=\"checkbox\" checked><label for=\"sk-estimator-id-5\" class=\"sk-toggleable__label sk-toggleable__label-arrow\">KNeighborsClassifier</label><div class=\"sk-toggleable__content\"><pre>KNeighborsClassifier(n_neighbors=3)</pre></div></div></div></div></div>"
      ],
      "text/plain": [
       "KNeighborsClassifier(n_neighbors=3)"
      ]
     },
     "execution_count": 77,
     "metadata": {},
     "output_type": "execute_result"
    }
   ],
   "source": [
    "knn_train.fit(X_train_clean, y_train)"
   ]
  },
  {
   "cell_type": "markdown",
   "metadata": {},
   "source": [
    "##### Predict and Evaluate Train Data - KNN"
   ]
  },
  {
   "cell_type": "code",
   "execution_count": 78,
   "metadata": {},
   "outputs": [
    {
     "name": "stdout",
     "output_type": "stream",
     "text": [
      "Confision Matrix\n",
      "[True Negative: 23386    False Negative: 2190]\n",
      "[False Positive: 226   True Positive: 25350]\n",
      "\n",
      "\n",
      "Classification Report\n",
      "              precision    recall  f1-score   support\n",
      "\n",
      "          no       0.99      0.91      0.95     25576\n",
      "         yes       0.92      0.99      0.95     25576\n",
      "\n",
      "    accuracy                           0.95     51152\n",
      "   macro avg       0.96      0.95      0.95     51152\n",
      "weighted avg       0.96      0.95      0.95     51152\n",
      "\n"
     ]
    }
   ],
   "source": [
    "knn_train_pred = modelPredictionResult(classifier=knn_train,\n",
    "                                       input_data=X_train_clean,\n",
    "                                       output_data=y_train)"
   ]
  },
  {
   "cell_type": "code",
   "execution_count": 79,
   "metadata": {},
   "outputs": [
    {
     "name": "stdout",
     "output_type": "stream",
     "text": [
      "Classification Score Summary\n",
      "Classifier Accuracy score:  0.9527682202064436\n",
      "Classifier Recall score:  0.9911635908664372\n",
      "Classifier f1-score:  0.9545146471872882\n",
      "Classifier precision:  0.920479302832244\n"
     ]
    }
   ],
   "source": [
    "knn_train_score = classScore(model_prediction=knn_train_pred,\n",
    "                             output_data=y_train)"
   ]
  },
  {
   "cell_type": "code",
   "execution_count": 80,
   "metadata": {},
   "outputs": [
    {
     "data": {
      "image/png": "[encoded data removed]",
      "text/plain": [
       "<Figure size 432x288 with 1 Axes>"
      ]
     },
     "metadata": {
      "needs_background": "light"
     },
     "output_type": "display_data"
    }
   ],
   "source": [
    "knn_train_auroc = rocAucResult(model_prediction=knn_train_pred,\n",
    "                               output_data=y_train)"
   ]
  },
  {
   "cell_type": "markdown",
   "metadata": {},
   "source": [
    "#### Train - Logistic Regression"
   ]
  },
  {
   "cell_type": "code",
   "execution_count": 81,
   "metadata": {},
   "outputs": [],
   "source": [
    "log_reg_train = LogisticRegression(penalty=cv_best_params[\"logistic reg\"][\"penalty\"],\n",
    "                                   C=cv_best_params[\"logistic reg\"][\"C\"],\n",
    "                                   solver=\"liblinear\",\n",
    "                                   random_state=123)"
   ]
  },
  {
   "cell_type": "code",
   "execution_count": 82,
   "metadata": {},
   "outputs": [
    {
     "data": {
      "text/html": [
       "<style>#sk-container-id-4 {color: black;background-color: white;}#sk-container-id-4 pre{padding: 0;}#sk-container-id-4 div.sk-toggleable {background-color: white;}#sk-container-id-4 label.sk-toggleable__label {cursor: pointer;display: block;width: 100%;margin-bottom: 0;padding: 0.3em;box-sizing: border-box;text-align: center;}#sk-container-id-4 label.sk-toggleable__label-arrow:before {content: \"▸\";float: left;margin-right: 0.25em;color: #696969;}#sk-container-id-4 label.sk-toggleable__label-arrow:hover:before {color: black;}#sk-container-id-4 div.sk-estimator:hover label.sk-toggleable__label-arrow:before {color: black;}#sk-container-id-4 div.sk-toggleable__content {max-height: 0;max-width: 0;overflow: hidden;text-align: left;background-color: #f0f8ff;}#sk-container-id-4 div.sk-toggleable__content pre {margin: 0.2em;color: black;border-radius: 0.25em;background-color: #f0f8ff;}#sk-container-id-4 input.sk-toggleable__control:checked~div.sk-toggleable__content {max-height: 200px;max-width: 100%;overflow: auto;}#sk-container-id-4 input.sk-toggleable__control:checked~label.sk-toggleable__label-arrow:before {content: \"▾\";}#sk-container-id-4 div.sk-estimator input.sk-toggleable__control:checked~label.sk-toggleable__label {background-color: #d4ebff;}#sk-container-id-4 div.sk-label input.sk-toggleable__control:checked~label.sk-toggleable__label {background-color: #d4ebff;}#sk-container-id-4 input.sk-hidden--visually {border: 0;clip: rect(1px 1px 1px 1px);clip: rect(1px, 1px, 1px, 1px);height: 1px;margin: -1px;overflow: hidden;padding: 0;position: absolute;width: 1px;}#sk-container-id-4 div.sk-estimator {font-family: monospace;background-color: #f0f8ff;border: 1px dotted black;border-radius: 0.25em;box-sizing: border-box;margin-bottom: 0.5em;}#sk-container-id-4 div.sk-estimator:hover {background-color: #d4ebff;}#sk-container-id-4 div.sk-parallel-item::after {content: \"\";width: 100%;border-bottom: 1px solid gray;flex-grow: 1;}#sk-container-id-4 div.sk-label:hover label.sk-toggleable__label {background-color: #d4ebff;}#sk-container-id-4 div.sk-serial::before {content: \"\";position: absolute;border-left: 1px solid gray;box-sizing: border-box;top: 0;bottom: 0;left: 50%;z-index: 0;}#sk-container-id-4 div.sk-serial {display: flex;flex-direction: column;align-items: center;background-color: white;padding-right: 0.2em;padding-left: 0.2em;position: relative;}#sk-container-id-4 div.sk-item {position: relative;z-index: 1;}#sk-container-id-4 div.sk-parallel {display: flex;align-items: stretch;justify-content: center;background-color: white;position: relative;}#sk-container-id-4 div.sk-item::before, #sk-container-id-4 div.sk-parallel-item::before {content: \"\";position: absolute;border-left: 1px solid gray;box-sizing: border-box;top: 0;bottom: 0;left: 50%;z-index: -1;}#sk-container-id-4 div.sk-parallel-item {display: flex;flex-direction: column;z-index: 1;position: relative;background-color: white;}#sk-container-id-4 div.sk-parallel-item:first-child::after {align-self: flex-end;width: 50%;}#sk-container-id-4 div.sk-parallel-item:last-child::after {align-self: flex-start;width: 50%;}#sk-container-id-4 div.sk-parallel-item:only-child::after {width: 0;}#sk-container-id-4 div.sk-dashed-wrapped {border: 1px dashed gray;margin: 0 0.4em 0.5em 0.4em;box-sizing: border-box;padding-bottom: 0.4em;background-color: white;}#sk-container-id-4 div.sk-label label {font-family: monospace;font-weight: bold;display: inline-block;line-height: 1.2em;}#sk-container-id-4 div.sk-label-container {text-align: center;}#sk-container-id-4 div.sk-container {/* jupyter's `normalize.less` sets `[hidden] { display: none; }` but bootstrap.min.css set `[hidden] { display: none !important; }` so we also need the `!important` here to be able to override the default hidden behavior on the sphinx rendered scikit-learn.org. See: https://github.com/scikit-learn/scikit-learn/issues/21755 */display: inline-block !important;position: relative;}#sk-container-id-4 div.sk-text-repr-fallback {display: none;}</style><div id=\"sk-container-id-4\" class=\"sk-top-container\"><div class=\"sk-text-repr-fallback\"><pre>LogisticRegression(C=0.05623413251903491, penalty=&#x27;l1&#x27;, random_state=123,\n",
       "                   solver=&#x27;liblinear&#x27;)</pre><b>In a Jupyter environment, please rerun this cell to show the HTML representation or trust the notebook. <br />On GitHub, the HTML representation is unable to render, please try loading this page with nbviewer.org.</b></div><div class=\"sk-container\" hidden><div class=\"sk-item\"><div class=\"sk-estimator sk-toggleable\"><input class=\"sk-toggleable__control sk-hidden--visually\" id=\"sk-estimator-id-6\" type=\"checkbox\" checked><label for=\"sk-estimator-id-6\" class=\"sk-toggleable__label sk-toggleable__label-arrow\">LogisticRegression</label><div class=\"sk-toggleable__content\"><pre>LogisticRegression(C=0.05623413251903491, penalty=&#x27;l1&#x27;, random_state=123,\n",
       "                   solver=&#x27;liblinear&#x27;)</pre></div></div></div></div></div>"
      ],
      "text/plain": [
       "LogisticRegression(C=0.05623413251903491, penalty='l1', random_state=123,\n",
       "                   solver='liblinear')"
      ]
     },
     "execution_count": 82,
     "metadata": {},
     "output_type": "execute_result"
    }
   ],
   "source": [
    "log_reg_train.fit(X_train_clean, y_train)"
   ]
  },
  {
   "cell_type": "code",
   "execution_count": 83,
   "metadata": {},
   "outputs": [],
   "source": [
    "log_reg_train_proba = log_reg_train.predict_proba(X_train_clean)"
   ]
  },
  {
   "cell_type": "code",
   "execution_count": 84,
   "metadata": {},
   "outputs": [
    {
     "name": "stdout",
     "output_type": "stream",
     "text": [
      "Confision Matrix\n",
      "[True Negative: 21608    False Negative: 3968]\n",
      "[False Positive: 9259   True Positive: 16317]\n",
      "\n",
      "\n",
      "Classification Report\n",
      "              precision    recall  f1-score   support\n",
      "\n",
      "          no       0.70      0.84      0.77     25576\n",
      "         yes       0.80      0.64      0.71     25576\n",
      "\n",
      "    accuracy                           0.74     51152\n",
      "   macro avg       0.75      0.74      0.74     51152\n",
      "weighted avg       0.75      0.74      0.74     51152\n",
      "\n"
     ]
    }
   ],
   "source": [
    "log_reg_train_pred = modelPredictionResult(classifier=log_reg_train,\n",
    "                                           input_data=X_train_clean,\n",
    "                                           output_data=y_train)"
   ]
  },
  {
   "cell_type": "markdown",
   "metadata": {},
   "source": [
    "##### Predict and Evaluate Train Data - Logistic Regression"
   ]
  },
  {
   "cell_type": "code",
   "execution_count": 85,
   "metadata": {},
   "outputs": [
    {
     "name": "stdout",
     "output_type": "stream",
     "text": [
      "Classification Score Summary\n",
      "Classifier Accuracy score:  0.7414177353769159\n",
      "Classifier Recall score:  0.6379809196121364\n",
      "Classifier f1-score:  0.7115850068685812\n",
      "Classifier precision:  0.8043874784323392\n"
     ]
    }
   ],
   "source": [
    "log_reg_train_score = classScore(model_prediction=log_reg_train_pred,\n",
    "                                 output_data=y_train)"
   ]
  },
  {
   "cell_type": "code",
   "execution_count": 86,
   "metadata": {},
   "outputs": [
    {
     "data": {
      "image/png": "[encoded data removed]",
      "text/plain": [
       "<Figure size 432x288 with 1 Axes>"
      ]
     },
     "metadata": {
      "needs_background": "light"
     },
     "output_type": "display_data"
    }
   ],
   "source": [
    "log_reg_train_aucroc = rocAucResult(model_prediction=log_reg_train_pred,\n",
    "                                    output_data=y_train)"
   ]
  },
  {
   "cell_type": "markdown",
   "metadata": {},
   "source": [
    "#### Train - AdaBoost"
   ]
  },
  {
   "cell_type": "code",
   "execution_count": 87,
   "metadata": {},
   "outputs": [],
   "source": [
    "ada_dtree_train = DecisionTreeClassifier(max_depth=2, random_state=123)\n",
    "adaboost_train = AdaBoostClassifier(base_estimator=ada_dtree_train,\n",
    "                                    n_estimators=cv_best_params[\"adaboost\"][\"n_estimators\"],\n",
    "                                    random_state=123)"
   ]
  },
  {
   "cell_type": "code",
   "execution_count": 88,
   "metadata": {},
   "outputs": [
    {
     "data": {
      "text/html": [
       "<style>#sk-container-id-5 {color: black;background-color: white;}#sk-container-id-5 pre{padding: 0;}#sk-container-id-5 div.sk-toggleable {background-color: white;}#sk-container-id-5 label.sk-toggleable__label {cursor: pointer;display: block;width: 100%;margin-bottom: 0;padding: 0.3em;box-sizing: border-box;text-align: center;}#sk-container-id-5 label.sk-toggleable__label-arrow:before {content: \"▸\";float: left;margin-right: 0.25em;color: #696969;}#sk-container-id-5 label.sk-toggleable__label-arrow:hover:before {color: black;}#sk-container-id-5 div.sk-estimator:hover label.sk-toggleable__label-arrow:before {color: black;}#sk-container-id-5 div.sk-toggleable__content {max-height: 0;max-width: 0;overflow: hidden;text-align: left;background-color: #f0f8ff;}#sk-container-id-5 div.sk-toggleable__content pre {margin: 0.2em;color: black;border-radius: 0.25em;background-color: #f0f8ff;}#sk-container-id-5 input.sk-toggleable__control:checked~div.sk-toggleable__content {max-height: 200px;max-width: 100%;overflow: auto;}#sk-container-id-5 input.sk-toggleable__control:checked~label.sk-toggleable__label-arrow:before {content: \"▾\";}#sk-container-id-5 div.sk-estimator input.sk-toggleable__control:checked~label.sk-toggleable__label {background-color: #d4ebff;}#sk-container-id-5 div.sk-label input.sk-toggleable__control:checked~label.sk-toggleable__label {background-color: #d4ebff;}#sk-container-id-5 input.sk-hidden--visually {border: 0;clip: rect(1px 1px 1px 1px);clip: rect(1px, 1px, 1px, 1px);height: 1px;margin: -1px;overflow: hidden;padding: 0;position: absolute;width: 1px;}#sk-container-id-5 div.sk-estimator {font-family: monospace;background-color: #f0f8ff;border: 1px dotted black;border-radius: 0.25em;box-sizing: border-box;margin-bottom: 0.5em;}#sk-container-id-5 div.sk-estimator:hover {background-color: #d4ebff;}#sk-container-id-5 div.sk-parallel-item::after {content: \"\";width: 100%;border-bottom: 1px solid gray;flex-grow: 1;}#sk-container-id-5 div.sk-label:hover label.sk-toggleable__label {background-color: #d4ebff;}#sk-container-id-5 div.sk-serial::before {content: \"\";position: absolute;border-left: 1px solid gray;box-sizing: border-box;top: 0;bottom: 0;left: 50%;z-index: 0;}#sk-container-id-5 div.sk-serial {display: flex;flex-direction: column;align-items: center;background-color: white;padding-right: 0.2em;padding-left: 0.2em;position: relative;}#sk-container-id-5 div.sk-item {position: relative;z-index: 1;}#sk-container-id-5 div.sk-parallel {display: flex;align-items: stretch;justify-content: center;background-color: white;position: relative;}#sk-container-id-5 div.sk-item::before, #sk-container-id-5 div.sk-parallel-item::before {content: \"\";position: absolute;border-left: 1px solid gray;box-sizing: border-box;top: 0;bottom: 0;left: 50%;z-index: -1;}#sk-container-id-5 div.sk-parallel-item {display: flex;flex-direction: column;z-index: 1;position: relative;background-color: white;}#sk-container-id-5 div.sk-parallel-item:first-child::after {align-self: flex-end;width: 50%;}#sk-container-id-5 div.sk-parallel-item:last-child::after {align-self: flex-start;width: 50%;}#sk-container-id-5 div.sk-parallel-item:only-child::after {width: 0;}#sk-container-id-5 div.sk-dashed-wrapped {border: 1px dashed gray;margin: 0 0.4em 0.5em 0.4em;box-sizing: border-box;padding-bottom: 0.4em;background-color: white;}#sk-container-id-5 div.sk-label label {font-family: monospace;font-weight: bold;display: inline-block;line-height: 1.2em;}#sk-container-id-5 div.sk-label-container {text-align: center;}#sk-container-id-5 div.sk-container {/* jupyter's `normalize.less` sets `[hidden] { display: none; }` but bootstrap.min.css set `[hidden] { display: none !important; }` so we also need the `!important` here to be able to override the default hidden behavior on the sphinx rendered scikit-learn.org. See: https://github.com/scikit-learn/scikit-learn/issues/21755 */display: inline-block !important;position: relative;}#sk-container-id-5 div.sk-text-repr-fallback {display: none;}</style><div id=\"sk-container-id-5\" class=\"sk-top-container\"><div class=\"sk-text-repr-fallback\"><pre>AdaBoostClassifier(base_estimator=DecisionTreeClassifier(max_depth=2,\n",
       "                                                         random_state=123),\n",
       "                   n_estimators=700, random_state=123)</pre><b>In a Jupyter environment, please rerun this cell to show the HTML representation or trust the notebook. <br />On GitHub, the HTML representation is unable to render, please try loading this page with nbviewer.org.</b></div><div class=\"sk-container\" hidden><div class=\"sk-item sk-dashed-wrapped\"><div class=\"sk-label-container\"><div class=\"sk-label sk-toggleable\"><input class=\"sk-toggleable__control sk-hidden--visually\" id=\"sk-estimator-id-7\" type=\"checkbox\" ><label for=\"sk-estimator-id-7\" class=\"sk-toggleable__label sk-toggleable__label-arrow\">AdaBoostClassifier</label><div class=\"sk-toggleable__content\"><pre>AdaBoostClassifier(base_estimator=DecisionTreeClassifier(max_depth=2,\n",
       "                                                         random_state=123),\n",
       "                   n_estimators=700, random_state=123)</pre></div></div></div><div class=\"sk-parallel\"><div class=\"sk-parallel-item\"><div class=\"sk-item\"><div class=\"sk-label-container\"><div class=\"sk-label sk-toggleable\"><input class=\"sk-toggleable__control sk-hidden--visually\" id=\"sk-estimator-id-8\" type=\"checkbox\" ><label for=\"sk-estimator-id-8\" class=\"sk-toggleable__label sk-toggleable__label-arrow\">base_estimator: DecisionTreeClassifier</label><div class=\"sk-toggleable__content\"><pre>DecisionTreeClassifier(max_depth=2, random_state=123)</pre></div></div></div><div class=\"sk-serial\"><div class=\"sk-item\"><div class=\"sk-estimator sk-toggleable\"><input class=\"sk-toggleable__control sk-hidden--visually\" id=\"sk-estimator-id-9\" type=\"checkbox\" ><label for=\"sk-estimator-id-9\" class=\"sk-toggleable__label sk-toggleable__label-arrow\">DecisionTreeClassifier</label><div class=\"sk-toggleable__content\"><pre>DecisionTreeClassifier(max_depth=2, random_state=123)</pre></div></div></div></div></div></div></div></div></div></div>"
      ],
      "text/plain": [
       "AdaBoostClassifier(base_estimator=DecisionTreeClassifier(max_depth=2,\n",
       "                                                         random_state=123),\n",
       "                   n_estimators=700, random_state=123)"
      ]
     },
     "execution_count": 88,
     "metadata": {},
     "output_type": "execute_result"
    }
   ],
   "source": [
    "adaboost_train.fit(X_train_clean, y_train)"
   ]
  },
  {
   "cell_type": "markdown",
   "metadata": {},
   "source": [
    "##### Predict and Evaluate Train Data - Adaboost"
   ]
  },
  {
   "cell_type": "code",
   "execution_count": 89,
   "metadata": {},
   "outputs": [
    {
     "name": "stdout",
     "output_type": "stream",
     "text": [
      "Confision Matrix\n",
      "[True Negative: 25170    False Negative: 406]\n",
      "[False Positive: 1957   True Positive: 23619]\n",
      "\n",
      "\n",
      "Classification Report\n",
      "              precision    recall  f1-score   support\n",
      "\n",
      "          no       0.93      0.98      0.96     25576\n",
      "         yes       0.98      0.92      0.95     25576\n",
      "\n",
      "    accuracy                           0.95     51152\n",
      "   macro avg       0.96      0.95      0.95     51152\n",
      "weighted avg       0.96      0.95      0.95     51152\n",
      "\n"
     ]
    }
   ],
   "source": [
    "adaboost_train_pred = modelPredictionResult(classifier=adaboost_train,\n",
    "                                            input_data=X_train_clean,\n",
    "                                            output_data=y_train)"
   ]
  },
  {
   "cell_type": "code",
   "execution_count": 90,
   "metadata": {},
   "outputs": [],
   "source": [
    "adaboost_train_pred = adaboost_train.predict(X_train_clean)"
   ]
  },
  {
   "cell_type": "code",
   "execution_count": 91,
   "metadata": {},
   "outputs": [
    {
     "name": "stdout",
     "output_type": "stream",
     "text": [
      "Classification Score Summary\n",
      "Classifier Accuracy score:  0.9538043478260869\n",
      "Classifier Recall score:  0.9234829527682202\n",
      "Classifier f1-score:  0.9523598314550109\n",
      "Classifier precision:  0.9831009365244537\n"
     ]
    }
   ],
   "source": [
    "adaboost_train_score = classScore(model_prediction=adaboost_train_pred,\n",
    "                                  output_data=y_train)"
   ]
  },
  {
   "cell_type": "code",
   "execution_count": 92,
   "metadata": {},
   "outputs": [
    {
     "data": {
      "image/png": "[encoded data removed]",
      "text/plain": [
       "<Figure size 432x288 with 1 Axes>"
      ]
     },
     "metadata": {
      "needs_background": "light"
     },
     "output_type": "display_data"
    }
   ],
   "source": [
    "adaboost_train_aucroc = rocAucResult(model_prediction=adaboost_train_pred,\n",
    "                                     output_data=y_train)"
   ]
  },
  {
   "cell_type": "markdown",
   "metadata": {},
   "source": [
    "#### Train - Gradient Boosting"
   ]
  },
  {
   "cell_type": "code",
   "execution_count": 93,
   "metadata": {},
   "outputs": [],
   "source": [
    "gboost_train = GradientBoostingClassifier(\n",
    "    n_estimators=cv_best_params[\"gradient boost\"][\"n_estimators\"],\n",
    "    random_state=123\n",
    ")"
   ]
  },
  {
   "cell_type": "code",
   "execution_count": 94,
   "metadata": {},
   "outputs": [
    {
     "data": {
      "text/html": [
       "<style>#sk-container-id-6 {color: black;background-color: white;}#sk-container-id-6 pre{padding: 0;}#sk-container-id-6 div.sk-toggleable {background-color: white;}#sk-container-id-6 label.sk-toggleable__label {cursor: pointer;display: block;width: 100%;margin-bottom: 0;padding: 0.3em;box-sizing: border-box;text-align: center;}#sk-container-id-6 label.sk-toggleable__label-arrow:before {content: \"▸\";float: left;margin-right: 0.25em;color: #696969;}#sk-container-id-6 label.sk-toggleable__label-arrow:hover:before {color: black;}#sk-container-id-6 div.sk-estimator:hover label.sk-toggleable__label-arrow:before {color: black;}#sk-container-id-6 div.sk-toggleable__content {max-height: 0;max-width: 0;overflow: hidden;text-align: left;background-color: #f0f8ff;}#sk-container-id-6 div.sk-toggleable__content pre {margin: 0.2em;color: black;border-radius: 0.25em;background-color: #f0f8ff;}#sk-container-id-6 input.sk-toggleable__control:checked~div.sk-toggleable__content {max-height: 200px;max-width: 100%;overflow: auto;}#sk-container-id-6 input.sk-toggleable__control:checked~label.sk-toggleable__label-arrow:before {content: \"▾\";}#sk-container-id-6 div.sk-estimator input.sk-toggleable__control:checked~label.sk-toggleable__label {background-color: #d4ebff;}#sk-container-id-6 div.sk-label input.sk-toggleable__control:checked~label.sk-toggleable__label {background-color: #d4ebff;}#sk-container-id-6 input.sk-hidden--visually {border: 0;clip: rect(1px 1px 1px 1px);clip: rect(1px, 1px, 1px, 1px);height: 1px;margin: -1px;overflow: hidden;padding: 0;position: absolute;width: 1px;}#sk-container-id-6 div.sk-estimator {font-family: monospace;background-color: #f0f8ff;border: 1px dotted black;border-radius: 0.25em;box-sizing: border-box;margin-bottom: 0.5em;}#sk-container-id-6 div.sk-estimator:hover {background-color: #d4ebff;}#sk-container-id-6 div.sk-parallel-item::after {content: \"\";width: 100%;border-bottom: 1px solid gray;flex-grow: 1;}#sk-container-id-6 div.sk-label:hover label.sk-toggleable__label {background-color: #d4ebff;}#sk-container-id-6 div.sk-serial::before {content: \"\";position: absolute;border-left: 1px solid gray;box-sizing: border-box;top: 0;bottom: 0;left: 50%;z-index: 0;}#sk-container-id-6 div.sk-serial {display: flex;flex-direction: column;align-items: center;background-color: white;padding-right: 0.2em;padding-left: 0.2em;position: relative;}#sk-container-id-6 div.sk-item {position: relative;z-index: 1;}#sk-container-id-6 div.sk-parallel {display: flex;align-items: stretch;justify-content: center;background-color: white;position: relative;}#sk-container-id-6 div.sk-item::before, #sk-container-id-6 div.sk-parallel-item::before {content: \"\";position: absolute;border-left: 1px solid gray;box-sizing: border-box;top: 0;bottom: 0;left: 50%;z-index: -1;}#sk-container-id-6 div.sk-parallel-item {display: flex;flex-direction: column;z-index: 1;position: relative;background-color: white;}#sk-container-id-6 div.sk-parallel-item:first-child::after {align-self: flex-end;width: 50%;}#sk-container-id-6 div.sk-parallel-item:last-child::after {align-self: flex-start;width: 50%;}#sk-container-id-6 div.sk-parallel-item:only-child::after {width: 0;}#sk-container-id-6 div.sk-dashed-wrapped {border: 1px dashed gray;margin: 0 0.4em 0.5em 0.4em;box-sizing: border-box;padding-bottom: 0.4em;background-color: white;}#sk-container-id-6 div.sk-label label {font-family: monospace;font-weight: bold;display: inline-block;line-height: 1.2em;}#sk-container-id-6 div.sk-label-container {text-align: center;}#sk-container-id-6 div.sk-container {/* jupyter's `normalize.less` sets `[hidden] { display: none; }` but bootstrap.min.css set `[hidden] { display: none !important; }` so we also need the `!important` here to be able to override the default hidden behavior on the sphinx rendered scikit-learn.org. See: https://github.com/scikit-learn/scikit-learn/issues/21755 */display: inline-block !important;position: relative;}#sk-container-id-6 div.sk-text-repr-fallback {display: none;}</style><div id=\"sk-container-id-6\" class=\"sk-top-container\"><div class=\"sk-text-repr-fallback\"><pre>GradientBoostingClassifier(n_estimators=600, random_state=123)</pre><b>In a Jupyter environment, please rerun this cell to show the HTML representation or trust the notebook. <br />On GitHub, the HTML representation is unable to render, please try loading this page with nbviewer.org.</b></div><div class=\"sk-container\" hidden><div class=\"sk-item\"><div class=\"sk-estimator sk-toggleable\"><input class=\"sk-toggleable__control sk-hidden--visually\" id=\"sk-estimator-id-10\" type=\"checkbox\" checked><label for=\"sk-estimator-id-10\" class=\"sk-toggleable__label sk-toggleable__label-arrow\">GradientBoostingClassifier</label><div class=\"sk-toggleable__content\"><pre>GradientBoostingClassifier(n_estimators=600, random_state=123)</pre></div></div></div></div></div>"
      ],
      "text/plain": [
       "GradientBoostingClassifier(n_estimators=600, random_state=123)"
      ]
     },
     "execution_count": 94,
     "metadata": {},
     "output_type": "execute_result"
    }
   ],
   "source": [
    "gboost_train.fit(X_train_clean, y_train)"
   ]
  },
  {
   "cell_type": "markdown",
   "metadata": {},
   "source": [
    "##### Predict and Evaluate Train Data - Gradient Boosting"
   ]
  },
  {
   "cell_type": "code",
   "execution_count": 95,
   "metadata": {},
   "outputs": [
    {
     "name": "stdout",
     "output_type": "stream",
     "text": [
      "Confision Matrix\n",
      "[True Negative: 25152    False Negative: 424]\n",
      "[False Positive: 2151   True Positive: 23425]\n",
      "\n",
      "\n",
      "Classification Report\n",
      "              precision    recall  f1-score   support\n",
      "\n",
      "          no       0.92      0.98      0.95     25576\n",
      "         yes       0.98      0.92      0.95     25576\n",
      "\n",
      "    accuracy                           0.95     51152\n",
      "   macro avg       0.95      0.95      0.95     51152\n",
      "weighted avg       0.95      0.95      0.95     51152\n",
      "\n"
     ]
    }
   ],
   "source": [
    "gboost_train_pred = modelPredictionResult(classifier=gboost_train,\n",
    "                                          input_data=X_train_clean,\n",
    "                                          output_data=y_train)"
   ]
  },
  {
   "cell_type": "code",
   "execution_count": 96,
   "metadata": {},
   "outputs": [
    {
     "name": "stdout",
     "output_type": "stream",
     "text": [
      "Classification Score Summary\n",
      "Classifier Accuracy score:  0.9496598373475132\n",
      "Classifier Recall score:  0.9158977166093213\n",
      "Classifier f1-score:  0.9479008598887203\n",
      "Classifier precision:  0.9822214767914798\n"
     ]
    }
   ],
   "source": [
    "gboost_train_score = classScore(model_prediction=gboost_train_pred,\n",
    "                                output_data=y_train)"
   ]
  },
  {
   "cell_type": "code",
   "execution_count": 97,
   "metadata": {},
   "outputs": [
    {
     "data": {
      "image/png": "[encoded data removed]",
      "text/plain": [
       "<Figure size 432x288 with 1 Axes>"
      ]
     },
     "metadata": {
      "needs_background": "light"
     },
     "output_type": "display_data"
    }
   ],
   "source": [
    "gboost_train_aucroc = rocAucResult(model_prediction=gboost_train_pred,\n",
    "                                   output_data=y_train)"
   ]
  },
  {
   "cell_type": "markdown",
   "metadata": {},
   "source": [
    "#### Train - Random Forest"
   ]
  },
  {
   "cell_type": "code",
   "execution_count": 98,
   "metadata": {},
   "outputs": [],
   "source": [
    "r_forest_train = RandomForestClassifier(\n",
    "    criterion=\"entropy\",\n",
    "    n_estimators=cv_best_params[\"random forest\"][\"n_estimators\"],\n",
    "    max_features=\"sqrt\",\n",
    "    random_state=123\n",
    ")"
   ]
  },
  {
   "cell_type": "code",
   "execution_count": 99,
   "metadata": {},
   "outputs": [
    {
     "data": {
      "text/html": [
       "<style>#sk-container-id-7 {color: black;background-color: white;}#sk-container-id-7 pre{padding: 0;}#sk-container-id-7 div.sk-toggleable {background-color: white;}#sk-container-id-7 label.sk-toggleable__label {cursor: pointer;display: block;width: 100%;margin-bottom: 0;padding: 0.3em;box-sizing: border-box;text-align: center;}#sk-container-id-7 label.sk-toggleable__label-arrow:before {content: \"▸\";float: left;margin-right: 0.25em;color: #696969;}#sk-container-id-7 label.sk-toggleable__label-arrow:hover:before {color: black;}#sk-container-id-7 div.sk-estimator:hover label.sk-toggleable__label-arrow:before {color: black;}#sk-container-id-7 div.sk-toggleable__content {max-height: 0;max-width: 0;overflow: hidden;text-align: left;background-color: #f0f8ff;}#sk-container-id-7 div.sk-toggleable__content pre {margin: 0.2em;color: black;border-radius: 0.25em;background-color: #f0f8ff;}#sk-container-id-7 input.sk-toggleable__control:checked~div.sk-toggleable__content {max-height: 200px;max-width: 100%;overflow: auto;}#sk-container-id-7 input.sk-toggleable__control:checked~label.sk-toggleable__label-arrow:before {content: \"▾\";}#sk-container-id-7 div.sk-estimator input.sk-toggleable__control:checked~label.sk-toggleable__label {background-color: #d4ebff;}#sk-container-id-7 div.sk-label input.sk-toggleable__control:checked~label.sk-toggleable__label {background-color: #d4ebff;}#sk-container-id-7 input.sk-hidden--visually {border: 0;clip: rect(1px 1px 1px 1px);clip: rect(1px, 1px, 1px, 1px);height: 1px;margin: -1px;overflow: hidden;padding: 0;position: absolute;width: 1px;}#sk-container-id-7 div.sk-estimator {font-family: monospace;background-color: #f0f8ff;border: 1px dotted black;border-radius: 0.25em;box-sizing: border-box;margin-bottom: 0.5em;}#sk-container-id-7 div.sk-estimator:hover {background-color: #d4ebff;}#sk-container-id-7 div.sk-parallel-item::after {content: \"\";width: 100%;border-bottom: 1px solid gray;flex-grow: 1;}#sk-container-id-7 div.sk-label:hover label.sk-toggleable__label {background-color: #d4ebff;}#sk-container-id-7 div.sk-serial::before {content: \"\";position: absolute;border-left: 1px solid gray;box-sizing: border-box;top: 0;bottom: 0;left: 50%;z-index: 0;}#sk-container-id-7 div.sk-serial {display: flex;flex-direction: column;align-items: center;background-color: white;padding-right: 0.2em;padding-left: 0.2em;position: relative;}#sk-container-id-7 div.sk-item {position: relative;z-index: 1;}#sk-container-id-7 div.sk-parallel {display: flex;align-items: stretch;justify-content: center;background-color: white;position: relative;}#sk-container-id-7 div.sk-item::before, #sk-container-id-7 div.sk-parallel-item::before {content: \"\";position: absolute;border-left: 1px solid gray;box-sizing: border-box;top: 0;bottom: 0;left: 50%;z-index: -1;}#sk-container-id-7 div.sk-parallel-item {display: flex;flex-direction: column;z-index: 1;position: relative;background-color: white;}#sk-container-id-7 div.sk-parallel-item:first-child::after {align-self: flex-end;width: 50%;}#sk-container-id-7 div.sk-parallel-item:last-child::after {align-self: flex-start;width: 50%;}#sk-container-id-7 div.sk-parallel-item:only-child::after {width: 0;}#sk-container-id-7 div.sk-dashed-wrapped {border: 1px dashed gray;margin: 0 0.4em 0.5em 0.4em;box-sizing: border-box;padding-bottom: 0.4em;background-color: white;}#sk-container-id-7 div.sk-label label {font-family: monospace;font-weight: bold;display: inline-block;line-height: 1.2em;}#sk-container-id-7 div.sk-label-container {text-align: center;}#sk-container-id-7 div.sk-container {/* jupyter's `normalize.less` sets `[hidden] { display: none; }` but bootstrap.min.css set `[hidden] { display: none !important; }` so we also need the `!important` here to be able to override the default hidden behavior on the sphinx rendered scikit-learn.org. See: https://github.com/scikit-learn/scikit-learn/issues/21755 */display: inline-block !important;position: relative;}#sk-container-id-7 div.sk-text-repr-fallback {display: none;}</style><div id=\"sk-container-id-7\" class=\"sk-top-container\"><div class=\"sk-text-repr-fallback\"><pre>RandomForestClassifier(criterion=&#x27;entropy&#x27;, n_estimators=500, random_state=123)</pre><b>In a Jupyter environment, please rerun this cell to show the HTML representation or trust the notebook. <br />On GitHub, the HTML representation is unable to render, please try loading this page with nbviewer.org.</b></div><div class=\"sk-container\" hidden><div class=\"sk-item\"><div class=\"sk-estimator sk-toggleable\"><input class=\"sk-toggleable__control sk-hidden--visually\" id=\"sk-estimator-id-11\" type=\"checkbox\" checked><label for=\"sk-estimator-id-11\" class=\"sk-toggleable__label sk-toggleable__label-arrow\">RandomForestClassifier</label><div class=\"sk-toggleable__content\"><pre>RandomForestClassifier(criterion=&#x27;entropy&#x27;, n_estimators=500, random_state=123)</pre></div></div></div></div></div>"
      ],
      "text/plain": [
       "RandomForestClassifier(criterion='entropy', n_estimators=500, random_state=123)"
      ]
     },
     "execution_count": 99,
     "metadata": {},
     "output_type": "execute_result"
    }
   ],
   "source": [
    "r_forest_train.fit(X_train_clean, y_train)"
   ]
  },
  {
   "cell_type": "markdown",
   "metadata": {},
   "source": [
    "##### Predict and Evaluate Train Data - Random Forest"
   ]
  },
  {
   "cell_type": "code",
   "execution_count": 100,
   "metadata": {},
   "outputs": [
    {
     "name": "stdout",
     "output_type": "stream",
     "text": [
      "Confision Matrix\n",
      "[True Negative: 25548    False Negative: 28]\n",
      "[False Positive: 99   True Positive: 25477]\n",
      "\n",
      "\n",
      "Classification Report\n",
      "              precision    recall  f1-score   support\n",
      "\n",
      "          no       1.00      1.00      1.00     25576\n",
      "         yes       1.00      1.00      1.00     25576\n",
      "\n",
      "    accuracy                           1.00     51152\n",
      "   macro avg       1.00      1.00      1.00     51152\n",
      "weighted avg       1.00      1.00      1.00     51152\n",
      "\n"
     ]
    }
   ],
   "source": [
    "r_forest_train_pred = modelPredictionResult(classifier=r_forest_train,\n",
    "                                            input_data=X_train_clean,\n",
    "                                            output_data=y_train)"
   ]
  },
  {
   "cell_type": "code",
   "execution_count": 101,
   "metadata": {},
   "outputs": [
    {
     "name": "stdout",
     "output_type": "stream",
     "text": [
      "Classification Score Summary\n",
      "Classifier Accuracy score:  0.9975172036284016\n",
      "Classifier Recall score:  0.996129183609634\n",
      "Classifier f1-score:  0.9975137526673322\n",
      "Classifier precision:  0.998902176043913\n"
     ]
    }
   ],
   "source": [
    "r_forest_train_score = classScore(model_prediction=r_forest_train_pred,\n",
    "                                  output_data=y_train)"
   ]
  },
  {
   "cell_type": "code",
   "execution_count": 102,
   "metadata": {},
   "outputs": [
    {
     "data": {
      "image/png": "[encoded data removed]",
      "text/plain": [
       "<Figure size 432x288 with 1 Axes>"
      ]
     },
     "metadata": {
      "needs_background": "light"
     },
     "output_type": "display_data"
    }
   ],
   "source": [
    "r_forest_train_aucroc = rocAucResult(model_prediction=r_forest_train_pred,\n",
    "                                     output_data=y_train)"
   ]
  },
  {
   "cell_type": "markdown",
   "metadata": {},
   "source": [
    "### Train Data Simple Report"
   ]
  },
  {
   "cell_type": "code",
   "execution_count": 103,
   "metadata": {},
   "outputs": [],
   "source": [
    "train_score = {\n",
    "    \"Decision Tree\": dtree_train_scores,\n",
    "    \"KNN\": knn_train_score,\n",
    "    \"Logistic Regression\": log_reg_train_score,\n",
    "    \"Random Forest\": r_forest_train_score,\n",
    "    \"Adaboost\": adaboost_train_score,\n",
    "    \"Gradient Boost\": gboost_train_score,\n",
    "}"
   ]
  },
  {
   "cell_type": "code",
   "execution_count": 104,
   "metadata": {},
   "outputs": [
    {
     "data": {
      "text/html": [
       "<div>\n",
       "<style scoped>\n",
       "    .dataframe tbody tr th:only-of-type {\n",
       "        vertical-align: middle;\n",
       "    }\n",
       "\n",
       "    .dataframe tbody tr th {\n",
       "        vertical-align: top;\n",
       "    }\n",
       "\n",
       "    .dataframe thead th {\n",
       "        text-align: right;\n",
       "    }\n",
       "</style>\n",
       "<table border=\"1\" class=\"dataframe\">\n",
       "  <thead>\n",
       "    <tr style=\"text-align: right;\">\n",
       "      <th></th>\n",
       "      <th>Decision Tree</th>\n",
       "      <th>KNN</th>\n",
       "      <th>Logistic Regression</th>\n",
       "      <th>Random Forest</th>\n",
       "      <th>Adaboost</th>\n",
       "      <th>Gradient Boost</th>\n",
       "    </tr>\n",
       "  </thead>\n",
       "  <tbody>\n",
       "    <tr>\n",
       "      <th>accuracy</th>\n",
       "      <td>0.978554</td>\n",
       "      <td>0.952768</td>\n",
       "      <td>0.741418</td>\n",
       "      <td>0.997517</td>\n",
       "      <td>0.953804</td>\n",
       "      <td>0.949660</td>\n",
       "    </tr>\n",
       "    <tr>\n",
       "      <th>recall</th>\n",
       "      <td>0.967470</td>\n",
       "      <td>0.991164</td>\n",
       "      <td>0.637981</td>\n",
       "      <td>0.996129</td>\n",
       "      <td>0.923483</td>\n",
       "      <td>0.915898</td>\n",
       "    </tr>\n",
       "    <tr>\n",
       "      <th>f1_score</th>\n",
       "      <td>0.978314</td>\n",
       "      <td>0.954515</td>\n",
       "      <td>0.711585</td>\n",
       "      <td>0.997514</td>\n",
       "      <td>0.952360</td>\n",
       "      <td>0.947901</td>\n",
       "    </tr>\n",
       "    <tr>\n",
       "      <th>precision</th>\n",
       "      <td>0.989404</td>\n",
       "      <td>0.920479</td>\n",
       "      <td>0.804387</td>\n",
       "      <td>0.998902</td>\n",
       "      <td>0.983101</td>\n",
       "      <td>0.982221</td>\n",
       "    </tr>\n",
       "  </tbody>\n",
       "</table>\n",
       "</div>"
      ],
      "text/plain": [
       "           Decision Tree       KNN  Logistic Regression  Random Forest  \\\n",
       "accuracy        0.978554  0.952768             0.741418       0.997517   \n",
       "recall          0.967470  0.991164             0.637981       0.996129   \n",
       "f1_score        0.978314  0.954515             0.711585       0.997514   \n",
       "precision       0.989404  0.920479             0.804387       0.998902   \n",
       "\n",
       "           Adaboost  Gradient Boost  \n",
       "accuracy   0.953804        0.949660  \n",
       "recall     0.923483        0.915898  \n",
       "f1_score   0.952360        0.947901  \n",
       "precision  0.983101        0.982221  "
      ]
     },
     "execution_count": 104,
     "metadata": {},
     "output_type": "execute_result"
    }
   ],
   "source": [
    "train_score_df = pd.DataFrame(train_score)\n",
    "train_score_df"
   ]
  },
  {
   "cell_type": "code",
   "execution_count": 105,
   "metadata": {},
   "outputs": [],
   "source": [
    "auc_roc_data = {\n",
    "    \"Decision Tree\": dtree_train_auroc,\n",
    "    \"KNN\": knn_train_auroc,\n",
    "    \"Logistic Regression\": log_reg_train_aucroc,\n",
    "    \"Random Forest\": r_forest_train_aucroc,\n",
    "    \"Adaboost\": adaboost_train_aucroc,\n",
    "    \"Gradient Boost\": gboost_train_aucroc,\n",
    "}"
   ]
  },
  {
   "cell_type": "code",
   "execution_count": 106,
   "metadata": {},
   "outputs": [
    {
     "data": {
      "image/png": "[encoded data removed]",
      "text/plain": [
       "<Figure size 432x288 with 1 Axes>"
      ]
     },
     "metadata": {
      "needs_background": "light"
     },
     "output_type": "display_data"
    }
   ],
   "source": [
    "plt.title('Receiver Operating Characteristic')\n",
    "\n",
    "for key in auc_roc_data.keys():\n",
    "    fpr = auc_roc_data[key][\"fpr\"]\n",
    "    tpr = auc_roc_data[key][\"tpr\"]\n",
    "    roc_auc = auc_roc_data[key][\"roc_auc\"]\n",
    "\n",
    "    plt.plot(fpr, tpr, label=\"%s AUC=%0.2f\" % (key, roc_auc))\n",
    "\n",
    "# plt.plot(fpr, tpr, 'b', label = 'AUC = %0.2f' % roc_auc)\n",
    "plt.legend(loc = 'lower right')\n",
    "plt.plot([0, 1], [0, 1],'r--')\n",
    "plt.xlim([0, 1])\n",
    "plt.ylim([0, 1])\n",
    "plt.ylabel('True Positive Rate')\n",
    "plt.xlabel('False Positive Rate')\n",
    "plt.show()"
   ]
  },
  {
   "cell_type": "markdown",
   "metadata": {},
   "source": [
    "### Test Model"
   ]
  },
  {
   "cell_type": "markdown",
   "metadata": {},
   "source": [
    "#### Test - Decision Tree"
   ]
  },
  {
   "cell_type": "code",
   "execution_count": 107,
   "metadata": {},
   "outputs": [
    {
     "name": "stdout",
     "output_type": "stream",
     "text": [
      "Confision Matrix\n",
      "[True Negative: 10138    False Negative: 823]\n",
      "[False Positive: 909   True Positive: 483]\n",
      "\n",
      "\n",
      "Classification Report\n",
      "              precision    recall  f1-score   support\n",
      "\n",
      "          no       0.92      0.92      0.92     10961\n",
      "         yes       0.37      0.35      0.36      1392\n",
      "\n",
      "    accuracy                           0.86     12353\n",
      "   macro avg       0.64      0.64      0.64     12353\n",
      "weighted avg       0.86      0.86      0.86     12353\n",
      "\n"
     ]
    }
   ],
   "source": [
    "dtree_test_pred = modelPredictionResult(classifier=dtree_train,\n",
    "                                        input_data=X_test_clean,\n",
    "                                        output_data=y_test)"
   ]
  },
  {
   "cell_type": "code",
   "execution_count": 108,
   "metadata": {},
   "outputs": [
    {
     "name": "stdout",
     "output_type": "stream",
     "text": [
      "Classification Score Summary\n",
      "Classifier Accuracy score:  0.859791143851696\n",
      "Classifier Recall score:  0.34698275862068967\n",
      "Classifier f1-score:  0.3580429948109711\n",
      "Classifier precision:  0.36983154670750384\n"
     ]
    }
   ],
   "source": [
    "dtree_test_score = classScore(model_prediction=dtree_test_pred,\n",
    "                              output_data=y_test)"
   ]
  },
  {
   "cell_type": "code",
   "execution_count": 109,
   "metadata": {},
   "outputs": [
    {
     "data": {
      "image/png": "[encoded data removed]",
      "text/plain": [
       "<Figure size 432x288 with 1 Axes>"
      ]
     },
     "metadata": {
      "needs_background": "light"
     },
     "output_type": "display_data"
    }
   ],
   "source": [
    "dtree_test_aucroc = rocAucResult(model_prediction=dtree_test_pred,\n",
    "                                 output_data=y_test)"
   ]
  },
  {
   "cell_type": "markdown",
   "metadata": {},
   "source": [
    "#### Test - KNN"
   ]
  },
  {
   "cell_type": "code",
   "execution_count": 110,
   "metadata": {},
   "outputs": [
    {
     "name": "stdout",
     "output_type": "stream",
     "text": [
      "Confision Matrix\n",
      "[True Negative: 9309    False Negative: 1652]\n",
      "[False Positive: 702   True Positive: 690]\n",
      "\n",
      "\n",
      "Classification Report\n",
      "              precision    recall  f1-score   support\n",
      "\n",
      "          no       0.93      0.85      0.89     10961\n",
      "         yes       0.29      0.50      0.37      1392\n",
      "\n",
      "    accuracy                           0.81     12353\n",
      "   macro avg       0.61      0.67      0.63     12353\n",
      "weighted avg       0.86      0.81      0.83     12353\n",
      "\n"
     ]
    }
   ],
   "source": [
    "knn_test_pred = modelPredictionResult(classifier=knn_train,\n",
    "                                      input_data=X_test_clean,\n",
    "                                      output_data=y_test)"
   ]
  },
  {
   "cell_type": "code",
   "execution_count": 111,
   "metadata": {},
   "outputs": [
    {
     "name": "stdout",
     "output_type": "stream",
     "text": [
      "Classification Score Summary\n",
      "Classifier Accuracy score:  0.8094390026714159\n",
      "Classifier Recall score:  0.4956896551724138\n",
      "Classifier f1-score:  0.36957686127477235\n",
      "Classifier precision:  0.2946199829205807\n"
     ]
    }
   ],
   "source": [
    "knn_test_score = classScore(model_prediction=knn_test_pred,\n",
    "                            output_data=y_test)"
   ]
  },
  {
   "cell_type": "code",
   "execution_count": 112,
   "metadata": {},
   "outputs": [
    {
     "data": {
      "image/png": "[encoded data removed]",
      "text/plain": [
       "<Figure size 432x288 with 1 Axes>"
      ]
     },
     "metadata": {
      "needs_background": "light"
     },
     "output_type": "display_data"
    }
   ],
   "source": [
    "knn_test_aucroc = rocAucResult(model_prediction=knn_test_pred,\n",
    "                               output_data=y_test)"
   ]
  },
  {
   "cell_type": "markdown",
   "metadata": {},
   "source": [
    "### Test - Logistic Regression"
   ]
  },
  {
   "cell_type": "code",
   "execution_count": 113,
   "metadata": {},
   "outputs": [
    {
     "name": "stdout",
     "output_type": "stream",
     "text": [
      "Confision Matrix\n",
      "[True Negative: 9302    False Negative: 1659]\n",
      "[False Positive: 492   True Positive: 900]\n",
      "\n",
      "\n",
      "Classification Report\n",
      "              precision    recall  f1-score   support\n",
      "\n",
      "          no       0.95      0.85      0.90     10961\n",
      "         yes       0.35      0.65      0.46      1392\n",
      "\n",
      "    accuracy                           0.83     12353\n",
      "   macro avg       0.65      0.75      0.68     12353\n",
      "weighted avg       0.88      0.83      0.85     12353\n",
      "\n"
     ]
    }
   ],
   "source": [
    "logreg_test_pred = modelPredictionResult(classifier=log_reg_train,\n",
    "                                         input_data=X_test_clean,\n",
    "                                         output_data=y_test)"
   ]
  },
  {
   "cell_type": "code",
   "execution_count": 114,
   "metadata": {},
   "outputs": [
    {
     "name": "stdout",
     "output_type": "stream",
     "text": [
      "Classification Score Summary\n",
      "Classifier Accuracy score:  0.8258722577511536\n",
      "Classifier Recall score:  0.646551724137931\n",
      "Classifier f1-score:  0.45558086560364464\n",
      "Classifier precision:  0.3516998827667057\n"
     ]
    }
   ],
   "source": [
    "logreg_test_score = classScore(model_prediction=logreg_test_pred,\n",
    "                               output_data=y_test)"
   ]
  },
  {
   "cell_type": "code",
   "execution_count": 115,
   "metadata": {},
   "outputs": [
    {
     "data": {
      "image/png": "[encoded data removed]",
      "text/plain": [
       "<Figure size 432x288 with 1 Axes>"
      ]
     },
     "metadata": {
      "needs_background": "light"
     },
     "output_type": "display_data"
    }
   ],
   "source": [
    "logreg_test_aucroc = rocAucResult(model_prediction=logreg_test_pred,\n",
    "                                  output_data=y_test)"
   ]
  },
  {
   "cell_type": "markdown",
   "metadata": {},
   "source": [
    "### Test - AdaBoost"
   ]
  },
  {
   "cell_type": "code",
   "execution_count": 116,
   "metadata": {},
   "outputs": [
    {
     "name": "stdout",
     "output_type": "stream",
     "text": [
      "Confision Matrix\n",
      "[True Negative: 10643    False Negative: 318]\n",
      "[False Positive: 994   True Positive: 398]\n",
      "\n",
      "\n",
      "Classification Report\n",
      "              precision    recall  f1-score   support\n",
      "\n",
      "          no       0.91      0.97      0.94     10961\n",
      "         yes       0.56      0.29      0.38      1392\n",
      "\n",
      "    accuracy                           0.89     12353\n",
      "   macro avg       0.74      0.63      0.66     12353\n",
      "weighted avg       0.87      0.89      0.88     12353\n",
      "\n"
     ]
    }
   ],
   "source": [
    "adaboost_test_pred = modelPredictionResult(classifier=adaboost_train,\n",
    "                                           input_data=X_test_clean,\n",
    "                                           output_data=y_test)"
   ]
  },
  {
   "cell_type": "code",
   "execution_count": 117,
   "metadata": {},
   "outputs": [
    {
     "data": {
      "image/png": "[encoded data removed]",
      "text/plain": [
       "<Figure size 432x288 with 1 Axes>"
      ]
     },
     "metadata": {
      "needs_background": "light"
     },
     "output_type": "display_data"
    }
   ],
   "source": [
    "adaboost_test_aucroc = rocAucResult(model_prediction=adaboost_test_pred,\n",
    "                                    output_data=y_test)"
   ]
  },
  {
   "cell_type": "code",
   "execution_count": 118,
   "metadata": {},
   "outputs": [
    {
     "name": "stdout",
     "output_type": "stream",
     "text": [
      "Classification Score Summary\n",
      "Classifier Accuracy score:  0.893790981947705\n",
      "Classifier Recall score:  0.2859195402298851\n",
      "Classifier f1-score:  0.37760910815939286\n",
      "Classifier precision:  0.5558659217877095\n"
     ]
    }
   ],
   "source": [
    "adaboost_test_score = classScore(model_prediction=adaboost_test_pred,\n",
    "                                 output_data=y_test)"
   ]
  },
  {
   "cell_type": "markdown",
   "metadata": {},
   "source": [
    "### Test - GradientBoost"
   ]
  },
  {
   "cell_type": "code",
   "execution_count": 119,
   "metadata": {},
   "outputs": [
    {
     "name": "stdout",
     "output_type": "stream",
     "text": [
      "Confision Matrix\n",
      "[True Negative: 10689    False Negative: 272]\n",
      "[False Positive: 992   True Positive: 400]\n",
      "\n",
      "\n",
      "Classification Report\n",
      "              precision    recall  f1-score   support\n",
      "\n",
      "          no       0.92      0.98      0.94     10961\n",
      "         yes       0.60      0.29      0.39      1392\n",
      "\n",
      "    accuracy                           0.90     12353\n",
      "   macro avg       0.76      0.63      0.67     12353\n",
      "weighted avg       0.88      0.90      0.88     12353\n",
      "\n"
     ]
    }
   ],
   "source": [
    "gboost_test_pred = modelPredictionResult(classifier=gboost_train,\n",
    "                                         input_data=X_test_clean,\n",
    "                                         output_data=y_test)"
   ]
  },
  {
   "cell_type": "code",
   "execution_count": 120,
   "metadata": {},
   "outputs": [
    {
     "data": {
      "image/png": "[encoded data removed]",
      "text/plain": [
       "<Figure size 432x288 with 1 Axes>"
      ]
     },
     "metadata": {
      "needs_background": "light"
     },
     "output_type": "display_data"
    }
   ],
   "source": [
    "gboost_test_aucroc = rocAucResult(model_prediction=gboost_test_pred,\n",
    "                                  output_data=y_test)"
   ]
  },
  {
   "cell_type": "code",
   "execution_count": 121,
   "metadata": {},
   "outputs": [
    {
     "name": "stdout",
     "output_type": "stream",
     "text": [
      "Classification Score Summary\n",
      "Classifier Accuracy score:  0.8976766777301061\n",
      "Classifier Recall score:  0.28735632183908044\n",
      "Classifier f1-score:  0.38759689922480617\n",
      "Classifier precision:  0.5952380952380952\n"
     ]
    }
   ],
   "source": [
    "gboost_test_score = classScore(model_prediction=gboost_test_pred,\n",
    "                                output_data=y_test)"
   ]
  },
  {
   "cell_type": "markdown",
   "metadata": {},
   "source": [
    "#### Test - Random Forest"
   ]
  },
  {
   "cell_type": "code",
   "execution_count": 122,
   "metadata": {},
   "outputs": [
    {
     "name": "stdout",
     "output_type": "stream",
     "text": [
      "Confision Matrix\n",
      "[True Negative: 10600    False Negative: 361]\n",
      "[False Positive: 963   True Positive: 429]\n",
      "\n",
      "\n",
      "Classification Report\n",
      "              precision    recall  f1-score   support\n",
      "\n",
      "          no       0.92      0.97      0.94     10961\n",
      "         yes       0.54      0.31      0.39      1392\n",
      "\n",
      "    accuracy                           0.89     12353\n",
      "   macro avg       0.73      0.64      0.67     12353\n",
      "weighted avg       0.87      0.89      0.88     12353\n",
      "\n"
     ]
    }
   ],
   "source": [
    "rdforest_test_pred = modelPredictionResult(classifier=r_forest_train,\n",
    "                                           input_data=X_test_clean,\n",
    "                                           output_data=y_test)"
   ]
  },
  {
   "cell_type": "code",
   "execution_count": 123,
   "metadata": {},
   "outputs": [
    {
     "data": {
      "image/png": "[encoded data removed]",
      "text/plain": [
       "<Figure size 432x288 with 1 Axes>"
      ]
     },
     "metadata": {
      "needs_background": "light"
     },
     "output_type": "display_data"
    }
   ],
   "source": [
    "rdforest_test_aucroc = rocAucResult(model_prediction=rdforest_test_pred,\n",
    "                                    output_data=y_test)"
   ]
  },
  {
   "cell_type": "code",
   "execution_count": 124,
   "metadata": {},
   "outputs": [
    {
     "name": "stdout",
     "output_type": "stream",
     "text": [
      "Classification Score Summary\n",
      "Classifier Accuracy score:  0.8928195580021048\n",
      "Classifier Recall score:  0.3081896551724138\n",
      "Classifier f1-score:  0.3932172318973419\n",
      "Classifier precision:  0.5430379746835443\n"
     ]
    }
   ],
   "source": [
    "rforest_test_score = classScore(model_prediction=rdforest_test_pred,\n",
    "                                output_data=y_test)"
   ]
  },
  {
   "cell_type": "markdown",
   "metadata": {},
   "source": [
    "### Simple Test Report"
   ]
  },
  {
   "cell_type": "code",
   "execution_count": 125,
   "metadata": {},
   "outputs": [],
   "source": [
    "test_scores = {\n",
    "    \"Decision Tree\": dtree_test_score,\n",
    "    \"KNN\": knn_test_score,\n",
    "    \"Logistic Regression\": logreg_test_score,\n",
    "    \"Random Forest\": rforest_test_score,\n",
    "    \"Adaboost\": adaboost_test_score,\n",
    "    \"Gradient Boost\": gboost_test_score,\n",
    "}"
   ]
  },
  {
   "cell_type": "code",
   "execution_count": 126,
   "metadata": {},
   "outputs": [
    {
     "data": {
      "text/html": [
       "<div>\n",
       "<style scoped>\n",
       "    .dataframe tbody tr th:only-of-type {\n",
       "        vertical-align: middle;\n",
       "    }\n",
       "\n",
       "    .dataframe tbody tr th {\n",
       "        vertical-align: top;\n",
       "    }\n",
       "\n",
       "    .dataframe thead th {\n",
       "        text-align: right;\n",
       "    }\n",
       "</style>\n",
       "<table border=\"1\" class=\"dataframe\">\n",
       "  <thead>\n",
       "    <tr style=\"text-align: right;\">\n",
       "      <th></th>\n",
       "      <th>Decision Tree</th>\n",
       "      <th>KNN</th>\n",
       "      <th>Logistic Regression</th>\n",
       "      <th>Random Forest</th>\n",
       "      <th>Adaboost</th>\n",
       "      <th>Gradient Boost</th>\n",
       "    </tr>\n",
       "  </thead>\n",
       "  <tbody>\n",
       "    <tr>\n",
       "      <th>accuracy</th>\n",
       "      <td>0.859791</td>\n",
       "      <td>0.809439</td>\n",
       "      <td>0.825872</td>\n",
       "      <td>0.892820</td>\n",
       "      <td>0.893791</td>\n",
       "      <td>0.897677</td>\n",
       "    </tr>\n",
       "    <tr>\n",
       "      <th>recall</th>\n",
       "      <td>0.346983</td>\n",
       "      <td>0.495690</td>\n",
       "      <td>0.646552</td>\n",
       "      <td>0.308190</td>\n",
       "      <td>0.285920</td>\n",
       "      <td>0.287356</td>\n",
       "    </tr>\n",
       "    <tr>\n",
       "      <th>f1_score</th>\n",
       "      <td>0.358043</td>\n",
       "      <td>0.369577</td>\n",
       "      <td>0.455581</td>\n",
       "      <td>0.393217</td>\n",
       "      <td>0.377609</td>\n",
       "      <td>0.387597</td>\n",
       "    </tr>\n",
       "    <tr>\n",
       "      <th>precision</th>\n",
       "      <td>0.369832</td>\n",
       "      <td>0.294620</td>\n",
       "      <td>0.351700</td>\n",
       "      <td>0.543038</td>\n",
       "      <td>0.555866</td>\n",
       "      <td>0.595238</td>\n",
       "    </tr>\n",
       "  </tbody>\n",
       "</table>\n",
       "</div>"
      ],
      "text/plain": [
       "           Decision Tree       KNN  Logistic Regression  Random Forest  \\\n",
       "accuracy        0.859791  0.809439             0.825872       0.892820   \n",
       "recall          0.346983  0.495690             0.646552       0.308190   \n",
       "f1_score        0.358043  0.369577             0.455581       0.393217   \n",
       "precision       0.369832  0.294620             0.351700       0.543038   \n",
       "\n",
       "           Adaboost  Gradient Boost  \n",
       "accuracy   0.893791        0.897677  \n",
       "recall     0.285920        0.287356  \n",
       "f1_score   0.377609        0.387597  \n",
       "precision  0.555866        0.595238  "
      ]
     },
     "execution_count": 126,
     "metadata": {},
     "output_type": "execute_result"
    }
   ],
   "source": [
    "test_scores_df = pd.DataFrame(test_scores)\n",
    "test_scores_df"
   ]
  },
  {
   "cell_type": "code",
   "execution_count": 127,
   "metadata": {},
   "outputs": [],
   "source": [
    "test_aucroc = {\n",
    "    \"Decision Tree\": dtree_test_aucroc,\n",
    "    \"KNN\": knn_test_aucroc,\n",
    "    \"Logistic Regression\": logreg_test_aucroc,\n",
    "    \"Random Forest\": rdforest_test_aucroc,\n",
    "    \"Adaboost\": adaboost_test_aucroc,\n",
    "    \"Gradient Boost\": gboost_test_aucroc,\n",
    "}"
   ]
  },
  {
   "cell_type": "code",
   "execution_count": 128,
   "metadata": {},
   "outputs": [
    {
     "data": {
      "image/png": "[encoded data removed]",
      "text/plain": [
       "<Figure size 432x288 with 1 Axes>"
      ]
     },
     "metadata": {
      "needs_background": "light"
     },
     "output_type": "display_data"
    }
   ],
   "source": [
    "plt.title('Receiver Operating Characteristic')\n",
    "\n",
    "for key in test_aucroc.keys():\n",
    "    fpr = test_aucroc[key][\"fpr\"]\n",
    "    tpr = test_aucroc[key][\"tpr\"]\n",
    "    roc_auc = test_aucroc[key][\"roc_auc\"]\n",
    "\n",
    "    plt.plot(fpr, tpr, label=\"%s AUC=%0.2f\" % (key, roc_auc))\n",
    "\n",
    "# plt.plot(fpr, tpr, 'b', label = 'AUC = %0.2f' % roc_auc)\n",
    "plt.legend(loc = 'lower right')\n",
    "plt.plot([0, 1], [0, 1],'r--')\n",
    "plt.xlim([0, 1])\n",
    "plt.ylim([0, 1])\n",
    "plt.ylabel('True Positive Rate')\n",
    "plt.xlabel('False Positive Rate')\n",
    "plt.show()"
   ]
  },
  {
   "cell_type": "markdown",
   "metadata": {},
   "source": [
    "### Experimenting with AdaBoost"
   ]
  },
  {
   "cell_type": "code",
   "execution_count": 208,
   "metadata": {
    "tags": []
   },
   "outputs": [],
   "source": [
    "adaboost_exp_result = {}"
   ]
  },
  {
   "cell_type": "code",
   "execution_count": 238,
   "metadata": {},
   "outputs": [],
   "source": [
    "exp = \"exp3\"\n",
    "adaboost_exp_result[exp] = {}"
   ]
  },
  {
   "cell_type": "code",
   "execution_count": 239,
   "metadata": {
    "tags": []
   },
   "outputs": [],
   "source": [
    "adaboost_hyparams_exp = {\n",
    "    \"n_estimators\": 100,\n",
    "    \"learning_rate\": 0.001\n",
    "}"
   ]
  },
  {
   "cell_type": "code",
   "execution_count": 240,
   "metadata": {
    "tags": []
   },
   "outputs": [],
   "source": [
    "adaboost_exp_result[exp][\"hyperparam\"] = adaboost_hyparams_exp"
   ]
  },
  {
   "cell_type": "code",
   "execution_count": 241,
   "metadata": {},
   "outputs": [
    {
     "data": {
      "text/plain": [
       "{'exp1': {'hyperparam': {'n_estimators': 700, 'learning_rate': 0.1},\n",
       "  'train': {'score': {'accuracy': 0.9495034407256803,\n",
       "    'recall': 0.9144510478573663,\n",
       "    'f1_score': 0.9476691180939647,\n",
       "    'precision': 0.9833914981289156},\n",
       "   'aucroc': {'fpr': array([0.        , 0.01544417, 1.        ]),\n",
       "    'tpr': array([0.        , 0.91445105, 1.        ]),\n",
       "    'roc_auc': 0.9495034407256803}},\n",
       "  'test': {'score': {'accuracy': 0.8978385817210395,\n",
       "    'recall': 0.27370689655172414,\n",
       "    'f1_score': 0.3764822134387352,\n",
       "    'precision': 0.6028481012658228},\n",
       "   'aucroc': {'fpr': array([0.        , 0.02289937, 1.        ]),\n",
       "    'tpr': array([0.       , 0.2737069, 1.       ]),\n",
       "    'roc_auc': 0.6254037630281657}}},\n",
       " 'exp2': {'hyperparam': {'n_estimators': 1000, 'learning_rate': 0.01},\n",
       "  'train': {'score': {'accuracy': 0.9495034407256803,\n",
       "    'recall': 0.9144510478573663,\n",
       "    'f1_score': 0.9476691180939647,\n",
       "    'precision': 0.9833914981289156},\n",
       "   'aucroc': {'fpr': array([0.        , 0.01544417, 1.        ]),\n",
       "    'tpr': array([0.        , 0.91445105, 1.        ]),\n",
       "    'roc_auc': 0.9495034407256803}},\n",
       "  'test': {'score': {'accuracy': 0.8978385817210395,\n",
       "    'recall': 0.27370689655172414,\n",
       "    'f1_score': 0.3764822134387352,\n",
       "    'precision': 0.6028481012658228},\n",
       "   'aucroc': {'fpr': array([0.        , 0.02289937, 1.        ]),\n",
       "    'tpr': array([0.       , 0.2737069, 1.       ]),\n",
       "    'roc_auc': 0.6254037630281657}}},\n",
       " 'exp3': {'hyperparam': {'n_estimators': 100, 'learning_rate': 0.001}}}"
      ]
     },
     "execution_count": 241,
     "metadata": {},
     "output_type": "execute_result"
    }
   ],
   "source": [
    "adaboost_exp_result"
   ]
  },
  {
   "cell_type": "code",
   "execution_count": 242,
   "metadata": {},
   "outputs": [],
   "source": [
    "ada_tree_exp = DecisionTreeClassifier(max_depth=2, random_state=123)\n",
    "adaboost_exp = AdaBoostClassifier(\n",
    "    base_estimator=ada_tree_exp,\n",
    "    n_estimators=adaboost_hyparams_exp[\"n_estimators\"],\n",
    "    learning_rate=adaboost_hyparams_exp[\"learning_rate\"],\n",
    "    random_state=123)"
   ]
  },
  {
   "cell_type": "code",
   "execution_count": 243,
   "metadata": {},
   "outputs": [
    {
     "data": {
      "text/html": [
       "<style>#sk-container-id-16 {color: black;background-color: white;}#sk-container-id-16 pre{padding: 0;}#sk-container-id-16 div.sk-toggleable {background-color: white;}#sk-container-id-16 label.sk-toggleable__label {cursor: pointer;display: block;width: 100%;margin-bottom: 0;padding: 0.3em;box-sizing: border-box;text-align: center;}#sk-container-id-16 label.sk-toggleable__label-arrow:before {content: \"▸\";float: left;margin-right: 0.25em;color: #696969;}#sk-container-id-16 label.sk-toggleable__label-arrow:hover:before {color: black;}#sk-container-id-16 div.sk-estimator:hover label.sk-toggleable__label-arrow:before {color: black;}#sk-container-id-16 div.sk-toggleable__content {max-height: 0;max-width: 0;overflow: hidden;text-align: left;background-color: #f0f8ff;}#sk-container-id-16 div.sk-toggleable__content pre {margin: 0.2em;color: black;border-radius: 0.25em;background-color: #f0f8ff;}#sk-container-id-16 input.sk-toggleable__control:checked~div.sk-toggleable__content {max-height: 200px;max-width: 100%;overflow: auto;}#sk-container-id-16 input.sk-toggleable__control:checked~label.sk-toggleable__label-arrow:before {content: \"▾\";}#sk-container-id-16 div.sk-estimator input.sk-toggleable__control:checked~label.sk-toggleable__label {background-color: #d4ebff;}#sk-container-id-16 div.sk-label input.sk-toggleable__control:checked~label.sk-toggleable__label {background-color: #d4ebff;}#sk-container-id-16 input.sk-hidden--visually {border: 0;clip: rect(1px 1px 1px 1px);clip: rect(1px, 1px, 1px, 1px);height: 1px;margin: -1px;overflow: hidden;padding: 0;position: absolute;width: 1px;}#sk-container-id-16 div.sk-estimator {font-family: monospace;background-color: #f0f8ff;border: 1px dotted black;border-radius: 0.25em;box-sizing: border-box;margin-bottom: 0.5em;}#sk-container-id-16 div.sk-estimator:hover {background-color: #d4ebff;}#sk-container-id-16 div.sk-parallel-item::after {content: \"\";width: 100%;border-bottom: 1px solid gray;flex-grow: 1;}#sk-container-id-16 div.sk-label:hover label.sk-toggleable__label {background-color: #d4ebff;}#sk-container-id-16 div.sk-serial::before {content: \"\";position: absolute;border-left: 1px solid gray;box-sizing: border-box;top: 0;bottom: 0;left: 50%;z-index: 0;}#sk-container-id-16 div.sk-serial {display: flex;flex-direction: column;align-items: center;background-color: white;padding-right: 0.2em;padding-left: 0.2em;position: relative;}#sk-container-id-16 div.sk-item {position: relative;z-index: 1;}#sk-container-id-16 div.sk-parallel {display: flex;align-items: stretch;justify-content: center;background-color: white;position: relative;}#sk-container-id-16 div.sk-item::before, #sk-container-id-16 div.sk-parallel-item::before {content: \"\";position: absolute;border-left: 1px solid gray;box-sizing: border-box;top: 0;bottom: 0;left: 50%;z-index: -1;}#sk-container-id-16 div.sk-parallel-item {display: flex;flex-direction: column;z-index: 1;position: relative;background-color: white;}#sk-container-id-16 div.sk-parallel-item:first-child::after {align-self: flex-end;width: 50%;}#sk-container-id-16 div.sk-parallel-item:last-child::after {align-self: flex-start;width: 50%;}#sk-container-id-16 div.sk-parallel-item:only-child::after {width: 0;}#sk-container-id-16 div.sk-dashed-wrapped {border: 1px dashed gray;margin: 0 0.4em 0.5em 0.4em;box-sizing: border-box;padding-bottom: 0.4em;background-color: white;}#sk-container-id-16 div.sk-label label {font-family: monospace;font-weight: bold;display: inline-block;line-height: 1.2em;}#sk-container-id-16 div.sk-label-container {text-align: center;}#sk-container-id-16 div.sk-container {/* jupyter's `normalize.less` sets `[hidden] { display: none; }` but bootstrap.min.css set `[hidden] { display: none !important; }` so we also need the `!important` here to be able to override the default hidden behavior on the sphinx rendered scikit-learn.org. See: https://github.com/scikit-learn/scikit-learn/issues/21755 */display: inline-block !important;position: relative;}#sk-container-id-16 div.sk-text-repr-fallback {display: none;}</style><div id=\"sk-container-id-16\" class=\"sk-top-container\"><div class=\"sk-text-repr-fallback\"><pre>AdaBoostClassifier(base_estimator=DecisionTreeClassifier(max_depth=2,\n",
       "                                                         random_state=123),\n",
       "                   learning_rate=0.1, n_estimators=2000, random_state=123)</pre><b>In a Jupyter environment, please rerun this cell to show the HTML representation or trust the notebook. <br />On GitHub, the HTML representation is unable to render, please try loading this page with nbviewer.org.</b></div><div class=\"sk-container\" hidden><div class=\"sk-item sk-dashed-wrapped\"><div class=\"sk-label-container\"><div class=\"sk-label sk-toggleable\"><input class=\"sk-toggleable__control sk-hidden--visually\" id=\"sk-estimator-id-36\" type=\"checkbox\" ><label for=\"sk-estimator-id-36\" class=\"sk-toggleable__label sk-toggleable__label-arrow\">AdaBoostClassifier</label><div class=\"sk-toggleable__content\"><pre>AdaBoostClassifier(base_estimator=DecisionTreeClassifier(max_depth=2,\n",
       "                                                         random_state=123),\n",
       "                   learning_rate=0.1, n_estimators=2000, random_state=123)</pre></div></div></div><div class=\"sk-parallel\"><div class=\"sk-parallel-item\"><div class=\"sk-item\"><div class=\"sk-label-container\"><div class=\"sk-label sk-toggleable\"><input class=\"sk-toggleable__control sk-hidden--visually\" id=\"sk-estimator-id-37\" type=\"checkbox\" ><label for=\"sk-estimator-id-37\" class=\"sk-toggleable__label sk-toggleable__label-arrow\">base_estimator: DecisionTreeClassifier</label><div class=\"sk-toggleable__content\"><pre>DecisionTreeClassifier(max_depth=2, random_state=123)</pre></div></div></div><div class=\"sk-serial\"><div class=\"sk-item\"><div class=\"sk-estimator sk-toggleable\"><input class=\"sk-toggleable__control sk-hidden--visually\" id=\"sk-estimator-id-38\" type=\"checkbox\" ><label for=\"sk-estimator-id-38\" class=\"sk-toggleable__label sk-toggleable__label-arrow\">DecisionTreeClassifier</label><div class=\"sk-toggleable__content\"><pre>DecisionTreeClassifier(max_depth=2, random_state=123)</pre></div></div></div></div></div></div></div></div></div></div>"
      ],
      "text/plain": [
       "AdaBoostClassifier(base_estimator=DecisionTreeClassifier(max_depth=2,\n",
       "                                                         random_state=123),\n",
       "                   learning_rate=0.1, n_estimators=2000, random_state=123)"
      ]
     },
     "execution_count": 243,
     "metadata": {},
     "output_type": "execute_result"
    }
   ],
   "source": [
    "adaboost_exp1.fit(X_train_clean, y_train)"
   ]
  },
  {
   "cell_type": "code",
   "execution_count": 244,
   "metadata": {},
   "outputs": [
    {
     "name": "stdout",
     "output_type": "stream",
     "text": [
      "Confision Matrix\n",
      "[True Negative: 25181    False Negative: 395]\n",
      "[False Positive: 2188   True Positive: 23388]\n",
      "\n",
      "\n",
      "Classification Report\n",
      "              precision    recall  f1-score   support\n",
      "\n",
      "          no       0.92      0.98      0.95     25576\n",
      "         yes       0.98      0.91      0.95     25576\n",
      "\n",
      "    accuracy                           0.95     51152\n",
      "   macro avg       0.95      0.95      0.95     51152\n",
      "weighted avg       0.95      0.95      0.95     51152\n",
      "\n"
     ]
    }
   ],
   "source": [
    "adaboost_train_exp_pred = modelPredictionResult(\n",
    "    classifier=adaboost_exp1,\n",
    "    input_data=X_train_clean,\n",
    "    output_data=y_train\n",
    ")"
   ]
  },
  {
   "cell_type": "code",
   "execution_count": 245,
   "metadata": {},
   "outputs": [
    {
     "name": "stdout",
     "output_type": "stream",
     "text": [
      "Classification Score Summary\n",
      "Classifier Accuracy score:  0.9495034407256803\n",
      "Classifier Recall score:  0.9144510478573663\n",
      "Classifier f1-score:  0.9476691180939647\n",
      "Classifier precision:  0.9833914981289156\n"
     ]
    }
   ],
   "source": [
    "adaboost_train_exp_score = classScore(\n",
    "    model_prediction=adaboost_train_exp_pred,\n",
    "    output_data=y_train\n",
    ")"
   ]
  },
  {
   "cell_type": "code",
   "execution_count": 246,
   "metadata": {},
   "outputs": [
    {
     "data": {
      "image/png": "[encoded data removed]",
      "text/plain": [
       "<Figure size 432x288 with 1 Axes>"
      ]
     },
     "metadata": {
      "needs_background": "light"
     },
     "output_type": "display_data"
    }
   ],
   "source": [
    "adaboost_train_exp1_aucroc = rocAucResult(\n",
    "    model_prediction=adaboost_train_exp_pred,\n",
    "    output_data=y_train\n",
    ")"
   ]
  },
  {
   "cell_type": "code",
   "execution_count": 247,
   "metadata": {},
   "outputs": [],
   "source": [
    "adaboost_exp_result[exp][\"train\"] = {\n",
    "    \"score\": adaboost_train_exp_score,\n",
    "    \"aucroc\": adaboost_train_exp1_aucroc,\n",
    "}"
   ]
  },
  {
   "cell_type": "code",
   "execution_count": 248,
   "metadata": {},
   "outputs": [
    {
     "name": "stdout",
     "output_type": "stream",
     "text": [
      "Confision Matrix\n",
      "[True Negative: 10710    False Negative: 251]\n",
      "[False Positive: 1011   True Positive: 381]\n",
      "\n",
      "\n",
      "Classification Report\n",
      "              precision    recall  f1-score   support\n",
      "\n",
      "          no       0.91      0.98      0.94     10961\n",
      "         yes       0.60      0.27      0.38      1392\n",
      "\n",
      "    accuracy                           0.90     12353\n",
      "   macro avg       0.76      0.63      0.66     12353\n",
      "weighted avg       0.88      0.90      0.88     12353\n",
      "\n"
     ]
    }
   ],
   "source": [
    "adaboost_test_exp_pred = modelPredictionResult(\n",
    "    classifier=adaboost_exp1,\n",
    "    input_data=X_test_clean,\n",
    "    output_data=y_test\n",
    ")"
   ]
  },
  {
   "cell_type": "code",
   "execution_count": 249,
   "metadata": {},
   "outputs": [
    {
     "name": "stdout",
     "output_type": "stream",
     "text": [
      "Classification Score Summary\n",
      "Classifier Accuracy score:  0.8978385817210395\n",
      "Classifier Recall score:  0.27370689655172414\n",
      "Classifier f1-score:  0.3764822134387352\n",
      "Classifier precision:  0.6028481012658228\n"
     ]
    }
   ],
   "source": [
    "adaboost_test_exp_score = classScore(\n",
    "    model_prediction=adaboost_test_exp_pred,\n",
    "    output_data=y_test\n",
    ")"
   ]
  },
  {
   "cell_type": "code",
   "execution_count": 250,
   "metadata": {},
   "outputs": [
    {
     "data": {
      "image/png": "[encoded data removed]",
      "text/plain": [
       "<Figure size 432x288 with 1 Axes>"
      ]
     },
     "metadata": {
      "needs_background": "light"
     },
     "output_type": "display_data"
    }
   ],
   "source": [
    "adaboost_test_exp_aucroc = rocAucResult(\n",
    "    model_prediction=adaboost_test_exp_pred,\n",
    "    output_data=y_test,\n",
    ")"
   ]
  },
  {
   "cell_type": "code",
   "execution_count": 251,
   "metadata": {},
   "outputs": [],
   "source": [
    "adaboost_exp_result[exp][\"test\"] = {\n",
    "    \"score\": adaboost_test_exp_score,\n",
    "    \"aucroc\": adaboost_test_exp_aucroc,\n",
    "}"
   ]
  },
  {
   "cell_type": "code",
   "execution_count": 453,
   "metadata": {},
   "outputs": [
    {
     "data": {
      "text/plain": [
       "{'exp1': {'hyperparam': {'n_estimators': 700, 'learning_rate': 0.1},\n",
       "  'train': {'score': {'accuracy': 0.9495034407256803,\n",
       "    'recall': 0.9144510478573663,\n",
       "    'f1_score': 0.9476691180939647,\n",
       "    'precision': 0.9833914981289156},\n",
       "   'aucroc': {'fpr': array([0.        , 0.01544417, 1.        ]),\n",
       "    'tpr': array([0.        , 0.91445105, 1.        ]),\n",
       "    'roc_auc': 0.9495034407256803}},\n",
       "  'test': {'score': {'accuracy': 0.8978385817210395,\n",
       "    'recall': 0.27370689655172414,\n",
       "    'f1_score': 0.3764822134387352,\n",
       "    'precision': 0.6028481012658228},\n",
       "   'aucroc': {'fpr': array([0.        , 0.02289937, 1.        ]),\n",
       "    'tpr': array([0.       , 0.2737069, 1.       ]),\n",
       "    'roc_auc': 0.6254037630281657}}},\n",
       " 'exp2': {'hyperparam': {'n_estimators': 1000, 'learning_rate': 0.01},\n",
       "  'train': {'score': {'accuracy': 0.9495034407256803,\n",
       "    'recall': 0.9144510478573663,\n",
       "    'f1_score': 0.9476691180939647,\n",
       "    'precision': 0.9833914981289156},\n",
       "   'aucroc': {'fpr': array([0.        , 0.01544417, 1.        ]),\n",
       "    'tpr': array([0.        , 0.91445105, 1.        ]),\n",
       "    'roc_auc': 0.9495034407256803}},\n",
       "  'test': {'score': {'accuracy': 0.8978385817210395,\n",
       "    'recall': 0.27370689655172414,\n",
       "    'f1_score': 0.3764822134387352,\n",
       "    'precision': 0.6028481012658228},\n",
       "   'aucroc': {'fpr': array([0.        , 0.02289937, 1.        ]),\n",
       "    'tpr': array([0.       , 0.2737069, 1.       ]),\n",
       "    'roc_auc': 0.6254037630281657}}},\n",
       " 'exp3': {'hyperparam': {'n_estimators': 100, 'learning_rate': 0.001},\n",
       "  'train': {'score': {'accuracy': 0.9495034407256803,\n",
       "    'recall': 0.9144510478573663,\n",
       "    'f1_score': 0.9476691180939647,\n",
       "    'precision': 0.9833914981289156},\n",
       "   'aucroc': {'fpr': array([0.        , 0.01544417, 1.        ]),\n",
       "    'tpr': array([0.        , 0.91445105, 1.        ]),\n",
       "    'roc_auc': 0.9495034407256803}},\n",
       "  'test': {'score': {'accuracy': 0.8978385817210395,\n",
       "    'recall': 0.27370689655172414,\n",
       "    'f1_score': 0.3764822134387352,\n",
       "    'precision': 0.6028481012658228},\n",
       "   'aucroc': {'fpr': array([0.        , 0.02289937, 1.        ]),\n",
       "    'tpr': array([0.       , 0.2737069, 1.       ]),\n",
       "    'roc_auc': 0.6254037630281657}}}}"
      ]
     },
     "execution_count": 453,
     "metadata": {},
     "output_type": "execute_result"
    }
   ],
   "source": [
    "adaboost_exp_result"
   ]
  },
  {
   "cell_type": "markdown",
   "metadata": {},
   "source": [
    "### Experimenting with Gradient Boost"
   ]
  },
  {
   "cell_type": "code",
   "execution_count": 252,
   "metadata": {},
   "outputs": [],
   "source": [
    "gboost_exp_result = {}"
   ]
  },
  {
   "cell_type": "code",
   "execution_count": 322,
   "metadata": {
    "tags": []
   },
   "outputs": [],
   "source": [
    "exp = \"exp5\"\n",
    "gboost_exp_result[exp] = {}"
   ]
  },
  {
   "cell_type": "code",
   "execution_count": 336,
   "metadata": {},
   "outputs": [],
   "source": [
    "gboost_exp_hyperparam = {\n",
    "    \"n_estimators\": 100,\n",
    "    \"learning_rate\": 0.01,\n",
    "}"
   ]
  },
  {
   "cell_type": "code",
   "execution_count": 337,
   "metadata": {},
   "outputs": [],
   "source": [
    "gboost_exp_result[exp][\"hyperparams\"] = gboost_exp_hyperparam"
   ]
  },
  {
   "cell_type": "code",
   "execution_count": 338,
   "metadata": {},
   "outputs": [],
   "source": [
    "gboost_exp_train = GradientBoostingClassifier(\n",
    "    n_estimators=gboost_exp_hyperparam[\"n_estimators\"],\n",
    "    learning_rate=gboost_exp_hyperparam[\"learning_rate\"],\n",
    "    random_state=123\n",
    ")"
   ]
  },
  {
   "cell_type": "code",
   "execution_count": 339,
   "metadata": {},
   "outputs": [
    {
     "data": {
      "text/html": [
       "<style>#sk-container-id-23 {color: black;background-color: white;}#sk-container-id-23 pre{padding: 0;}#sk-container-id-23 div.sk-toggleable {background-color: white;}#sk-container-id-23 label.sk-toggleable__label {cursor: pointer;display: block;width: 100%;margin-bottom: 0;padding: 0.3em;box-sizing: border-box;text-align: center;}#sk-container-id-23 label.sk-toggleable__label-arrow:before {content: \"▸\";float: left;margin-right: 0.25em;color: #696969;}#sk-container-id-23 label.sk-toggleable__label-arrow:hover:before {color: black;}#sk-container-id-23 div.sk-estimator:hover label.sk-toggleable__label-arrow:before {color: black;}#sk-container-id-23 div.sk-toggleable__content {max-height: 0;max-width: 0;overflow: hidden;text-align: left;background-color: #f0f8ff;}#sk-container-id-23 div.sk-toggleable__content pre {margin: 0.2em;color: black;border-radius: 0.25em;background-color: #f0f8ff;}#sk-container-id-23 input.sk-toggleable__control:checked~div.sk-toggleable__content {max-height: 200px;max-width: 100%;overflow: auto;}#sk-container-id-23 input.sk-toggleable__control:checked~label.sk-toggleable__label-arrow:before {content: \"▾\";}#sk-container-id-23 div.sk-estimator input.sk-toggleable__control:checked~label.sk-toggleable__label {background-color: #d4ebff;}#sk-container-id-23 div.sk-label input.sk-toggleable__control:checked~label.sk-toggleable__label {background-color: #d4ebff;}#sk-container-id-23 input.sk-hidden--visually {border: 0;clip: rect(1px 1px 1px 1px);clip: rect(1px, 1px, 1px, 1px);height: 1px;margin: -1px;overflow: hidden;padding: 0;position: absolute;width: 1px;}#sk-container-id-23 div.sk-estimator {font-family: monospace;background-color: #f0f8ff;border: 1px dotted black;border-radius: 0.25em;box-sizing: border-box;margin-bottom: 0.5em;}#sk-container-id-23 div.sk-estimator:hover {background-color: #d4ebff;}#sk-container-id-23 div.sk-parallel-item::after {content: \"\";width: 100%;border-bottom: 1px solid gray;flex-grow: 1;}#sk-container-id-23 div.sk-label:hover label.sk-toggleable__label {background-color: #d4ebff;}#sk-container-id-23 div.sk-serial::before {content: \"\";position: absolute;border-left: 1px solid gray;box-sizing: border-box;top: 0;bottom: 0;left: 50%;z-index: 0;}#sk-container-id-23 div.sk-serial {display: flex;flex-direction: column;align-items: center;background-color: white;padding-right: 0.2em;padding-left: 0.2em;position: relative;}#sk-container-id-23 div.sk-item {position: relative;z-index: 1;}#sk-container-id-23 div.sk-parallel {display: flex;align-items: stretch;justify-content: center;background-color: white;position: relative;}#sk-container-id-23 div.sk-item::before, #sk-container-id-23 div.sk-parallel-item::before {content: \"\";position: absolute;border-left: 1px solid gray;box-sizing: border-box;top: 0;bottom: 0;left: 50%;z-index: -1;}#sk-container-id-23 div.sk-parallel-item {display: flex;flex-direction: column;z-index: 1;position: relative;background-color: white;}#sk-container-id-23 div.sk-parallel-item:first-child::after {align-self: flex-end;width: 50%;}#sk-container-id-23 div.sk-parallel-item:last-child::after {align-self: flex-start;width: 50%;}#sk-container-id-23 div.sk-parallel-item:only-child::after {width: 0;}#sk-container-id-23 div.sk-dashed-wrapped {border: 1px dashed gray;margin: 0 0.4em 0.5em 0.4em;box-sizing: border-box;padding-bottom: 0.4em;background-color: white;}#sk-container-id-23 div.sk-label label {font-family: monospace;font-weight: bold;display: inline-block;line-height: 1.2em;}#sk-container-id-23 div.sk-label-container {text-align: center;}#sk-container-id-23 div.sk-container {/* jupyter's `normalize.less` sets `[hidden] { display: none; }` but bootstrap.min.css set `[hidden] { display: none !important; }` so we also need the `!important` here to be able to override the default hidden behavior on the sphinx rendered scikit-learn.org. See: https://github.com/scikit-learn/scikit-learn/issues/21755 */display: inline-block !important;position: relative;}#sk-container-id-23 div.sk-text-repr-fallback {display: none;}</style><div id=\"sk-container-id-23\" class=\"sk-top-container\"><div class=\"sk-text-repr-fallback\"><pre>GradientBoostingClassifier(learning_rate=0.01, random_state=123)</pre><b>In a Jupyter environment, please rerun this cell to show the HTML representation or trust the notebook. <br />On GitHub, the HTML representation is unable to render, please try loading this page with nbviewer.org.</b></div><div class=\"sk-container\" hidden><div class=\"sk-item\"><div class=\"sk-estimator sk-toggleable\"><input class=\"sk-toggleable__control sk-hidden--visually\" id=\"sk-estimator-id-45\" type=\"checkbox\" checked><label for=\"sk-estimator-id-45\" class=\"sk-toggleable__label sk-toggleable__label-arrow\">GradientBoostingClassifier</label><div class=\"sk-toggleable__content\"><pre>GradientBoostingClassifier(learning_rate=0.01, random_state=123)</pre></div></div></div></div></div>"
      ],
      "text/plain": [
       "GradientBoostingClassifier(learning_rate=0.01, random_state=123)"
      ]
     },
     "execution_count": 339,
     "metadata": {},
     "output_type": "execute_result"
    }
   ],
   "source": [
    "gboost_exp_train.fit(X_train_clean, y_train)"
   ]
  },
  {
   "cell_type": "code",
   "execution_count": 340,
   "metadata": {},
   "outputs": [
    {
     "name": "stdout",
     "output_type": "stream",
     "text": [
      "Confision Matrix\n",
      "[True Negative: 22784    False Negative: 2792]\n",
      "[False Positive: 7968   True Positive: 17608]\n",
      "\n",
      "\n",
      "Classification Report\n",
      "              precision    recall  f1-score   support\n",
      "\n",
      "          no       0.74      0.89      0.81     25576\n",
      "         yes       0.86      0.69      0.77     25576\n",
      "\n",
      "    accuracy                           0.79     51152\n",
      "   macro avg       0.80      0.79      0.79     51152\n",
      "weighted avg       0.80      0.79      0.79     51152\n",
      "\n"
     ]
    }
   ],
   "source": [
    "gboost_exp_train_pred = modelPredictionResult(\n",
    "    classifier=gboost_exp_train,\n",
    "    input_data=X_train_clean,\n",
    "    output_data=y_train\n",
    ")"
   ]
  },
  {
   "cell_type": "code",
   "execution_count": 341,
   "metadata": {},
   "outputs": [
    {
     "name": "stdout",
     "output_type": "stream",
     "text": [
      "Classification Score Summary\n",
      "Classifier Accuracy score:  0.7896465436346575\n",
      "Classifier Recall score:  0.688457929308727\n",
      "Classifier f1-score:  0.765964851226727\n",
      "Classifier precision:  0.8631372549019608\n"
     ]
    }
   ],
   "source": [
    "gboost_exp_train_score = classScore(\n",
    "    model_prediction=gboost_exp_train_pred,\n",
    "    output_data=y_train\n",
    ")"
   ]
  },
  {
   "cell_type": "code",
   "execution_count": 342,
   "metadata": {},
   "outputs": [
    {
     "data": {
      "image/png": "[encoded data removed]",
      "text/plain": [
       "<Figure size 432x288 with 1 Axes>"
      ]
     },
     "metadata": {
      "needs_background": "light"
     },
     "output_type": "display_data"
    }
   ],
   "source": [
    "gboost_exp_train_aucroc = rocAucResult(\n",
    "    model_prediction=gboost_exp_train_pred,\n",
    "    output_data=y_train\n",
    ")"
   ]
  },
  {
   "cell_type": "code",
   "execution_count": 343,
   "metadata": {},
   "outputs": [],
   "source": [
    "gboost_exp_result[exp][\"train\"] = {\n",
    "    \"score\": gboost_exp_train_score,\n",
    "    \"aucroc\": gboost_exp_train_aucroc,\n",
    "}"
   ]
  },
  {
   "cell_type": "markdown",
   "metadata": {},
   "source": [
    "#### Gboost Experiment - Test and Predict"
   ]
  },
  {
   "cell_type": "code",
   "execution_count": 344,
   "metadata": {},
   "outputs": [
    {
     "name": "stdout",
     "output_type": "stream",
     "text": [
      "Confision Matrix\n",
      "[True Negative: 9795    False Negative: 1166]\n",
      "[False Positive: 581   True Positive: 811]\n",
      "\n",
      "\n",
      "Classification Report\n",
      "              precision    recall  f1-score   support\n",
      "\n",
      "          no       0.94      0.89      0.92     10961\n",
      "         yes       0.41      0.58      0.48      1392\n",
      "\n",
      "    accuracy                           0.86     12353\n",
      "   macro avg       0.68      0.74      0.70     12353\n",
      "weighted avg       0.88      0.86      0.87     12353\n",
      "\n"
     ]
    }
   ],
   "source": [
    "gboost_exp_test_pred = modelPredictionResult(\n",
    "    classifier=gboost_exp_train,\n",
    "    input_data=X_test_clean,\n",
    "    output_data=y_test\n",
    ")"
   ]
  },
  {
   "cell_type": "code",
   "execution_count": 345,
   "metadata": {},
   "outputs": [
    {
     "name": "stdout",
     "output_type": "stream",
     "text": [
      "Classification Score Summary\n",
      "Classifier Accuracy score:  0.8585768639196956\n",
      "Classifier Recall score:  0.5826149425287356\n",
      "Classifier f1-score:  0.4814485010388839\n",
      "Classifier precision:  0.41021750126454226\n"
     ]
    }
   ],
   "source": [
    "gboost_exp_test_score = classScore(\n",
    "    model_prediction=gboost_exp_test_pred,\n",
    "    output_data=y_test\n",
    ")"
   ]
  },
  {
   "cell_type": "code",
   "execution_count": 346,
   "metadata": {},
   "outputs": [
    {
     "data": {
      "image/png": "[encoded data removed]",
      "text/plain": [
       "<Figure size 432x288 with 1 Axes>"
      ]
     },
     "metadata": {
      "needs_background": "light"
     },
     "output_type": "display_data"
    }
   ],
   "source": [
    "gboost_exp_test_aucroc = rocAucResult(\n",
    "    model_prediction=gboost_exp_test_pred,\n",
    "    output_data=y_test\n",
    ")"
   ]
  },
  {
   "cell_type": "code",
   "execution_count": 347,
   "metadata": {},
   "outputs": [],
   "source": [
    "gboost_exp_result[exp][\"test\"] = {\n",
    "    \"score\": gboost_exp_test_score,\n",
    "    \"aucroc\": gboost_exp_test_aucroc,\n",
    "}"
   ]
  },
  {
   "cell_type": "code",
   "execution_count": 454,
   "metadata": {},
   "outputs": [
    {
     "data": {
      "text/plain": [
       "{'exp1': {'hyperparams': {'n_estimators': 600, 'learning_rate': 0.1},\n",
       "  'train': {'score': {'accuracy': 0.9496598373475132,\n",
       "    'recall': 0.9158977166093213,\n",
       "    'f1_score': 0.9479008598887203,\n",
       "    'precision': 0.9822214767914798},\n",
       "   'aucroc': {'fpr': array([0.        , 0.01657804, 1.        ]),\n",
       "    'tpr': array([0.        , 0.91589772, 1.        ]),\n",
       "    'roc_auc': 0.9496598373475134}},\n",
       "  'test': {'score': {'accuracy': 0.8976766777301061,\n",
       "    'recall': 0.28735632183908044,\n",
       "    'f1_score': 0.38759689922480617,\n",
       "    'precision': 0.5952380952380952},\n",
       "   'aucroc': {'fpr': array([0.        , 0.02481525, 1.        ]),\n",
       "    'tpr': array([0.        , 0.28735632, 1.        ]),\n",
       "    'roc_auc': 0.6312705338782119}}},\n",
       " 'exp2': {'hyperparams': {'n_estimators': 1000, 'learning_rate': 0.01},\n",
       "  'train': {'score': {'accuracy': 0.9317133249921802,\n",
       "    'recall': 0.9006881451360651,\n",
       "    'f1_score': 0.9295268838898416,\n",
       "    'precision': 0.9602734586685564},\n",
       "   'aucroc': {'fpr': array([0.       , 0.0372615, 1.       ]),\n",
       "    'tpr': array([0.        , 0.90068815, 1.        ]),\n",
       "    'roc_auc': 0.9317133249921802}},\n",
       "  'test': {'score': {'accuracy': 0.8913624220837043,\n",
       "    'recall': 0.34339080459770116,\n",
       "    'f1_score': 0.4160139251523063,\n",
       "    'precision': 0.5275938189845475},\n",
       "   'aucroc': {'fpr': array([0.        , 0.03904753, 1.        ]),\n",
       "    'tpr': array([0.       , 0.3433908, 1.       ]),\n",
       "    'roc_auc': 0.6521716362191133}}},\n",
       " 'exp3': {'hyperparams': {'n_estimators': 100, 'learning_rate': 0.01},\n",
       "  'train': {'score': {'accuracy': 0.7896465436346575,\n",
       "    'recall': 0.688457929308727,\n",
       "    'f1_score': 0.765964851226727,\n",
       "    'precision': 0.8631372549019608},\n",
       "   'aucroc': {'fpr': array([0.        , 0.10916484, 1.        ]),\n",
       "    'tpr': array([0.        , 0.68845793, 1.        ]),\n",
       "    'roc_auc': 0.7896465436346576}},\n",
       "  'test': {'score': {'accuracy': 0.8585768639196956,\n",
       "    'recall': 0.5826149425287356,\n",
       "    'f1_score': 0.4814485010388839,\n",
       "    'precision': 0.41021750126454226},\n",
       "   'aucroc': {'fpr': array([0.        , 0.10637716, 1.        ]),\n",
       "    'tpr': array([0.        , 0.58261494, 1.        ]),\n",
       "    'roc_auc': 0.7381188935798499}}},\n",
       " 'exp4': {'hyperparams': {'n_estimators': 150, 'learning_rate': 0.001},\n",
       "  'train': {'score': {'accuracy': 0.7417305286205818,\n",
       "    'recall': 0.6059587112918361,\n",
       "    'f1_score': 0.7011559255321556,\n",
       "    'precision': 0.8318394074392143},\n",
       "   'aucroc': {'fpr': array([0.        , 0.12249765, 1.        ]),\n",
       "    'tpr': array([0.        , 0.60595871, 1.        ]),\n",
       "    'roc_auc': 0.7417305286205819}},\n",
       "  'test': {'score': {'accuracy': 0.8443293127175585,\n",
       "    'recall': 0.5646551724137931,\n",
       "    'f1_score': 0.44978540772532194,\n",
       "    'precision': 0.37375178316690444},\n",
       "   'aucroc': {'fpr': array([0.        , 0.12015327, 1.        ]),\n",
       "    'tpr': array([0.        , 0.56465517, 1.        ]),\n",
       "    'roc_auc': 0.7222509508634061}}},\n",
       " 'exp5': {'hyperparams': {'n_estimators': 100, 'learning_rate': 0.01},\n",
       "  'train': {'score': {'accuracy': 0.7896465436346575,\n",
       "    'recall': 0.688457929308727,\n",
       "    'f1_score': 0.765964851226727,\n",
       "    'precision': 0.8631372549019608},\n",
       "   'aucroc': {'fpr': array([0.        , 0.10916484, 1.        ]),\n",
       "    'tpr': array([0.        , 0.68845793, 1.        ]),\n",
       "    'roc_auc': 0.7896465436346576}},\n",
       "  'test': {'score': {'accuracy': 0.8585768639196956,\n",
       "    'recall': 0.5826149425287356,\n",
       "    'f1_score': 0.4814485010388839,\n",
       "    'precision': 0.41021750126454226},\n",
       "   'aucroc': {'fpr': array([0.        , 0.10637716, 1.        ]),\n",
       "    'tpr': array([0.        , 0.58261494, 1.        ]),\n",
       "    'roc_auc': 0.7381188935798499}}}}"
      ]
     },
     "execution_count": 454,
     "metadata": {},
     "output_type": "execute_result"
    }
   ],
   "source": [
    "gboost_exp_result"
   ]
  },
  {
   "cell_type": "code",
   "execution_count": 456,
   "metadata": {},
   "outputs": [
    {
     "data": {
      "image/png": "[encoded data removed]",
      "text/plain": [
       "<Figure size 432x288 with 1 Axes>"
      ]
     },
     "metadata": {
      "needs_background": "light"
     },
     "output_type": "display_data"
    }
   ],
   "source": [
    "# ROC AUC Experiment Testing\n",
    "plt.title('Receiver Operating Characteristic')\n",
    "\n",
    "for key in gboost_exp_result:\n",
    "    fpr = gboost_exp_result[key][\"test\"][\"aucroc\"][\"fpr\"]\n",
    "    tpr = gboost_exp_result[key][\"test\"][\"aucroc\"][\"tpr\"]\n",
    "    roc_auc = gboost_exp_result[key][\"test\"][\"aucroc\"][\"roc_auc\"]\n",
    "    \n",
    "    plt.plot(fpr, tpr, label=\"%s AUC=%0.2f\" % (key, roc_auc))\n",
    "plt.legend(loc = 'lower right')\n",
    "plt.plot([0, 1], [0, 1],'r--')\n",
    "plt.xlim([0, 1])\n",
    "plt.ylim([0, 1])\n",
    "plt.ylabel('True Positive Rate')\n",
    "plt.xlabel('False Positive Rate')\n",
    "plt.show()"
   ]
  },
  {
   "cell_type": "code",
   "execution_count": 457,
   "metadata": {},
   "outputs": [
    {
     "data": {
      "image/png": "[encoded data removed]",
      "text/plain": [
       "<Figure size 432x288 with 1 Axes>"
      ]
     },
     "metadata": {
      "needs_background": "light"
     },
     "output_type": "display_data"
    }
   ],
   "source": [
    "# ROC AUC Experiment Testing\n",
    "plt.title('Receiver Operating Characteristic')\n",
    "\n",
    "for key in gboost_exp_result:\n",
    "    fpr = gboost_exp_result[key][\"train\"][\"aucroc\"][\"fpr\"]\n",
    "    tpr = gboost_exp_result[key][\"train\"][\"aucroc\"][\"tpr\"]\n",
    "    roc_auc = gboost_exp_result[key][\"train\"][\"aucroc\"][\"roc_auc\"]\n",
    "    \n",
    "    plt.plot(fpr, tpr, label=\"%s AUC=%0.2f\" % (key, roc_auc))\n",
    "plt.legend(loc = 'lower right')\n",
    "plt.plot([0, 1], [0, 1],'r--')\n",
    "plt.xlim([0, 1])\n",
    "plt.ylim([0, 1])\n",
    "plt.ylabel('True Positive Rate')\n",
    "plt.xlabel('False Positive Rate')\n",
    "plt.show()"
   ]
  },
  {
   "cell_type": "code",
   "execution_count": 472,
   "metadata": {},
   "outputs": [
    {
     "name": "stdout",
     "output_type": "stream",
     "text": [
      "{'n_estimators': 600, 'learning_rate': 0.1}\n",
      "{'n_estimators': 1000, 'learning_rate': 0.01}\n",
      "{'n_estimators': 100, 'learning_rate': 0.01}\n",
      "{'n_estimators': 150, 'learning_rate': 0.001}\n",
      "{'n_estimators': 100, 'learning_rate': 0.01}\n"
     ]
    }
   ],
   "source": [
    "for key in gboost_exp_result:\n",
    "    print(gboost_exp_result[key][\"hyperparams\"])"
   ]
  },
  {
   "cell_type": "code",
   "execution_count": null,
   "metadata": {},
   "outputs": [],
   "source": []
  },
  {
   "cell_type": "markdown",
   "metadata": {},
   "source": [
    "### Experimenting with Random Forest"
   ]
  },
  {
   "cell_type": "code",
   "execution_count": 374,
   "metadata": {},
   "outputs": [],
   "source": [
    "rforest_exp_result = {}"
   ]
  },
  {
   "cell_type": "code",
   "execution_count": 450,
   "metadata": {
    "tags": []
   },
   "outputs": [],
   "source": [
    "exp = \"exp4\"\n",
    "rforest_exp_result[exp] = {}"
   ]
  },
  {
   "cell_type": "code",
   "execution_count": 427,
   "metadata": {},
   "outputs": [],
   "source": [
    "rforest_exp_hyperparam = {\n",
    "    \"n_estimators\": 50,\n",
    "}"
   ]
  },
  {
   "cell_type": "code",
   "execution_count": 428,
   "metadata": {},
   "outputs": [],
   "source": [
    "rforest_exp_result[exp][\"hyperparams\"] = rforest_exp_hyperparam"
   ]
  },
  {
   "cell_type": "code",
   "execution_count": 429,
   "metadata": {},
   "outputs": [],
   "source": [
    "rforest_exp_train = RandomForestClassifier(\n",
    "    criterion=\"gini\",\n",
    "    max_features=\"sqrt\",\n",
    "    n_estimators=rforest_exp_hyperparam[\"n_estimators\"],\n",
    "    random_state=123\n",
    ")"
   ]
  },
  {
   "cell_type": "code",
   "execution_count": 430,
   "metadata": {},
   "outputs": [
    {
     "data": {
      "text/html": [
       "<style>#sk-container-id-29 {color: black;background-color: white;}#sk-container-id-29 pre{padding: 0;}#sk-container-id-29 div.sk-toggleable {background-color: white;}#sk-container-id-29 label.sk-toggleable__label {cursor: pointer;display: block;width: 100%;margin-bottom: 0;padding: 0.3em;box-sizing: border-box;text-align: center;}#sk-container-id-29 label.sk-toggleable__label-arrow:before {content: \"▸\";float: left;margin-right: 0.25em;color: #696969;}#sk-container-id-29 label.sk-toggleable__label-arrow:hover:before {color: black;}#sk-container-id-29 div.sk-estimator:hover label.sk-toggleable__label-arrow:before {color: black;}#sk-container-id-29 div.sk-toggleable__content {max-height: 0;max-width: 0;overflow: hidden;text-align: left;background-color: #f0f8ff;}#sk-container-id-29 div.sk-toggleable__content pre {margin: 0.2em;color: black;border-radius: 0.25em;background-color: #f0f8ff;}#sk-container-id-29 input.sk-toggleable__control:checked~div.sk-toggleable__content {max-height: 200px;max-width: 100%;overflow: auto;}#sk-container-id-29 input.sk-toggleable__control:checked~label.sk-toggleable__label-arrow:before {content: \"▾\";}#sk-container-id-29 div.sk-estimator input.sk-toggleable__control:checked~label.sk-toggleable__label {background-color: #d4ebff;}#sk-container-id-29 div.sk-label input.sk-toggleable__control:checked~label.sk-toggleable__label {background-color: #d4ebff;}#sk-container-id-29 input.sk-hidden--visually {border: 0;clip: rect(1px 1px 1px 1px);clip: rect(1px, 1px, 1px, 1px);height: 1px;margin: -1px;overflow: hidden;padding: 0;position: absolute;width: 1px;}#sk-container-id-29 div.sk-estimator {font-family: monospace;background-color: #f0f8ff;border: 1px dotted black;border-radius: 0.25em;box-sizing: border-box;margin-bottom: 0.5em;}#sk-container-id-29 div.sk-estimator:hover {background-color: #d4ebff;}#sk-container-id-29 div.sk-parallel-item::after {content: \"\";width: 100%;border-bottom: 1px solid gray;flex-grow: 1;}#sk-container-id-29 div.sk-label:hover label.sk-toggleable__label {background-color: #d4ebff;}#sk-container-id-29 div.sk-serial::before {content: \"\";position: absolute;border-left: 1px solid gray;box-sizing: border-box;top: 0;bottom: 0;left: 50%;z-index: 0;}#sk-container-id-29 div.sk-serial {display: flex;flex-direction: column;align-items: center;background-color: white;padding-right: 0.2em;padding-left: 0.2em;position: relative;}#sk-container-id-29 div.sk-item {position: relative;z-index: 1;}#sk-container-id-29 div.sk-parallel {display: flex;align-items: stretch;justify-content: center;background-color: white;position: relative;}#sk-container-id-29 div.sk-item::before, #sk-container-id-29 div.sk-parallel-item::before {content: \"\";position: absolute;border-left: 1px solid gray;box-sizing: border-box;top: 0;bottom: 0;left: 50%;z-index: -1;}#sk-container-id-29 div.sk-parallel-item {display: flex;flex-direction: column;z-index: 1;position: relative;background-color: white;}#sk-container-id-29 div.sk-parallel-item:first-child::after {align-self: flex-end;width: 50%;}#sk-container-id-29 div.sk-parallel-item:last-child::after {align-self: flex-start;width: 50%;}#sk-container-id-29 div.sk-parallel-item:only-child::after {width: 0;}#sk-container-id-29 div.sk-dashed-wrapped {border: 1px dashed gray;margin: 0 0.4em 0.5em 0.4em;box-sizing: border-box;padding-bottom: 0.4em;background-color: white;}#sk-container-id-29 div.sk-label label {font-family: monospace;font-weight: bold;display: inline-block;line-height: 1.2em;}#sk-container-id-29 div.sk-label-container {text-align: center;}#sk-container-id-29 div.sk-container {/* jupyter's `normalize.less` sets `[hidden] { display: none; }` but bootstrap.min.css set `[hidden] { display: none !important; }` so we also need the `!important` here to be able to override the default hidden behavior on the sphinx rendered scikit-learn.org. See: https://github.com/scikit-learn/scikit-learn/issues/21755 */display: inline-block !important;position: relative;}#sk-container-id-29 div.sk-text-repr-fallback {display: none;}</style><div id=\"sk-container-id-29\" class=\"sk-top-container\"><div class=\"sk-text-repr-fallback\"><pre>RandomForestClassifier(n_estimators=50, random_state=123)</pre><b>In a Jupyter environment, please rerun this cell to show the HTML representation or trust the notebook. <br />On GitHub, the HTML representation is unable to render, please try loading this page with nbviewer.org.</b></div><div class=\"sk-container\" hidden><div class=\"sk-item\"><div class=\"sk-estimator sk-toggleable\"><input class=\"sk-toggleable__control sk-hidden--visually\" id=\"sk-estimator-id-51\" type=\"checkbox\" checked><label for=\"sk-estimator-id-51\" class=\"sk-toggleable__label sk-toggleable__label-arrow\">RandomForestClassifier</label><div class=\"sk-toggleable__content\"><pre>RandomForestClassifier(n_estimators=50, random_state=123)</pre></div></div></div></div></div>"
      ],
      "text/plain": [
       "RandomForestClassifier(n_estimators=50, random_state=123)"
      ]
     },
     "execution_count": 430,
     "metadata": {},
     "output_type": "execute_result"
    }
   ],
   "source": [
    "rforest_exp_train.fit(X_train_clean, y_train)"
   ]
  },
  {
   "cell_type": "code",
   "execution_count": 431,
   "metadata": {},
   "outputs": [
    {
     "name": "stdout",
     "output_type": "stream",
     "text": [
      "Confision Matrix\n",
      "[True Negative: 25536    False Negative: 40]\n",
      "[False Positive: 106   True Positive: 25470]\n",
      "\n",
      "\n",
      "Classification Report\n",
      "              precision    recall  f1-score   support\n",
      "\n",
      "          no       1.00      1.00      1.00     25576\n",
      "         yes       1.00      1.00      1.00     25576\n",
      "\n",
      "    accuracy                           1.00     51152\n",
      "   macro avg       1.00      1.00      1.00     51152\n",
      "weighted avg       1.00      1.00      1.00     51152\n",
      "\n"
     ]
    }
   ],
   "source": [
    "rforest_exp_train_pred = modelPredictionResult(\n",
    "    classifier=rforest_exp_train,\n",
    "    input_data=X_train_clean,\n",
    "    output_data=y_train\n",
    ")"
   ]
  },
  {
   "cell_type": "code",
   "execution_count": 432,
   "metadata": {},
   "outputs": [
    {
     "name": "stdout",
     "output_type": "stream",
     "text": [
      "Classification Score Summary\n",
      "Classifier Accuracy score:  0.9971457616515483\n",
      "Classifier Recall score:  0.9958554895214263\n",
      "Classifier f1-score:  0.9971420741494735\n",
      "Classifier precision:  0.9984319874558997\n"
     ]
    }
   ],
   "source": [
    "rforest_exp_train_score = classScore(\n",
    "    model_prediction=rforest_exp_train_pred,\n",
    "    output_data=y_train\n",
    ")"
   ]
  },
  {
   "cell_type": "code",
   "execution_count": 433,
   "metadata": {},
   "outputs": [
    {
     "data": {
      "image/png": "[encoded data removed]",
      "text/plain": [
       "<Figure size 432x288 with 1 Axes>"
      ]
     },
     "metadata": {
      "needs_background": "light"
     },
     "output_type": "display_data"
    }
   ],
   "source": [
    "rforest_exp_train_aucroc = rocAucResult(\n",
    "    model_prediction=rforest_exp_train_pred,\n",
    "    output_data=y_train\n",
    ")"
   ]
  },
  {
   "cell_type": "code",
   "execution_count": 434,
   "metadata": {},
   "outputs": [],
   "source": [
    "rforest_exp_result[exp][\"train\"] = {\n",
    "    \"score\": rforest_exp_train_score,\n",
    "    \"aucroc\": rforest_exp_train_aucroc,\n",
    "}"
   ]
  },
  {
   "cell_type": "markdown",
   "metadata": {},
   "source": [
    "#### Random Forest Experiment - Test and Prediction"
   ]
  },
  {
   "cell_type": "code",
   "execution_count": 435,
   "metadata": {},
   "outputs": [
    {
     "name": "stdout",
     "output_type": "stream",
     "text": [
      "Confision Matrix\n",
      "[True Negative: 10590    False Negative: 371]\n",
      "[False Positive: 961   True Positive: 431]\n",
      "\n",
      "\n",
      "Classification Report\n",
      "              precision    recall  f1-score   support\n",
      "\n",
      "          no       0.92      0.97      0.94     10961\n",
      "         yes       0.54      0.31      0.39      1392\n",
      "\n",
      "    accuracy                           0.89     12353\n",
      "   macro avg       0.73      0.64      0.67     12353\n",
      "weighted avg       0.87      0.89      0.88     12353\n",
      "\n"
     ]
    }
   ],
   "source": [
    "rforest_exp_test_pred = modelPredictionResult(\n",
    "    classifier=rforest_exp_train,\n",
    "    input_data=X_test_clean,\n",
    "    output_data=y_test\n",
    ")"
   ]
  },
  {
   "cell_type": "code",
   "execution_count": 436,
   "metadata": {},
   "outputs": [
    {
     "name": "stdout",
     "output_type": "stream",
     "text": [
      "Classification Score Summary\n",
      "Classifier Accuracy score:  0.8921719420383712\n",
      "Classifier Recall score:  0.30962643678160917\n",
      "Classifier f1-score:  0.39288969917958066\n",
      "Classifier precision:  0.5374064837905237\n"
     ]
    }
   ],
   "source": [
    "rforest_exp_test_score = classScore(\n",
    "    model_prediction=rforest_exp_test_pred,\n",
    "    output_data=y_test\n",
    ")"
   ]
  },
  {
   "cell_type": "code",
   "execution_count": 437,
   "metadata": {},
   "outputs": [
    {
     "data": {
      "image/png": "[encoded data removed]",
      "text/plain": [
       "<Figure size 432x288 with 1 Axes>"
      ]
     },
     "metadata": {
      "needs_background": "light"
     },
     "output_type": "display_data"
    }
   ],
   "source": [
    "rforest_exp_test_aucroc = rocAucResult(\n",
    "    model_prediction=rforest_exp_test_pred,\n",
    "    output_data=y_test\n",
    ")"
   ]
  },
  {
   "cell_type": "code",
   "execution_count": 438,
   "metadata": {},
   "outputs": [],
   "source": [
    "rforest_exp_result[exp][\"test\"] = {\n",
    "    \"score\": rforest_exp_test_score,\n",
    "    \"aucroc\": rforest_exp_test_aucroc,\n",
    "}"
   ]
  }
 ],
 "metadata": {
  "kernelspec": {
   "display_name": "Python 3 (ipykernel)",
   "language": "python",
   "name": "python3"
  },
  "language_info": {
   "codemirror_mode": {
    "name": "ipython",
    "version": 3
   },
   "file_extension": ".py",
   "mimetype": "text/x-python",
   "name": "python",
   "nbconvert_exporter": "python",
   "pygments_lexer": "ipython3",
   "version": "3.10.0"
  },
  "vscode": {
   "interpreter": {
    "hash": "ec71345ca5d37a0e9a74c52dd4df8f08155a9116efa2c99cb350734e2b4aad3e"
   }
  }
 },
 "nbformat": 4,
 "nbformat_minor": 4
}
