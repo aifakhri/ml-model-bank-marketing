{
 "cells": [
  {
   "cell_type": "code",
   "execution_count": 1,
   "metadata": {},
   "outputs": [],
   "source": [
    "import pandas as pd\n",
    "import numpy as np\n",
    "import seaborn as sns\n",
    "import matplotlib.pyplot as plt\n",
    "\n",
    "from sklearn.model_selection import train_test_split\n",
    "from sklearn.impute import SimpleImputer\n",
    "from sklearn.preprocessing import LabelEncoder, StandardScaler\n",
    "from sklearn.neighbors import KNeighborsClassifier\n",
    "from sklearn.tree import DecisionTreeClassifier"
   ]
  },
  {
   "cell_type": "code",
   "execution_count": 2,
   "metadata": {},
   "outputs": [],
   "source": [
    "def initialSetup(fl_path: str) -> pd.DataFrame:\n",
    "    \"\"\"This is the initial setup of the program\n",
    "    \"\"\"\n",
    "\n",
    "    # Read the data based on its filepath\n",
    "    data = pd.read_csv(fl_path, delimiter=\";\")\n",
    "\n",
    "    # Copy data for sanity check\n",
    "    copy_data = data.copy()\n",
    "\n",
    "    # Get duplicates by looping through the data until there is no duplicate\n",
    "    n_duplicates = data.duplicated(keep=False).sum()\n",
    "    while n_duplicates != 0:\n",
    "        print(f\"There are duplicates. Total duplicates: {n_duplicates}\\n\"\n",
    "              +\"Cleaning Duplicates....\\n\")\n",
    "        data.drop_duplicates(keep=\"first\", inplace=True)\n",
    "\n",
    "        # Re-evaluate number of duplicates\n",
    "        n_duplicates = data.duplicated(keep=False).sum()\n",
    "\n",
    "    print(\"No duplicates in the data\")\n",
    "\n",
    "    # Running Sanity Check for data shape\n",
    "    return data\n"
   ]
  },
  {
   "cell_type": "code",
   "execution_count": 3,
   "metadata": {},
   "outputs": [],
   "source": [
    "def splittingData(data: pd.DataFrame, target: str):\n",
    "    \"\"\"Splitting Input and Output Data\n",
    "    \n",
    "    We split the dataset into independent and dependent variable.\n",
    "    Then create data training and data test from sklearn train_test_split()\n",
    "    \"\"\"\n",
    "\n",
    "    margin_error = 0.05\n",
    "    test_size = 0.25\n",
    "\n",
    "    # Get total variable from the entire data\n",
    "    total_variables = len(data.columns)\n",
    "\n",
    "    # Separate Independent Variable (Input) and target variable (output)\n",
    "    # Common convention X is input, y is output\n",
    "    y = data[target]\n",
    "    X = data.drop(target, axis=1)\n",
    "\n",
    "    # Sanity Check Input-Output\n",
    "    # output data should only contain one column\n",
    "    # input data should contain the rest of variable (total_variable-1)\n",
    "    if (len(X.columns) == total_variables-1) \\\n",
    "        or (len(y.shape) == 1):\n",
    "        print(\"Splitting Input-Output success\")\n",
    "    else:\n",
    "        print(\"Splitting Input-Ouput failed\")\n",
    "        return None\n",
    "\n",
    "    # Use the input and output data to split train and test data\n",
    "    X_train, X_test, y_train, y_test = train_test_split(X, y,\n",
    "                                                        test_size=test_size,\n",
    "                                                        random_state=123)\n",
    "\n",
    "    # Sanity Check for Train Split Data\n",
    "    print(\"Sanity Check for Train and Test data shape...\\n\"\n",
    "          +f\"X_train data shape: {X_train.shape}\\n\"\n",
    "          +f\"y_train data shape: {X_test.shape}\\n\")\n",
    "    \n",
    "    # Create margin error of splitting result\n",
    "    low_threshold = test_size-(test_size*margin_error)\n",
    "    upper_threshold = test_size+(test_size*margin_error)\n",
    "\n",
    "    # Define the test size ratio after data is splitted\n",
    "    test_size_ratio = X_test.shape[0]/X.shape[0]\n",
    "\n",
    "    # Sanity Check for Ratio\n",
    "    print(\"Sanity Check for Train and Test data proportion....\")\n",
    "    if (test_size_ratio > low_threshold) \\\n",
    "        or (test_size_ratio < upper_threshold):\n",
    "        print(f\"Defined ratio: {test_size}\\n\"\n",
    "              f\"Ratio after splitting: {test_size_ratio}\\n\"\n",
    "              +\"Splitting proportion is similar\")\n",
    "    else:\n",
    "        print(f\"Defined ratio: {test_size}\\n\"\n",
    "              f\"Ratio after splitting: {test_size_ratio}\\n\"\n",
    "              +\"Splitting proportion is different\")\n",
    "\n",
    "    return X_train, X_test, y_train, y_test"
   ]
  },
  {
   "cell_type": "code",
   "execution_count": 4,
   "metadata": {},
   "outputs": [],
   "source": [
    "def numericalImputer(data: pd.DataFrame, \n",
    "                     numerical_columns: list ) -> tuple:\n",
    "    \"\"\"Function to impute numerical data\"\"\"\n",
    "\n",
    "    # Create numerical data\n",
    "    numerical_data = data[numerical_columns]\n",
    "\n",
    "    # Create imputer\n",
    "    numerical_imputer = SimpleImputer(missing_values=np.nan,\n",
    "                                      strategy=\"median\")\n",
    "    numerical_imputer.fit(numerical_data)\n",
    "\n",
    "    # Transform\n",
    "    imputed_data = numerical_imputer.transform(numerical_data)\n",
    "    imputed_numerical_data = pd.DataFrame(imputed_data)\n",
    "\n",
    "    # Assigned columns and index value from the original data for consistency\n",
    "    imputed_numerical_data.columns = numerical_columns\n",
    "    imputed_numerical_data.index = numerical_data.index\n",
    "\n",
    "    return imputed_numerical_data, numerical_imputer"
   ]
  },
  {
   "cell_type": "code",
   "execution_count": 5,
   "metadata": {},
   "outputs": [],
   "source": [
    "def categoricalImputer(data: pd.DataFrame, \n",
    "                       categorical_columns: list,\n",
    "                       experiment=\"ohe\"):\n",
    "    \"\"\"Impute and Clean Missing Value\"\"\"\n",
    "\n",
    "    # Create categorical data\n",
    "    categorical_data = data[categorical_columns]\n",
    "\n",
    "    # Finding Missing value\n",
    "    n_missing_value = categorical_data.isnull().any().sum()\n",
    "    if n_missing_value > 0:\n",
    "        categorical_data.fillna(\"Unknown\", inplace=True)\n",
    "    else:\n",
    "        pass\n",
    "\n",
    "    # experiment (?)\n",
    "    if experiment == \"label\":\n",
    "        pass\n",
    "    elif experiment == \"ohe\":\n",
    "        categorical_ohe = pd.get_dummies(categorical_data)\n",
    "    elif experiment == \"mix\":\n",
    "        pass\n",
    "\n",
    "    return categorical_ohe"
   ]
  },
  {
   "cell_type": "code",
   "execution_count": 6,
   "metadata": {},
   "outputs": [],
   "source": [
    "def dataStandarization(data: pd.DataFrame) -> tuple:\n",
    "\n",
    "    # Get initial columns and index for data consistency    \n",
    "    data_columns = data.columns\n",
    "    data_index = data.index\n",
    "\n",
    "    # Create scaler\n",
    "    scaler = StandardScaler()\n",
    "    scaler.fit(data)\n",
    "\n",
    "    # Transform\n",
    "    scaler_transformation = scaler.transform(data)\n",
    "    standardized_data = pd.DataFrame(scaler_transformation)\n",
    "\n",
    "    # Assign the initial columns and index\n",
    "    standardized_data.columns = data_columns\n",
    "    standardized_data.index = data_index\n",
    "\n",
    "    return standardized_data, scaler"
   ]
  },
  {
   "cell_type": "code",
   "execution_count": 35,
   "metadata": {},
   "outputs": [],
   "source": [
    "def testDataProcessing(data: pd.DataFrame,\n",
    "                       numerical_columns: list,\n",
    "                       categorical_columns: list,\n",
    "                       numerical_imputer: SimpleImputer,\n",
    "                       scaler: StandardScaler) -> tuple:\n",
    "    \"\"\"Test Data Preprocessing\"\"\"\n",
    "\n",
    "    # Processing numerical data\n",
    "    numerical_data = data[numerical_columns]\n",
    "    numerical_data = pd.DataFrame(numerical_imputer.transform(numerical_data))\n",
    "    numerical_data.columns = numerical_columns\n",
    "    numerical_data.index = data.index\n",
    "\n",
    "    # Categorical Data Preprocessing\n",
    "    categorical_data = categoricalImputer(data, categorical_columns)\n",
    "\n",
    "    # merge_data\n",
    "    data_concat = pd.concat(\n",
    "        [numerical_data, categorical_data], axis=1\n",
    "    )\n",
    "\n",
    "    # standardized data to get clean data\n",
    "    clean_data = pd.DataFrame(scaler.transform(data_concat))\n",
    "    clean_data.columns = data_concat.columns\n",
    "\n",
    "    return clean_data\n",
    "    "
   ]
  },
  {
   "cell_type": "code",
   "execution_count": 7,
   "metadata": {},
   "outputs": [
    {
     "name": "stdout",
     "output_type": "stream",
     "text": [
      "There are duplicates. Total duplicates: 24\n",
      "Cleaning Duplicates....\n",
      "\n",
      "No duplicates in the data\n"
     ]
    }
   ],
   "source": [
    "bank_df = initialSetup(\"bank-additional-full.csv\")"
   ]
  },
  {
   "cell_type": "code",
   "execution_count": 8,
   "metadata": {},
   "outputs": [
    {
     "data": {
      "text/plain": [
       "(41176, 20)"
      ]
     },
     "execution_count": 8,
     "metadata": {},
     "output_type": "execute_result"
    }
   ],
   "source": [
    "## As per dataset recommendation we would like to drop duration variable\n",
    "bank_df.drop(columns=[\"duration\"], inplace=True)\n",
    "bank_df.shape"
   ]
  },
  {
   "cell_type": "code",
   "execution_count": 9,
   "metadata": {},
   "outputs": [],
   "source": [
    "test = bank_df[\"age\"]"
   ]
  },
  {
   "cell_type": "code",
   "execution_count": 10,
   "metadata": {},
   "outputs": [
    {
     "data": {
      "text/plain": [
       "1"
      ]
     },
     "execution_count": 10,
     "metadata": {},
     "output_type": "execute_result"
    }
   ],
   "source": [
    "len(test.shape)"
   ]
  },
  {
   "cell_type": "code",
   "execution_count": 11,
   "metadata": {},
   "outputs": [
    {
     "name": "stdout",
     "output_type": "stream",
     "text": [
      "Splitting Input-Output success\n",
      "Sanity Check for Train and Test data shape...\n",
      "X_train data shape: (30882, 19)\n",
      "y_train data shape: (10294, 19)\n",
      "\n",
      "Sanity Check for Train and Test data proportion....\n",
      "Defined ratio: 0.25\n",
      "Ratio after splitting: 0.25\n",
      "Splitting proportion is similar\n"
     ]
    }
   ],
   "source": [
    "# Train Test Split\n",
    "X_train, X_test, y_train, y_test = splittingData(data=bank_df, target=\"y\")"
   ]
  },
  {
   "cell_type": "code",
   "execution_count": 12,
   "metadata": {},
   "outputs": [
    {
     "data": {
      "text/html": [
       "<div>\n",
       "<style scoped>\n",
       "    .dataframe tbody tr th:only-of-type {\n",
       "        vertical-align: middle;\n",
       "    }\n",
       "\n",
       "    .dataframe tbody tr th {\n",
       "        vertical-align: top;\n",
       "    }\n",
       "\n",
       "    .dataframe thead th {\n",
       "        text-align: right;\n",
       "    }\n",
       "</style>\n",
       "<table border=\"1\" class=\"dataframe\">\n",
       "  <thead>\n",
       "    <tr style=\"text-align: right;\">\n",
       "      <th></th>\n",
       "      <th>age</th>\n",
       "      <th>job</th>\n",
       "      <th>marital</th>\n",
       "      <th>education</th>\n",
       "      <th>default</th>\n",
       "      <th>housing</th>\n",
       "      <th>loan</th>\n",
       "      <th>contact</th>\n",
       "      <th>month</th>\n",
       "      <th>day_of_week</th>\n",
       "      <th>campaign</th>\n",
       "      <th>pdays</th>\n",
       "      <th>previous</th>\n",
       "      <th>poutcome</th>\n",
       "      <th>emp.var.rate</th>\n",
       "      <th>cons.price.idx</th>\n",
       "      <th>cons.conf.idx</th>\n",
       "      <th>euribor3m</th>\n",
       "      <th>nr.employed</th>\n",
       "    </tr>\n",
       "  </thead>\n",
       "  <tbody>\n",
       "    <tr>\n",
       "      <th>38852</th>\n",
       "      <td>35</td>\n",
       "      <td>self-employed</td>\n",
       "      <td>single</td>\n",
       "      <td>university.degree</td>\n",
       "      <td>no</td>\n",
       "      <td>yes</td>\n",
       "      <td>no</td>\n",
       "      <td>cellular</td>\n",
       "      <td>nov</td>\n",
       "      <td>mon</td>\n",
       "      <td>1</td>\n",
       "      <td>999</td>\n",
       "      <td>0</td>\n",
       "      <td>nonexistent</td>\n",
       "      <td>-3.4</td>\n",
       "      <td>92.649</td>\n",
       "      <td>-30.1</td>\n",
       "      <td>0.714</td>\n",
       "      <td>5017.5</td>\n",
       "    </tr>\n",
       "    <tr>\n",
       "      <th>17462</th>\n",
       "      <td>47</td>\n",
       "      <td>housemaid</td>\n",
       "      <td>married</td>\n",
       "      <td>basic.4y</td>\n",
       "      <td>unknown</td>\n",
       "      <td>no</td>\n",
       "      <td>no</td>\n",
       "      <td>cellular</td>\n",
       "      <td>jul</td>\n",
       "      <td>mon</td>\n",
       "      <td>3</td>\n",
       "      <td>999</td>\n",
       "      <td>0</td>\n",
       "      <td>nonexistent</td>\n",
       "      <td>1.4</td>\n",
       "      <td>93.918</td>\n",
       "      <td>-42.7</td>\n",
       "      <td>4.962</td>\n",
       "      <td>5228.1</td>\n",
       "    </tr>\n",
       "  </tbody>\n",
       "</table>\n",
       "</div>"
      ],
      "text/plain": [
       "       age            job  marital          education  default housing loan  \\\n",
       "38852   35  self-employed   single  university.degree       no     yes   no   \n",
       "17462   47      housemaid  married           basic.4y  unknown      no   no   \n",
       "\n",
       "        contact month day_of_week  campaign  pdays  previous     poutcome  \\\n",
       "38852  cellular   nov         mon         1    999         0  nonexistent   \n",
       "17462  cellular   jul         mon         3    999         0  nonexistent   \n",
       "\n",
       "       emp.var.rate  cons.price.idx  cons.conf.idx  euribor3m  nr.employed  \n",
       "38852          -3.4          92.649          -30.1      0.714       5017.5  \n",
       "17462           1.4          93.918          -42.7      4.962       5228.1  "
      ]
     },
     "execution_count": 12,
     "metadata": {},
     "output_type": "execute_result"
    }
   ],
   "source": [
    "X_train.head(2)"
   ]
  },
  {
   "cell_type": "code",
   "execution_count": 13,
   "metadata": {},
   "outputs": [
    {
     "data": {
      "text/plain": [
       "38852    no\n",
       "17462    no\n",
       "Name: y, dtype: object"
      ]
     },
     "execution_count": 13,
     "metadata": {},
     "output_type": "execute_result"
    }
   ],
   "source": [
    "y_train.head(2)"
   ]
  },
  {
   "cell_type": "code",
   "execution_count": 14,
   "metadata": {},
   "outputs": [],
   "source": [
    "# Data Preprocessing"
   ]
  },
  {
   "cell_type": "code",
   "execution_count": 15,
   "metadata": {},
   "outputs": [],
   "source": [
    "# separating categorical and numerical data\n",
    "categorical_columns = [\n",
    "    \"job\", \"marital\", \"education\", \"default\", \"housing\",\n",
    "    \"loan\", \"contact\", \"month\", \"day_of_week\", \"poutcome\",\n",
    "]"
   ]
  },
  {
   "cell_type": "code",
   "execution_count": 16,
   "metadata": {},
   "outputs": [],
   "source": [
    "numerical_columns = [\n",
    "    \"age\", \"campaign\", \"pdays\", \"previous\", \"emp.var.rate\", \n",
    "    \"cons.price.idx\", \"cons.conf.idx\", \"euribor3m\", \"nr.employed\",\n",
    "]"
   ]
  },
  {
   "cell_type": "code",
   "execution_count": 17,
   "metadata": {},
   "outputs": [],
   "source": [
    "# handling numerical data\n",
    "X_train_numerical, numerical_imputer = numericalImputer(data=X_train,\n",
    "                                                        numerical_columns=numerical_columns)"
   ]
  },
  {
   "cell_type": "code",
   "execution_count": 18,
   "metadata": {},
   "outputs": [
    {
     "data": {
      "text/html": [
       "<div>\n",
       "<style scoped>\n",
       "    .dataframe tbody tr th:only-of-type {\n",
       "        vertical-align: middle;\n",
       "    }\n",
       "\n",
       "    .dataframe tbody tr th {\n",
       "        vertical-align: top;\n",
       "    }\n",
       "\n",
       "    .dataframe thead th {\n",
       "        text-align: right;\n",
       "    }\n",
       "</style>\n",
       "<table border=\"1\" class=\"dataframe\">\n",
       "  <thead>\n",
       "    <tr style=\"text-align: right;\">\n",
       "      <th></th>\n",
       "      <th>age</th>\n",
       "      <th>campaign</th>\n",
       "      <th>pdays</th>\n",
       "      <th>previous</th>\n",
       "      <th>emp.var.rate</th>\n",
       "      <th>cons.price.idx</th>\n",
       "      <th>cons.conf.idx</th>\n",
       "      <th>euribor3m</th>\n",
       "      <th>nr.employed</th>\n",
       "    </tr>\n",
       "  </thead>\n",
       "  <tbody>\n",
       "    <tr>\n",
       "      <th>38852</th>\n",
       "      <td>35.0</td>\n",
       "      <td>1.0</td>\n",
       "      <td>999.0</td>\n",
       "      <td>0.0</td>\n",
       "      <td>-3.4</td>\n",
       "      <td>92.649</td>\n",
       "      <td>-30.1</td>\n",
       "      <td>0.714</td>\n",
       "      <td>5017.5</td>\n",
       "    </tr>\n",
       "    <tr>\n",
       "      <th>17462</th>\n",
       "      <td>47.0</td>\n",
       "      <td>3.0</td>\n",
       "      <td>999.0</td>\n",
       "      <td>0.0</td>\n",
       "      <td>1.4</td>\n",
       "      <td>93.918</td>\n",
       "      <td>-42.7</td>\n",
       "      <td>4.962</td>\n",
       "      <td>5228.1</td>\n",
       "    </tr>\n",
       "  </tbody>\n",
       "</table>\n",
       "</div>"
      ],
      "text/plain": [
       "        age  campaign  pdays  previous  emp.var.rate  cons.price.idx  \\\n",
       "38852  35.0       1.0  999.0       0.0          -3.4          92.649   \n",
       "17462  47.0       3.0  999.0       0.0           1.4          93.918   \n",
       "\n",
       "       cons.conf.idx  euribor3m  nr.employed  \n",
       "38852          -30.1      0.714       5017.5  \n",
       "17462          -42.7      4.962       5228.1  "
      ]
     },
     "execution_count": 18,
     "metadata": {},
     "output_type": "execute_result"
    }
   ],
   "source": [
    "X_train_numerical.head(2)"
   ]
  },
  {
   "cell_type": "code",
   "execution_count": 19,
   "metadata": {},
   "outputs": [],
   "source": [
    "# Handling categorical data\n",
    "X_train_categorical = categoricalImputer(data=X_train,\n",
    "                                         categorical_columns=categorical_columns)"
   ]
  },
  {
   "cell_type": "code",
   "execution_count": 20,
   "metadata": {},
   "outputs": [
    {
     "data": {
      "text/html": [
       "<div>\n",
       "<style scoped>\n",
       "    .dataframe tbody tr th:only-of-type {\n",
       "        vertical-align: middle;\n",
       "    }\n",
       "\n",
       "    .dataframe tbody tr th {\n",
       "        vertical-align: top;\n",
       "    }\n",
       "\n",
       "    .dataframe thead th {\n",
       "        text-align: right;\n",
       "    }\n",
       "</style>\n",
       "<table border=\"1\" class=\"dataframe\">\n",
       "  <thead>\n",
       "    <tr style=\"text-align: right;\">\n",
       "      <th></th>\n",
       "      <th>job_admin.</th>\n",
       "      <th>job_blue-collar</th>\n",
       "      <th>job_entrepreneur</th>\n",
       "      <th>job_housemaid</th>\n",
       "      <th>job_management</th>\n",
       "      <th>job_retired</th>\n",
       "      <th>job_self-employed</th>\n",
       "      <th>job_services</th>\n",
       "      <th>job_student</th>\n",
       "      <th>job_technician</th>\n",
       "      <th>...</th>\n",
       "      <th>month_oct</th>\n",
       "      <th>month_sep</th>\n",
       "      <th>day_of_week_fri</th>\n",
       "      <th>day_of_week_mon</th>\n",
       "      <th>day_of_week_thu</th>\n",
       "      <th>day_of_week_tue</th>\n",
       "      <th>day_of_week_wed</th>\n",
       "      <th>poutcome_failure</th>\n",
       "      <th>poutcome_nonexistent</th>\n",
       "      <th>poutcome_success</th>\n",
       "    </tr>\n",
       "  </thead>\n",
       "  <tbody>\n",
       "    <tr>\n",
       "      <th>38852</th>\n",
       "      <td>0</td>\n",
       "      <td>0</td>\n",
       "      <td>0</td>\n",
       "      <td>0</td>\n",
       "      <td>0</td>\n",
       "      <td>0</td>\n",
       "      <td>1</td>\n",
       "      <td>0</td>\n",
       "      <td>0</td>\n",
       "      <td>0</td>\n",
       "      <td>...</td>\n",
       "      <td>0</td>\n",
       "      <td>0</td>\n",
       "      <td>0</td>\n",
       "      <td>1</td>\n",
       "      <td>0</td>\n",
       "      <td>0</td>\n",
       "      <td>0</td>\n",
       "      <td>0</td>\n",
       "      <td>1</td>\n",
       "      <td>0</td>\n",
       "    </tr>\n",
       "    <tr>\n",
       "      <th>17462</th>\n",
       "      <td>0</td>\n",
       "      <td>0</td>\n",
       "      <td>0</td>\n",
       "      <td>1</td>\n",
       "      <td>0</td>\n",
       "      <td>0</td>\n",
       "      <td>0</td>\n",
       "      <td>0</td>\n",
       "      <td>0</td>\n",
       "      <td>0</td>\n",
       "      <td>...</td>\n",
       "      <td>0</td>\n",
       "      <td>0</td>\n",
       "      <td>0</td>\n",
       "      <td>1</td>\n",
       "      <td>0</td>\n",
       "      <td>0</td>\n",
       "      <td>0</td>\n",
       "      <td>0</td>\n",
       "      <td>1</td>\n",
       "      <td>0</td>\n",
       "    </tr>\n",
       "  </tbody>\n",
       "</table>\n",
       "<p>2 rows × 53 columns</p>\n",
       "</div>"
      ],
      "text/plain": [
       "       job_admin.  job_blue-collar  job_entrepreneur  job_housemaid  \\\n",
       "38852           0                0                 0              0   \n",
       "17462           0                0                 0              1   \n",
       "\n",
       "       job_management  job_retired  job_self-employed  job_services  \\\n",
       "38852               0            0                  1             0   \n",
       "17462               0            0                  0             0   \n",
       "\n",
       "       job_student  job_technician  ...  month_oct  month_sep  \\\n",
       "38852            0               0  ...          0          0   \n",
       "17462            0               0  ...          0          0   \n",
       "\n",
       "       day_of_week_fri  day_of_week_mon  day_of_week_thu  day_of_week_tue  \\\n",
       "38852                0                1                0                0   \n",
       "17462                0                1                0                0   \n",
       "\n",
       "       day_of_week_wed  poutcome_failure  poutcome_nonexistent  \\\n",
       "38852                0                 0                     1   \n",
       "17462                0                 0                     1   \n",
       "\n",
       "       poutcome_success  \n",
       "38852                 0  \n",
       "17462                 0  \n",
       "\n",
       "[2 rows x 53 columns]"
      ]
     },
     "execution_count": 20,
     "metadata": {},
     "output_type": "execute_result"
    }
   ],
   "source": [
    "X_train_categorical.head(2)"
   ]
  },
  {
   "cell_type": "code",
   "execution_count": 21,
   "metadata": {},
   "outputs": [],
   "source": [
    "X_train_concat = pd.concat(\n",
    "    [X_train_numerical, X_train_categorical], axis=1\n",
    ")"
   ]
  },
  {
   "cell_type": "code",
   "execution_count": 22,
   "metadata": {},
   "outputs": [
    {
     "data": {
      "text/html": [
       "<div>\n",
       "<style scoped>\n",
       "    .dataframe tbody tr th:only-of-type {\n",
       "        vertical-align: middle;\n",
       "    }\n",
       "\n",
       "    .dataframe tbody tr th {\n",
       "        vertical-align: top;\n",
       "    }\n",
       "\n",
       "    .dataframe thead th {\n",
       "        text-align: right;\n",
       "    }\n",
       "</style>\n",
       "<table border=\"1\" class=\"dataframe\">\n",
       "  <thead>\n",
       "    <tr style=\"text-align: right;\">\n",
       "      <th></th>\n",
       "      <th>age</th>\n",
       "      <th>campaign</th>\n",
       "      <th>pdays</th>\n",
       "      <th>previous</th>\n",
       "      <th>emp.var.rate</th>\n",
       "      <th>cons.price.idx</th>\n",
       "      <th>cons.conf.idx</th>\n",
       "      <th>euribor3m</th>\n",
       "      <th>nr.employed</th>\n",
       "      <th>job_admin.</th>\n",
       "      <th>...</th>\n",
       "      <th>month_oct</th>\n",
       "      <th>month_sep</th>\n",
       "      <th>day_of_week_fri</th>\n",
       "      <th>day_of_week_mon</th>\n",
       "      <th>day_of_week_thu</th>\n",
       "      <th>day_of_week_tue</th>\n",
       "      <th>day_of_week_wed</th>\n",
       "      <th>poutcome_failure</th>\n",
       "      <th>poutcome_nonexistent</th>\n",
       "      <th>poutcome_success</th>\n",
       "    </tr>\n",
       "  </thead>\n",
       "  <tbody>\n",
       "    <tr>\n",
       "      <th>38852</th>\n",
       "      <td>35.0</td>\n",
       "      <td>1.0</td>\n",
       "      <td>999.0</td>\n",
       "      <td>0.0</td>\n",
       "      <td>-3.4</td>\n",
       "      <td>92.649</td>\n",
       "      <td>-30.1</td>\n",
       "      <td>0.714</td>\n",
       "      <td>5017.5</td>\n",
       "      <td>0</td>\n",
       "      <td>...</td>\n",
       "      <td>0</td>\n",
       "      <td>0</td>\n",
       "      <td>0</td>\n",
       "      <td>1</td>\n",
       "      <td>0</td>\n",
       "      <td>0</td>\n",
       "      <td>0</td>\n",
       "      <td>0</td>\n",
       "      <td>1</td>\n",
       "      <td>0</td>\n",
       "    </tr>\n",
       "    <tr>\n",
       "      <th>17462</th>\n",
       "      <td>47.0</td>\n",
       "      <td>3.0</td>\n",
       "      <td>999.0</td>\n",
       "      <td>0.0</td>\n",
       "      <td>1.4</td>\n",
       "      <td>93.918</td>\n",
       "      <td>-42.7</td>\n",
       "      <td>4.962</td>\n",
       "      <td>5228.1</td>\n",
       "      <td>0</td>\n",
       "      <td>...</td>\n",
       "      <td>0</td>\n",
       "      <td>0</td>\n",
       "      <td>0</td>\n",
       "      <td>1</td>\n",
       "      <td>0</td>\n",
       "      <td>0</td>\n",
       "      <td>0</td>\n",
       "      <td>0</td>\n",
       "      <td>1</td>\n",
       "      <td>0</td>\n",
       "    </tr>\n",
       "  </tbody>\n",
       "</table>\n",
       "<p>2 rows × 62 columns</p>\n",
       "</div>"
      ],
      "text/plain": [
       "        age  campaign  pdays  previous  emp.var.rate  cons.price.idx  \\\n",
       "38852  35.0       1.0  999.0       0.0          -3.4          92.649   \n",
       "17462  47.0       3.0  999.0       0.0           1.4          93.918   \n",
       "\n",
       "       cons.conf.idx  euribor3m  nr.employed  job_admin.  ...  month_oct  \\\n",
       "38852          -30.1      0.714       5017.5           0  ...          0   \n",
       "17462          -42.7      4.962       5228.1           0  ...          0   \n",
       "\n",
       "       month_sep  day_of_week_fri  day_of_week_mon  day_of_week_thu  \\\n",
       "38852          0                0                1                0   \n",
       "17462          0                0                1                0   \n",
       "\n",
       "       day_of_week_tue  day_of_week_wed  poutcome_failure  \\\n",
       "38852                0                0                 0   \n",
       "17462                0                0                 0   \n",
       "\n",
       "       poutcome_nonexistent  poutcome_success  \n",
       "38852                     1                 0  \n",
       "17462                     1                 0  \n",
       "\n",
       "[2 rows x 62 columns]"
      ]
     },
     "execution_count": 22,
     "metadata": {},
     "output_type": "execute_result"
    }
   ],
   "source": [
    "X_train_concat.head(2)"
   ]
  },
  {
   "cell_type": "code",
   "execution_count": 23,
   "metadata": {},
   "outputs": [
    {
     "data": {
      "text/plain": [
       "0"
      ]
     },
     "execution_count": 23,
     "metadata": {},
     "output_type": "execute_result"
    }
   ],
   "source": [
    "X_train_concat.isnull().any().sum()"
   ]
  },
  {
   "cell_type": "code",
   "execution_count": 24,
   "metadata": {},
   "outputs": [],
   "source": [
    "# Standardized Variable\n",
    "X_train_clean, scaler = dataStandarization(X_train_concat)"
   ]
  },
  {
   "cell_type": "code",
   "execution_count": 25,
   "metadata": {},
   "outputs": [
    {
     "data": {
      "text/html": [
       "<div>\n",
       "<style scoped>\n",
       "    .dataframe tbody tr th:only-of-type {\n",
       "        vertical-align: middle;\n",
       "    }\n",
       "\n",
       "    .dataframe tbody tr th {\n",
       "        vertical-align: top;\n",
       "    }\n",
       "\n",
       "    .dataframe thead th {\n",
       "        text-align: right;\n",
       "    }\n",
       "</style>\n",
       "<table border=\"1\" class=\"dataframe\">\n",
       "  <thead>\n",
       "    <tr style=\"text-align: right;\">\n",
       "      <th></th>\n",
       "      <th>age</th>\n",
       "      <th>campaign</th>\n",
       "      <th>pdays</th>\n",
       "      <th>previous</th>\n",
       "      <th>emp.var.rate</th>\n",
       "      <th>cons.price.idx</th>\n",
       "      <th>cons.conf.idx</th>\n",
       "      <th>euribor3m</th>\n",
       "      <th>nr.employed</th>\n",
       "      <th>job_admin.</th>\n",
       "      <th>...</th>\n",
       "      <th>month_oct</th>\n",
       "      <th>month_sep</th>\n",
       "      <th>day_of_week_fri</th>\n",
       "      <th>day_of_week_mon</th>\n",
       "      <th>day_of_week_thu</th>\n",
       "      <th>day_of_week_tue</th>\n",
       "      <th>day_of_week_wed</th>\n",
       "      <th>poutcome_failure</th>\n",
       "      <th>poutcome_nonexistent</th>\n",
       "      <th>poutcome_success</th>\n",
       "    </tr>\n",
       "  </thead>\n",
       "  <tbody>\n",
       "    <tr>\n",
       "      <th>38852</th>\n",
       "      <td>-0.484465</td>\n",
       "      <td>-0.566932</td>\n",
       "      <td>0.194257</td>\n",
       "      <td>-0.348581</td>\n",
       "      <td>-2.227561</td>\n",
       "      <td>-1.607972</td>\n",
       "      <td>2.249942</td>\n",
       "      <td>-1.685432</td>\n",
       "      <td>-2.082961</td>\n",
       "      <td>-0.584554</td>\n",
       "      <td>...</td>\n",
       "      <td>-0.134533</td>\n",
       "      <td>-0.115852</td>\n",
       "      <td>-0.485362</td>\n",
       "      <td>1.957191</td>\n",
       "      <td>-0.516827</td>\n",
       "      <td>-0.493089</td>\n",
       "      <td>-0.493647</td>\n",
       "      <td>-0.338574</td>\n",
       "      <td>0.396749</td>\n",
       "      <td>-0.185191</td>\n",
       "    </tr>\n",
       "    <tr>\n",
       "      <th>17462</th>\n",
       "      <td>0.672423</td>\n",
       "      <td>0.159255</td>\n",
       "      <td>0.194257</td>\n",
       "      <td>-0.348581</td>\n",
       "      <td>0.834933</td>\n",
       "      <td>0.586558</td>\n",
       "      <td>-0.475762</td>\n",
       "      <td>0.768882</td>\n",
       "      <td>0.842806</td>\n",
       "      <td>-0.584554</td>\n",
       "      <td>...</td>\n",
       "      <td>-0.134533</td>\n",
       "      <td>-0.115852</td>\n",
       "      <td>-0.485362</td>\n",
       "      <td>1.957191</td>\n",
       "      <td>-0.516827</td>\n",
       "      <td>-0.493089</td>\n",
       "      <td>-0.493647</td>\n",
       "      <td>-0.338574</td>\n",
       "      <td>0.396749</td>\n",
       "      <td>-0.185191</td>\n",
       "    </tr>\n",
       "    <tr>\n",
       "      <th>6254</th>\n",
       "      <td>0.961645</td>\n",
       "      <td>0.159255</td>\n",
       "      <td>0.194257</td>\n",
       "      <td>-0.348581</td>\n",
       "      <td>0.643528</td>\n",
       "      <td>0.717987</td>\n",
       "      <td>0.887090</td>\n",
       "      <td>0.708218</td>\n",
       "      <td>0.327393</td>\n",
       "      <td>-0.584554</td>\n",
       "      <td>...</td>\n",
       "      <td>-0.134533</td>\n",
       "      <td>-0.115852</td>\n",
       "      <td>-0.485362</td>\n",
       "      <td>-0.510936</td>\n",
       "      <td>-0.516827</td>\n",
       "      <td>2.028032</td>\n",
       "      <td>-0.493647</td>\n",
       "      <td>-0.338574</td>\n",
       "      <td>0.396749</td>\n",
       "      <td>-0.185191</td>\n",
       "    </tr>\n",
       "    <tr>\n",
       "      <th>31366</th>\n",
       "      <td>-0.388058</td>\n",
       "      <td>-0.203839</td>\n",
       "      <td>0.194257</td>\n",
       "      <td>1.676795</td>\n",
       "      <td>-1.206729</td>\n",
       "      <td>-1.186014</td>\n",
       "      <td>-1.232902</td>\n",
       "      <td>-1.327223</td>\n",
       "      <td>-0.949330</td>\n",
       "      <td>1.710704</td>\n",
       "      <td>...</td>\n",
       "      <td>-0.134533</td>\n",
       "      <td>-0.115852</td>\n",
       "      <td>-0.485362</td>\n",
       "      <td>-0.510936</td>\n",
       "      <td>-0.516827</td>\n",
       "      <td>-0.493089</td>\n",
       "      <td>2.025739</td>\n",
       "      <td>2.953566</td>\n",
       "      <td>-2.520487</td>\n",
       "      <td>-0.185191</td>\n",
       "    </tr>\n",
       "    <tr>\n",
       "      <th>27748</th>\n",
       "      <td>-0.195243</td>\n",
       "      <td>-0.566932</td>\n",
       "      <td>0.194257</td>\n",
       "      <td>-0.348581</td>\n",
       "      <td>-1.206729</td>\n",
       "      <td>-1.272481</td>\n",
       "      <td>-2.054939</td>\n",
       "      <td>-1.082831</td>\n",
       "      <td>-0.949330</td>\n",
       "      <td>-0.584554</td>\n",
       "      <td>...</td>\n",
       "      <td>-0.134533</td>\n",
       "      <td>-0.115852</td>\n",
       "      <td>-0.485362</td>\n",
       "      <td>-0.510936</td>\n",
       "      <td>1.934885</td>\n",
       "      <td>-0.493089</td>\n",
       "      <td>-0.493647</td>\n",
       "      <td>-0.338574</td>\n",
       "      <td>0.396749</td>\n",
       "      <td>-0.185191</td>\n",
       "    </tr>\n",
       "  </tbody>\n",
       "</table>\n",
       "<p>5 rows × 62 columns</p>\n",
       "</div>"
      ],
      "text/plain": [
       "            age  campaign     pdays  previous  emp.var.rate  cons.price.idx  \\\n",
       "38852 -0.484465 -0.566932  0.194257 -0.348581     -2.227561       -1.607972   \n",
       "17462  0.672423  0.159255  0.194257 -0.348581      0.834933        0.586558   \n",
       "6254   0.961645  0.159255  0.194257 -0.348581      0.643528        0.717987   \n",
       "31366 -0.388058 -0.203839  0.194257  1.676795     -1.206729       -1.186014   \n",
       "27748 -0.195243 -0.566932  0.194257 -0.348581     -1.206729       -1.272481   \n",
       "\n",
       "       cons.conf.idx  euribor3m  nr.employed  job_admin.  ...  month_oct  \\\n",
       "38852       2.249942  -1.685432    -2.082961   -0.584554  ...  -0.134533   \n",
       "17462      -0.475762   0.768882     0.842806   -0.584554  ...  -0.134533   \n",
       "6254        0.887090   0.708218     0.327393   -0.584554  ...  -0.134533   \n",
       "31366      -1.232902  -1.327223    -0.949330    1.710704  ...  -0.134533   \n",
       "27748      -2.054939  -1.082831    -0.949330   -0.584554  ...  -0.134533   \n",
       "\n",
       "       month_sep  day_of_week_fri  day_of_week_mon  day_of_week_thu  \\\n",
       "38852  -0.115852        -0.485362         1.957191        -0.516827   \n",
       "17462  -0.115852        -0.485362         1.957191        -0.516827   \n",
       "6254   -0.115852        -0.485362        -0.510936        -0.516827   \n",
       "31366  -0.115852        -0.485362        -0.510936        -0.516827   \n",
       "27748  -0.115852        -0.485362        -0.510936         1.934885   \n",
       "\n",
       "       day_of_week_tue  day_of_week_wed  poutcome_failure  \\\n",
       "38852        -0.493089        -0.493647         -0.338574   \n",
       "17462        -0.493089        -0.493647         -0.338574   \n",
       "6254          2.028032        -0.493647         -0.338574   \n",
       "31366        -0.493089         2.025739          2.953566   \n",
       "27748        -0.493089        -0.493647         -0.338574   \n",
       "\n",
       "       poutcome_nonexistent  poutcome_success  \n",
       "38852              0.396749         -0.185191  \n",
       "17462              0.396749         -0.185191  \n",
       "6254               0.396749         -0.185191  \n",
       "31366             -2.520487         -0.185191  \n",
       "27748              0.396749         -0.185191  \n",
       "\n",
       "[5 rows x 62 columns]"
      ]
     },
     "execution_count": 25,
     "metadata": {},
     "output_type": "execute_result"
    }
   ],
   "source": [
    "X_train_clean.head()"
   ]
  },
  {
   "cell_type": "code",
   "execution_count": 26,
   "metadata": {},
   "outputs": [
    {
     "data": {
      "text/plain": [
       "no     0.887831\n",
       "yes    0.112169\n",
       "Name: y, dtype: float64"
      ]
     },
     "execution_count": 26,
     "metadata": {},
     "output_type": "execute_result"
    }
   ],
   "source": [
    "# Define Baseline\n",
    "y_train.value_counts(normalize=True)"
   ]
  },
  {
   "attachments": {},
   "cell_type": "markdown",
   "metadata": {},
   "source": [
    "##### **Model Fitting**"
   ]
  },
  {
   "cell_type": "code",
   "execution_count": 27,
   "metadata": {},
   "outputs": [
    {
     "data": {
      "text/html": [
       "<style>#sk-container-id-1 {color: black;background-color: white;}#sk-container-id-1 pre{padding: 0;}#sk-container-id-1 div.sk-toggleable {background-color: white;}#sk-container-id-1 label.sk-toggleable__label {cursor: pointer;display: block;width: 100%;margin-bottom: 0;padding: 0.3em;box-sizing: border-box;text-align: center;}#sk-container-id-1 label.sk-toggleable__label-arrow:before {content: \"▸\";float: left;margin-right: 0.25em;color: #696969;}#sk-container-id-1 label.sk-toggleable__label-arrow:hover:before {color: black;}#sk-container-id-1 div.sk-estimator:hover label.sk-toggleable__label-arrow:before {color: black;}#sk-container-id-1 div.sk-toggleable__content {max-height: 0;max-width: 0;overflow: hidden;text-align: left;background-color: #f0f8ff;}#sk-container-id-1 div.sk-toggleable__content pre {margin: 0.2em;color: black;border-radius: 0.25em;background-color: #f0f8ff;}#sk-container-id-1 input.sk-toggleable__control:checked~div.sk-toggleable__content {max-height: 200px;max-width: 100%;overflow: auto;}#sk-container-id-1 input.sk-toggleable__control:checked~label.sk-toggleable__label-arrow:before {content: \"▾\";}#sk-container-id-1 div.sk-estimator input.sk-toggleable__control:checked~label.sk-toggleable__label {background-color: #d4ebff;}#sk-container-id-1 div.sk-label input.sk-toggleable__control:checked~label.sk-toggleable__label {background-color: #d4ebff;}#sk-container-id-1 input.sk-hidden--visually {border: 0;clip: rect(1px 1px 1px 1px);clip: rect(1px, 1px, 1px, 1px);height: 1px;margin: -1px;overflow: hidden;padding: 0;position: absolute;width: 1px;}#sk-container-id-1 div.sk-estimator {font-family: monospace;background-color: #f0f8ff;border: 1px dotted black;border-radius: 0.25em;box-sizing: border-box;margin-bottom: 0.5em;}#sk-container-id-1 div.sk-estimator:hover {background-color: #d4ebff;}#sk-container-id-1 div.sk-parallel-item::after {content: \"\";width: 100%;border-bottom: 1px solid gray;flex-grow: 1;}#sk-container-id-1 div.sk-label:hover label.sk-toggleable__label {background-color: #d4ebff;}#sk-container-id-1 div.sk-serial::before {content: \"\";position: absolute;border-left: 1px solid gray;box-sizing: border-box;top: 0;bottom: 0;left: 50%;z-index: 0;}#sk-container-id-1 div.sk-serial {display: flex;flex-direction: column;align-items: center;background-color: white;padding-right: 0.2em;padding-left: 0.2em;position: relative;}#sk-container-id-1 div.sk-item {position: relative;z-index: 1;}#sk-container-id-1 div.sk-parallel {display: flex;align-items: stretch;justify-content: center;background-color: white;position: relative;}#sk-container-id-1 div.sk-item::before, #sk-container-id-1 div.sk-parallel-item::before {content: \"\";position: absolute;border-left: 1px solid gray;box-sizing: border-box;top: 0;bottom: 0;left: 50%;z-index: -1;}#sk-container-id-1 div.sk-parallel-item {display: flex;flex-direction: column;z-index: 1;position: relative;background-color: white;}#sk-container-id-1 div.sk-parallel-item:first-child::after {align-self: flex-end;width: 50%;}#sk-container-id-1 div.sk-parallel-item:last-child::after {align-self: flex-start;width: 50%;}#sk-container-id-1 div.sk-parallel-item:only-child::after {width: 0;}#sk-container-id-1 div.sk-dashed-wrapped {border: 1px dashed gray;margin: 0 0.4em 0.5em 0.4em;box-sizing: border-box;padding-bottom: 0.4em;background-color: white;}#sk-container-id-1 div.sk-label label {font-family: monospace;font-weight: bold;display: inline-block;line-height: 1.2em;}#sk-container-id-1 div.sk-label-container {text-align: center;}#sk-container-id-1 div.sk-container {/* jupyter's `normalize.less` sets `[hidden] { display: none; }` but bootstrap.min.css set `[hidden] { display: none !important; }` so we also need the `!important` here to be able to override the default hidden behavior on the sphinx rendered scikit-learn.org. See: https://github.com/scikit-learn/scikit-learn/issues/21755 */display: inline-block !important;position: relative;}#sk-container-id-1 div.sk-text-repr-fallback {display: none;}</style><div id=\"sk-container-id-1\" class=\"sk-top-container\"><div class=\"sk-text-repr-fallback\"><pre>KNeighborsClassifier(n_neighbors=10)</pre><b>In a Jupyter environment, please rerun this cell to show the HTML representation or trust the notebook. <br />On GitHub, the HTML representation is unable to render, please try loading this page with nbviewer.org.</b></div><div class=\"sk-container\" hidden><div class=\"sk-item\"><div class=\"sk-estimator sk-toggleable\"><input class=\"sk-toggleable__control sk-hidden--visually\" id=\"sk-estimator-id-1\" type=\"checkbox\" checked><label for=\"sk-estimator-id-1\" class=\"sk-toggleable__label sk-toggleable__label-arrow\">KNeighborsClassifier</label><div class=\"sk-toggleable__content\"><pre>KNeighborsClassifier(n_neighbors=10)</pre></div></div></div></div></div>"
      ],
      "text/plain": [
       "KNeighborsClassifier(n_neighbors=10)"
      ]
     },
     "execution_count": 27,
     "metadata": {},
     "output_type": "execute_result"
    }
   ],
   "source": [
    "# Fitting Model with KNN\n",
    "\n",
    "knn = KNeighborsClassifier(n_neighbors=10)\n",
    "knn.fit(X_train_clean, y_train)"
   ]
  },
  {
   "cell_type": "code",
   "execution_count": 28,
   "metadata": {},
   "outputs": [
    {
     "data": {
      "text/html": [
       "<style>#sk-container-id-2 {color: black;background-color: white;}#sk-container-id-2 pre{padding: 0;}#sk-container-id-2 div.sk-toggleable {background-color: white;}#sk-container-id-2 label.sk-toggleable__label {cursor: pointer;display: block;width: 100%;margin-bottom: 0;padding: 0.3em;box-sizing: border-box;text-align: center;}#sk-container-id-2 label.sk-toggleable__label-arrow:before {content: \"▸\";float: left;margin-right: 0.25em;color: #696969;}#sk-container-id-2 label.sk-toggleable__label-arrow:hover:before {color: black;}#sk-container-id-2 div.sk-estimator:hover label.sk-toggleable__label-arrow:before {color: black;}#sk-container-id-2 div.sk-toggleable__content {max-height: 0;max-width: 0;overflow: hidden;text-align: left;background-color: #f0f8ff;}#sk-container-id-2 div.sk-toggleable__content pre {margin: 0.2em;color: black;border-radius: 0.25em;background-color: #f0f8ff;}#sk-container-id-2 input.sk-toggleable__control:checked~div.sk-toggleable__content {max-height: 200px;max-width: 100%;overflow: auto;}#sk-container-id-2 input.sk-toggleable__control:checked~label.sk-toggleable__label-arrow:before {content: \"▾\";}#sk-container-id-2 div.sk-estimator input.sk-toggleable__control:checked~label.sk-toggleable__label {background-color: #d4ebff;}#sk-container-id-2 div.sk-label input.sk-toggleable__control:checked~label.sk-toggleable__label {background-color: #d4ebff;}#sk-container-id-2 input.sk-hidden--visually {border: 0;clip: rect(1px 1px 1px 1px);clip: rect(1px, 1px, 1px, 1px);height: 1px;margin: -1px;overflow: hidden;padding: 0;position: absolute;width: 1px;}#sk-container-id-2 div.sk-estimator {font-family: monospace;background-color: #f0f8ff;border: 1px dotted black;border-radius: 0.25em;box-sizing: border-box;margin-bottom: 0.5em;}#sk-container-id-2 div.sk-estimator:hover {background-color: #d4ebff;}#sk-container-id-2 div.sk-parallel-item::after {content: \"\";width: 100%;border-bottom: 1px solid gray;flex-grow: 1;}#sk-container-id-2 div.sk-label:hover label.sk-toggleable__label {background-color: #d4ebff;}#sk-container-id-2 div.sk-serial::before {content: \"\";position: absolute;border-left: 1px solid gray;box-sizing: border-box;top: 0;bottom: 0;left: 50%;z-index: 0;}#sk-container-id-2 div.sk-serial {display: flex;flex-direction: column;align-items: center;background-color: white;padding-right: 0.2em;padding-left: 0.2em;position: relative;}#sk-container-id-2 div.sk-item {position: relative;z-index: 1;}#sk-container-id-2 div.sk-parallel {display: flex;align-items: stretch;justify-content: center;background-color: white;position: relative;}#sk-container-id-2 div.sk-item::before, #sk-container-id-2 div.sk-parallel-item::before {content: \"\";position: absolute;border-left: 1px solid gray;box-sizing: border-box;top: 0;bottom: 0;left: 50%;z-index: -1;}#sk-container-id-2 div.sk-parallel-item {display: flex;flex-direction: column;z-index: 1;position: relative;background-color: white;}#sk-container-id-2 div.sk-parallel-item:first-child::after {align-self: flex-end;width: 50%;}#sk-container-id-2 div.sk-parallel-item:last-child::after {align-self: flex-start;width: 50%;}#sk-container-id-2 div.sk-parallel-item:only-child::after {width: 0;}#sk-container-id-2 div.sk-dashed-wrapped {border: 1px dashed gray;margin: 0 0.4em 0.5em 0.4em;box-sizing: border-box;padding-bottom: 0.4em;background-color: white;}#sk-container-id-2 div.sk-label label {font-family: monospace;font-weight: bold;display: inline-block;line-height: 1.2em;}#sk-container-id-2 div.sk-label-container {text-align: center;}#sk-container-id-2 div.sk-container {/* jupyter's `normalize.less` sets `[hidden] { display: none; }` but bootstrap.min.css set `[hidden] { display: none !important; }` so we also need the `!important` here to be able to override the default hidden behavior on the sphinx rendered scikit-learn.org. See: https://github.com/scikit-learn/scikit-learn/issues/21755 */display: inline-block !important;position: relative;}#sk-container-id-2 div.sk-text-repr-fallback {display: none;}</style><div id=\"sk-container-id-2\" class=\"sk-top-container\"><div class=\"sk-text-repr-fallback\"><pre>DecisionTreeClassifier(criterion=&#x27;entropy&#x27;, max_depth=10, random_state=0)</pre><b>In a Jupyter environment, please rerun this cell to show the HTML representation or trust the notebook. <br />On GitHub, the HTML representation is unable to render, please try loading this page with nbviewer.org.</b></div><div class=\"sk-container\" hidden><div class=\"sk-item\"><div class=\"sk-estimator sk-toggleable\"><input class=\"sk-toggleable__control sk-hidden--visually\" id=\"sk-estimator-id-2\" type=\"checkbox\" checked><label for=\"sk-estimator-id-2\" class=\"sk-toggleable__label sk-toggleable__label-arrow\">DecisionTreeClassifier</label><div class=\"sk-toggleable__content\"><pre>DecisionTreeClassifier(criterion=&#x27;entropy&#x27;, max_depth=10, random_state=0)</pre></div></div></div></div></div>"
      ],
      "text/plain": [
       "DecisionTreeClassifier(criterion='entropy', max_depth=10, random_state=0)"
      ]
     },
     "execution_count": 28,
     "metadata": {},
     "output_type": "execute_result"
    }
   ],
   "source": [
    "# Fitting Model with Decision Tree\n",
    "\n",
    "dec_tree = DecisionTreeClassifier(criterion=\"entropy\",\n",
    "                                  max_depth=10,\n",
    "                                  random_state=0)\n",
    "dec_tree.fit(X_train_clean, y_train)"
   ]
  },
  {
   "attachments": {},
   "cell_type": "markdown",
   "metadata": {},
   "source": [
    "##### **Model Prediction**"
   ]
  },
  {
   "cell_type": "code",
   "execution_count": 29,
   "metadata": {},
   "outputs": [
    {
     "data": {
      "text/plain": [
       "0.9044750987630334"
      ]
     },
     "execution_count": 29,
     "metadata": {},
     "output_type": "execute_result"
    }
   ],
   "source": [
    "# KNN Prediction\n",
    "knn_score = knn.score(X_train_clean, y_train)\n",
    "knn_score"
   ]
  },
  {
   "cell_type": "code",
   "execution_count": 30,
   "metadata": {},
   "outputs": [
    {
     "data": {
      "text/plain": [
       "0.9143514021112622"
      ]
     },
     "execution_count": 30,
     "metadata": {},
     "output_type": "execute_result"
    }
   ],
   "source": [
    "dec_tree_score = dec_tree.score(X_train_clean, y_train)\n",
    "dec_tree_score"
   ]
  },
  {
   "attachments": {},
   "cell_type": "markdown",
   "metadata": {},
   "source": [
    "##### **Test Prediction**"
   ]
  },
  {
   "attachments": {},
   "cell_type": "markdown",
   "metadata": {},
   "source": [
    "**<p>Test Data Preprocessing<p>**"
   ]
  },
  {
   "cell_type": "code",
   "execution_count": 36,
   "metadata": {},
   "outputs": [],
   "source": [
    "X_test_clean = testDataProcessing(data=X_test,\n",
    "                                  numerical_columns=numerical_columns,\n",
    "                                  categorical_columns=categorical_columns,\n",
    "                                  numerical_imputer=numerical_imputer,\n",
    "                                  scaler=scaler)"
   ]
  },
  {
   "cell_type": "code",
   "execution_count": 37,
   "metadata": {},
   "outputs": [
    {
     "data": {
      "text/html": [
       "<div>\n",
       "<style scoped>\n",
       "    .dataframe tbody tr th:only-of-type {\n",
       "        vertical-align: middle;\n",
       "    }\n",
       "\n",
       "    .dataframe tbody tr th {\n",
       "        vertical-align: top;\n",
       "    }\n",
       "\n",
       "    .dataframe thead th {\n",
       "        text-align: right;\n",
       "    }\n",
       "</style>\n",
       "<table border=\"1\" class=\"dataframe\">\n",
       "  <thead>\n",
       "    <tr style=\"text-align: right;\">\n",
       "      <th></th>\n",
       "      <th>age</th>\n",
       "      <th>campaign</th>\n",
       "      <th>pdays</th>\n",
       "      <th>previous</th>\n",
       "      <th>emp.var.rate</th>\n",
       "      <th>cons.price.idx</th>\n",
       "      <th>cons.conf.idx</th>\n",
       "      <th>euribor3m</th>\n",
       "      <th>nr.employed</th>\n",
       "      <th>job_admin.</th>\n",
       "      <th>...</th>\n",
       "      <th>month_oct</th>\n",
       "      <th>month_sep</th>\n",
       "      <th>day_of_week_fri</th>\n",
       "      <th>day_of_week_mon</th>\n",
       "      <th>day_of_week_thu</th>\n",
       "      <th>day_of_week_tue</th>\n",
       "      <th>day_of_week_wed</th>\n",
       "      <th>poutcome_failure</th>\n",
       "      <th>poutcome_nonexistent</th>\n",
       "      <th>poutcome_success</th>\n",
       "    </tr>\n",
       "  </thead>\n",
       "  <tbody>\n",
       "    <tr>\n",
       "      <th>0</th>\n",
       "      <td>-1.062910</td>\n",
       "      <td>-0.566932</td>\n",
       "      <td>0.194257</td>\n",
       "      <td>-0.348581</td>\n",
       "      <td>0.643528</td>\n",
       "      <td>0.717987</td>\n",
       "      <td>0.887090</td>\n",
       "      <td>0.709373</td>\n",
       "      <td>0.327393</td>\n",
       "      <td>-0.584554</td>\n",
       "      <td>...</td>\n",
       "      <td>-0.134533</td>\n",
       "      <td>-0.115852</td>\n",
       "      <td>-0.485362</td>\n",
       "      <td>-0.510936</td>\n",
       "      <td>-0.516827</td>\n",
       "      <td>-0.493089</td>\n",
       "      <td>2.025739</td>\n",
       "      <td>-0.338574</td>\n",
       "      <td>0.396749</td>\n",
       "      <td>-0.185191</td>\n",
       "    </tr>\n",
       "    <tr>\n",
       "      <th>1</th>\n",
       "      <td>1.443681</td>\n",
       "      <td>0.159255</td>\n",
       "      <td>0.194257</td>\n",
       "      <td>-0.348581</td>\n",
       "      <td>0.834933</td>\n",
       "      <td>0.586558</td>\n",
       "      <td>-0.475762</td>\n",
       "      <td>0.768882</td>\n",
       "      <td>0.842806</td>\n",
       "      <td>-0.584554</td>\n",
       "      <td>...</td>\n",
       "      <td>-0.134533</td>\n",
       "      <td>-0.115852</td>\n",
       "      <td>-0.485362</td>\n",
       "      <td>-0.510936</td>\n",
       "      <td>-0.516827</td>\n",
       "      <td>2.028032</td>\n",
       "      <td>-0.493647</td>\n",
       "      <td>-0.338574</td>\n",
       "      <td>0.396749</td>\n",
       "      <td>-0.185191</td>\n",
       "    </tr>\n",
       "  </tbody>\n",
       "</table>\n",
       "<p>2 rows × 62 columns</p>\n",
       "</div>"
      ],
      "text/plain": [
       "        age  campaign     pdays  previous  emp.var.rate  cons.price.idx  \\\n",
       "0 -1.062910 -0.566932  0.194257 -0.348581      0.643528        0.717987   \n",
       "1  1.443681  0.159255  0.194257 -0.348581      0.834933        0.586558   \n",
       "\n",
       "   cons.conf.idx  euribor3m  nr.employed  job_admin.  ...  month_oct  \\\n",
       "0       0.887090   0.709373     0.327393   -0.584554  ...  -0.134533   \n",
       "1      -0.475762   0.768882     0.842806   -0.584554  ...  -0.134533   \n",
       "\n",
       "   month_sep  day_of_week_fri  day_of_week_mon  day_of_week_thu  \\\n",
       "0  -0.115852        -0.485362        -0.510936        -0.516827   \n",
       "1  -0.115852        -0.485362        -0.510936        -0.516827   \n",
       "\n",
       "   day_of_week_tue  day_of_week_wed  poutcome_failure  poutcome_nonexistent  \\\n",
       "0        -0.493089         2.025739         -0.338574              0.396749   \n",
       "1         2.028032        -0.493647         -0.338574              0.396749   \n",
       "\n",
       "   poutcome_success  \n",
       "0         -0.185191  \n",
       "1         -0.185191  \n",
       "\n",
       "[2 rows x 62 columns]"
      ]
     },
     "execution_count": 37,
     "metadata": {},
     "output_type": "execute_result"
    }
   ],
   "source": [
    "X_test_clean.head(2)"
   ]
  },
  {
   "cell_type": "code",
   "execution_count": 38,
   "metadata": {},
   "outputs": [
    {
     "data": {
      "text/html": [
       "<div>\n",
       "<style scoped>\n",
       "    .dataframe tbody tr th:only-of-type {\n",
       "        vertical-align: middle;\n",
       "    }\n",
       "\n",
       "    .dataframe tbody tr th {\n",
       "        vertical-align: top;\n",
       "    }\n",
       "\n",
       "    .dataframe thead th {\n",
       "        text-align: right;\n",
       "    }\n",
       "</style>\n",
       "<table border=\"1\" class=\"dataframe\">\n",
       "  <thead>\n",
       "    <tr style=\"text-align: right;\">\n",
       "      <th></th>\n",
       "      <th>age</th>\n",
       "      <th>campaign</th>\n",
       "      <th>pdays</th>\n",
       "      <th>previous</th>\n",
       "      <th>emp.var.rate</th>\n",
       "      <th>cons.price.idx</th>\n",
       "      <th>cons.conf.idx</th>\n",
       "      <th>euribor3m</th>\n",
       "      <th>nr.employed</th>\n",
       "      <th>job_admin.</th>\n",
       "      <th>...</th>\n",
       "      <th>month_oct</th>\n",
       "      <th>month_sep</th>\n",
       "      <th>day_of_week_fri</th>\n",
       "      <th>day_of_week_mon</th>\n",
       "      <th>day_of_week_thu</th>\n",
       "      <th>day_of_week_tue</th>\n",
       "      <th>day_of_week_wed</th>\n",
       "      <th>poutcome_failure</th>\n",
       "      <th>poutcome_nonexistent</th>\n",
       "      <th>poutcome_success</th>\n",
       "    </tr>\n",
       "  </thead>\n",
       "  <tbody>\n",
       "    <tr>\n",
       "      <th>38852</th>\n",
       "      <td>-0.484465</td>\n",
       "      <td>-0.566932</td>\n",
       "      <td>0.194257</td>\n",
       "      <td>-0.348581</td>\n",
       "      <td>-2.227561</td>\n",
       "      <td>-1.607972</td>\n",
       "      <td>2.249942</td>\n",
       "      <td>-1.685432</td>\n",
       "      <td>-2.082961</td>\n",
       "      <td>-0.584554</td>\n",
       "      <td>...</td>\n",
       "      <td>-0.134533</td>\n",
       "      <td>-0.115852</td>\n",
       "      <td>-0.485362</td>\n",
       "      <td>1.957191</td>\n",
       "      <td>-0.516827</td>\n",
       "      <td>-0.493089</td>\n",
       "      <td>-0.493647</td>\n",
       "      <td>-0.338574</td>\n",
       "      <td>0.396749</td>\n",
       "      <td>-0.185191</td>\n",
       "    </tr>\n",
       "    <tr>\n",
       "      <th>17462</th>\n",
       "      <td>0.672423</td>\n",
       "      <td>0.159255</td>\n",
       "      <td>0.194257</td>\n",
       "      <td>-0.348581</td>\n",
       "      <td>0.834933</td>\n",
       "      <td>0.586558</td>\n",
       "      <td>-0.475762</td>\n",
       "      <td>0.768882</td>\n",
       "      <td>0.842806</td>\n",
       "      <td>-0.584554</td>\n",
       "      <td>...</td>\n",
       "      <td>-0.134533</td>\n",
       "      <td>-0.115852</td>\n",
       "      <td>-0.485362</td>\n",
       "      <td>1.957191</td>\n",
       "      <td>-0.516827</td>\n",
       "      <td>-0.493089</td>\n",
       "      <td>-0.493647</td>\n",
       "      <td>-0.338574</td>\n",
       "      <td>0.396749</td>\n",
       "      <td>-0.185191</td>\n",
       "    </tr>\n",
       "  </tbody>\n",
       "</table>\n",
       "<p>2 rows × 62 columns</p>\n",
       "</div>"
      ],
      "text/plain": [
       "            age  campaign     pdays  previous  emp.var.rate  cons.price.idx  \\\n",
       "38852 -0.484465 -0.566932  0.194257 -0.348581     -2.227561       -1.607972   \n",
       "17462  0.672423  0.159255  0.194257 -0.348581      0.834933        0.586558   \n",
       "\n",
       "       cons.conf.idx  euribor3m  nr.employed  job_admin.  ...  month_oct  \\\n",
       "38852       2.249942  -1.685432    -2.082961   -0.584554  ...  -0.134533   \n",
       "17462      -0.475762   0.768882     0.842806   -0.584554  ...  -0.134533   \n",
       "\n",
       "       month_sep  day_of_week_fri  day_of_week_mon  day_of_week_thu  \\\n",
       "38852  -0.115852        -0.485362         1.957191        -0.516827   \n",
       "17462  -0.115852        -0.485362         1.957191        -0.516827   \n",
       "\n",
       "       day_of_week_tue  day_of_week_wed  poutcome_failure  \\\n",
       "38852        -0.493089        -0.493647         -0.338574   \n",
       "17462        -0.493089        -0.493647         -0.338574   \n",
       "\n",
       "       poutcome_nonexistent  poutcome_success  \n",
       "38852              0.396749         -0.185191  \n",
       "17462              0.396749         -0.185191  \n",
       "\n",
       "[2 rows x 62 columns]"
      ]
     },
     "execution_count": 38,
     "metadata": {},
     "output_type": "execute_result"
    }
   ],
   "source": [
    "X_train_clean.head(2)"
   ]
  },
  {
   "attachments": {},
   "cell_type": "markdown",
   "metadata": {},
   "source": [
    "**<p>Evaluate Model Performance</p>**"
   ]
  },
  {
   "cell_type": "code",
   "execution_count": 39,
   "metadata": {},
   "outputs": [
    {
     "data": {
      "text/plain": [
       "0.8945016514474451"
      ]
     },
     "execution_count": 39,
     "metadata": {},
     "output_type": "execute_result"
    }
   ],
   "source": [
    "knn_test_score = knn.score(X_test_clean, y_test)\n",
    "knn_test_score"
   ]
  },
  {
   "cell_type": "code",
   "execution_count": 40,
   "metadata": {},
   "outputs": [
    {
     "data": {
      "text/plain": [
       "0.8943073635127259"
      ]
     },
     "execution_count": 40,
     "metadata": {},
     "output_type": "execute_result"
    }
   ],
   "source": [
    "dt_test_score = dec_tree.score(X_test_clean, y_test)\n",
    "dt_test_score"
   ]
  }
 ],
 "metadata": {
  "kernelspec": {
   "display_name": "Python 3",
   "language": "python",
   "name": "python3"
  },
  "language_info": {
   "codemirror_mode": {
    "name": "ipython",
    "version": 3
   },
   "file_extension": ".py",
   "mimetype": "text/x-python",
   "name": "python",
   "nbconvert_exporter": "python",
   "pygments_lexer": "ipython3",
   "version": "3.10.0"
  },
  "orig_nbformat": 4,
  "vscode": {
   "interpreter": {
    "hash": "ec71345ca5d37a0e9a74c52dd4df8f08155a9116efa2c99cb350734e2b4aad3e"
   }
  }
 },
 "nbformat": 4,
 "nbformat_minor": 2
}
